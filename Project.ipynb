{
 "cells": [
  {
   "cell_type": "markdown",
   "metadata": {
    "toc": true
   },
   "source": [
    "<h1>Содержание<span class=\"tocSkip\"></span></h1>\n",
    "<div class=\"toc\"><ul class=\"toc-item\"><li><span><a href=\"#ff\" data-toc-modified-id=\"ff-1\"><span class=\"toc-item-num\">1&nbsp;&nbsp;</span>ff</a></span></li><li><span><a href=\"#Подготовка-данных\" data-toc-modified-id=\"Подготовка-данных-2\"><span class=\"toc-item-num\">2&nbsp;&nbsp;</span>Подготовка данных</a></span><ul class=\"toc-item\"><li><span><a href=\"#Проверка-пропусков\" data-toc-modified-id=\"Проверка-пропусков-2.1\"><span class=\"toc-item-num\">2.1&nbsp;&nbsp;</span>Проверка пропусков</a></span></li><li><span><a href=\"#Проверка-на-дубликаты\" data-toc-modified-id=\"Проверка-на-дубликаты-2.2\"><span class=\"toc-item-num\">2.2&nbsp;&nbsp;</span>Проверка на дубликаты</a></span></li><li><span><a href=\"#Проверка-количественных-значений\" data-toc-modified-id=\"Проверка-количественных-значений-2.3\"><span class=\"toc-item-num\">2.3&nbsp;&nbsp;</span>Проверка количественных значений</a></span><ul class=\"toc-item\"><li><span><a href=\"#Столбец-'CreditScore'\" data-toc-modified-id=\"Столбец-'CreditScore'-2.3.1\"><span class=\"toc-item-num\">2.3.1&nbsp;&nbsp;</span>Столбец 'CreditScore'</a></span></li><li><span><a href=\"#Столбец-'Age'\" data-toc-modified-id=\"Столбец-'Age'-2.3.2\"><span class=\"toc-item-num\">2.3.2&nbsp;&nbsp;</span>Столбец 'Age'</a></span></li><li><span><a href=\"#Столбец-'Balance'\" data-toc-modified-id=\"Столбец-'Balance'-2.3.3\"><span class=\"toc-item-num\">2.3.3&nbsp;&nbsp;</span>Столбец 'Balance'</a></span></li><li><span><a href=\"#Столбец-'EstimatedSalary'\" data-toc-modified-id=\"Столбец-'EstimatedSalary'-2.3.4\"><span class=\"toc-item-num\">2.3.4&nbsp;&nbsp;</span>Столбец 'EstimatedSalary'</a></span></li></ul></li><li><span><a href=\"#Кодирование-признаков\" data-toc-modified-id=\"Кодирование-признаков-2.4\"><span class=\"toc-item-num\">2.4&nbsp;&nbsp;</span>Кодирование признаков</a></span></li><li><span><a href=\"#Масштабирование-признаков\" data-toc-modified-id=\"Масштабирование-признаков-2.5\"><span class=\"toc-item-num\">2.5&nbsp;&nbsp;</span>Масштабирование признаков</a></span></li><li><span><a href=\"#Вывод\" data-toc-modified-id=\"Вывод-2.6\"><span class=\"toc-item-num\">2.6&nbsp;&nbsp;</span>Вывод</a></span></li></ul></li><li><span><a href=\"#Исследование-задачи\" data-toc-modified-id=\"Исследование-задачи-3\"><span class=\"toc-item-num\">3&nbsp;&nbsp;</span>Исследование задачи</a></span><ul class=\"toc-item\"><li><span><a href=\"#Баланс-классов\" data-toc-modified-id=\"Баланс-классов-3.1\"><span class=\"toc-item-num\">3.1&nbsp;&nbsp;</span>Баланс классов</a></span></li><li><span><a href=\"#Разделение-признаков\" data-toc-modified-id=\"Разделение-признаков-3.2\"><span class=\"toc-item-num\">3.2&nbsp;&nbsp;</span>Разделение признаков</a></span></li><li><span><a href=\"#Обучение-модели\" data-toc-modified-id=\"Обучение-модели-3.3\"><span class=\"toc-item-num\">3.3&nbsp;&nbsp;</span>Обучение модели</a></span><ul class=\"toc-item\"><li><span><a href=\"#Модель-&quot;Решающего-дерева&quot;\" data-toc-modified-id=\"Модель-&quot;Решающего-дерева&quot;-3.3.1\"><span class=\"toc-item-num\">3.3.1&nbsp;&nbsp;</span>Модель \"Решающего дерева\"</a></span></li><li><span><a href=\"#Модель-&quot;Случайного-леса&quot;\" data-toc-modified-id=\"Модель-&quot;Случайного-леса&quot;-3.3.2\"><span class=\"toc-item-num\">3.3.2&nbsp;&nbsp;</span>Модель \"Случайного леса\"</a></span></li><li><span><a href=\"#Модель-Логиcтической-регрессии\" data-toc-modified-id=\"Модель-Логиcтической-регрессии-3.3.3\"><span class=\"toc-item-num\">3.3.3&nbsp;&nbsp;</span>Модель Логиcтической регрессии</a></span></li><li><span><a href=\"#Результаты-на-тестовой-выборке\" data-toc-modified-id=\"Результаты-на-тестовой-выборке-3.3.4\"><span class=\"toc-item-num\">3.3.4&nbsp;&nbsp;</span>Результаты на тестовой выборке</a></span></li></ul></li><li><span><a href=\"#Вывод\" data-toc-modified-id=\"Вывод-3.4\"><span class=\"toc-item-num\">3.4&nbsp;&nbsp;</span>Вывод</a></span></li></ul></li><li><span><a href=\"#Борьба-с-дисбалансом\" data-toc-modified-id=\"Борьба-с-дисбалансом-4\"><span class=\"toc-item-num\">4&nbsp;&nbsp;</span>Борьба с дисбалансом</a></span><ul class=\"toc-item\"><li><span><a href=\"#Class-weight\" data-toc-modified-id=\"Class-weight-4.1\"><span class=\"toc-item-num\">4.1&nbsp;&nbsp;</span>Class weight</a></span><ul class=\"toc-item\"><li><span><a href=\"#Модель-&quot;Решающего-дерева&quot;\" data-toc-modified-id=\"Модель-&quot;Решающего-дерева&quot;-4.1.1\"><span class=\"toc-item-num\">4.1.1&nbsp;&nbsp;</span>Модель \"Решающего дерева\"</a></span></li><li><span><a href=\"#Модель-&quot;Случайного-леса&quot;\" data-toc-modified-id=\"Модель-&quot;Случайного-леса&quot;-4.1.2\"><span class=\"toc-item-num\">4.1.2&nbsp;&nbsp;</span>Модель \"Случайного леса\"</a></span></li><li><span><a href=\"#Модель-Логиcтической-регрессии\" data-toc-modified-id=\"Модель-Логиcтической-регрессии-4.1.3\"><span class=\"toc-item-num\">4.1.3&nbsp;&nbsp;</span>Модель Логиcтической регрессии</a></span></li><li><span><a href=\"#Результаты-class_weight\" data-toc-modified-id=\"Результаты-class_weight-4.1.4\"><span class=\"toc-item-num\">4.1.4&nbsp;&nbsp;</span>Результаты class_weight</a></span></li></ul></li><li><span><a href=\"#Upsampling\" data-toc-modified-id=\"Upsampling-4.2\"><span class=\"toc-item-num\">4.2&nbsp;&nbsp;</span>Upsampling</a></span><ul class=\"toc-item\"><li><span><a href=\"#Увеличение-выборки\" data-toc-modified-id=\"Увеличение-выборки-4.2.1\"><span class=\"toc-item-num\">4.2.1&nbsp;&nbsp;</span>Увеличение выборки</a></span></li><li><span><a href=\"#Модель-&quot;Решающего-дерева&quot;\" data-toc-modified-id=\"Модель-&quot;Решающего-дерева&quot;-4.2.2\"><span class=\"toc-item-num\">4.2.2&nbsp;&nbsp;</span>Модель \"Решающего дерева\"</a></span></li><li><span><a href=\"#Модель-&quot;Случайного-леса&quot;\" data-toc-modified-id=\"Модель-&quot;Случайного-леса&quot;-4.2.3\"><span class=\"toc-item-num\">4.2.3&nbsp;&nbsp;</span>Модель \"Случайного леса\"</a></span></li><li><span><a href=\"#Модель-Логиcтической-регрессии\" data-toc-modified-id=\"Модель-Логиcтической-регрессии-4.2.4\"><span class=\"toc-item-num\">4.2.4&nbsp;&nbsp;</span>Модель Логиcтической регрессии</a></span></li><li><span><a href=\"#Результаты-upsampling\" data-toc-modified-id=\"Результаты-upsampling-4.2.5\"><span class=\"toc-item-num\">4.2.5&nbsp;&nbsp;</span>Результаты upsampling</a></span></li></ul></li><li><span><a href=\"#Downsampling\" data-toc-modified-id=\"Downsampling-4.3\"><span class=\"toc-item-num\">4.3&nbsp;&nbsp;</span>Downsampling</a></span><ul class=\"toc-item\"><li><span><a href=\"#Уменьшение-выборки\" data-toc-modified-id=\"Уменьшение-выборки-4.3.1\"><span class=\"toc-item-num\">4.3.1&nbsp;&nbsp;</span>Уменьшение выборки</a></span></li><li><span><a href=\"#Модель-&quot;Решающего-дерева&quot;\" data-toc-modified-id=\"Модель-&quot;Решающего-дерева&quot;-4.3.2\"><span class=\"toc-item-num\">4.3.2&nbsp;&nbsp;</span>Модель \"Решающего дерева\"</a></span></li><li><span><a href=\"#Модель-&quot;Случайного-леса&quot;\" data-toc-modified-id=\"Модель-&quot;Случайного-леса&quot;-4.3.3\"><span class=\"toc-item-num\">4.3.3&nbsp;&nbsp;</span>Модель \"Случайного леса\"</a></span></li><li><span><a href=\"#Модель-Логиcтической-регрессии\" data-toc-modified-id=\"Модель-Логиcтической-регрессии-4.3.4\"><span class=\"toc-item-num\">4.3.4&nbsp;&nbsp;</span>Модель Логиcтической регрессии</a></span></li><li><span><a href=\"#Результаты-downsampling\" data-toc-modified-id=\"Результаты-downsampling-4.3.5\"><span class=\"toc-item-num\">4.3.5&nbsp;&nbsp;</span>Результаты downsampling</a></span></li></ul></li><li><span><a href=\"#Вывод-борьбы-с-дисбалансом\" data-toc-modified-id=\"Вывод-борьбы-с-дисбалансом-4.4\"><span class=\"toc-item-num\">4.4&nbsp;&nbsp;</span>Вывод борьбы с дисбалансом</a></span></li></ul></li><li><span><a href=\"#Тестирование-модели\" data-toc-modified-id=\"Тестирование-модели-5\"><span class=\"toc-item-num\">5&nbsp;&nbsp;</span>Тестирование модели</a></span><ul class=\"toc-item\"><li><span><a href=\"#Вывод\" data-toc-modified-id=\"Вывод-5.1\"><span class=\"toc-item-num\">5.1&nbsp;&nbsp;</span>Вывод</a></span></li></ul></li><li><span><a href=\"#Чек-лист-готовности-проекта\" data-toc-modified-id=\"Чек-лист-готовности-проекта-6\"><span class=\"toc-item-num\">6&nbsp;&nbsp;</span>Чек-лист готовности проекта</a></span></li></ul></div>"
   ]
  },
  {
   "cell_type": "markdown",
   "metadata": {},
   "source": [
    "# Отток клиентов"
   ]
  },
  {
   "cell_type": "markdown",
   "metadata": {},
   "source": [
    "Из «Бета-Банка» стали уходить клиенты. Каждый месяц. Немного, но заметно. Банковские маркетологи посчитали: сохранять текущих клиентов дешевле, чем привлекать новых.\n",
    "\n",
    "Нужно спрогнозировать, уйдёт клиент из банка в ближайшее время или нет. Вам предоставлены исторические данные о поведении клиентов и расторжении договоров с банком. "
   ]
  },
  {
   "cell_type": "markdown",
   "metadata": {},
   "source": [
    "## Подготовка данных"
   ]
  },
  {
   "cell_type": "code",
   "execution_count": 1,
   "metadata": {},
   "outputs": [],
   "source": [
    "import pandas as pd\n",
    "from scipy import stats as st\n",
    "import numpy as np\n",
    "import matplotlib.pyplot as plt\n",
    "from sklearn.preprocessing import OrdinalEncoder, StandardScaler\n",
    "from sklearn.model_selection import train_test_split\n",
    "from sklearn.tree import DecisionTreeClassifier\n",
    "from sklearn.ensemble import RandomForestClassifier\n",
    "from sklearn.linear_model import LogisticRegression\n",
    "from sklearn.metrics import accuracy_score, f1_score, confusion_matrix, roc_curve, roc_auc_score\n",
    "from sklearn.utils import shuffle\n",
    "\n",
    "import warnings\n",
    "from tqdm import tqdm\n",
    "#import pandas_profiling\n",
    "\n",
    "\n",
    "warnings.filterwarnings(\"ignore\")"
   ]
  },
  {
   "cell_type": "code",
   "execution_count": 2,
   "metadata": {
    "scrolled": false
   },
   "outputs": [
    {
     "data": {
      "text/html": [
       "<div>\n",
       "<style scoped>\n",
       "    .dataframe tbody tr th:only-of-type {\n",
       "        vertical-align: middle;\n",
       "    }\n",
       "\n",
       "    .dataframe tbody tr th {\n",
       "        vertical-align: top;\n",
       "    }\n",
       "\n",
       "    .dataframe thead th {\n",
       "        text-align: right;\n",
       "    }\n",
       "</style>\n",
       "<table border=\"1\" class=\"dataframe\">\n",
       "  <thead>\n",
       "    <tr style=\"text-align: right;\">\n",
       "      <th></th>\n",
       "      <th>RowNumber</th>\n",
       "      <th>CustomerId</th>\n",
       "      <th>Surname</th>\n",
       "      <th>CreditScore</th>\n",
       "      <th>Geography</th>\n",
       "      <th>Gender</th>\n",
       "      <th>Age</th>\n",
       "      <th>Tenure</th>\n",
       "      <th>Balance</th>\n",
       "      <th>NumOfProducts</th>\n",
       "      <th>HasCrCard</th>\n",
       "      <th>IsActiveMember</th>\n",
       "      <th>EstimatedSalary</th>\n",
       "      <th>Exited</th>\n",
       "    </tr>\n",
       "  </thead>\n",
       "  <tbody>\n",
       "    <tr>\n",
       "      <th>0</th>\n",
       "      <td>1</td>\n",
       "      <td>15634602</td>\n",
       "      <td>Hargrave</td>\n",
       "      <td>619</td>\n",
       "      <td>France</td>\n",
       "      <td>Female</td>\n",
       "      <td>42</td>\n",
       "      <td>2.0</td>\n",
       "      <td>0.00</td>\n",
       "      <td>1</td>\n",
       "      <td>1</td>\n",
       "      <td>1</td>\n",
       "      <td>101348.88</td>\n",
       "      <td>1</td>\n",
       "    </tr>\n",
       "    <tr>\n",
       "      <th>1</th>\n",
       "      <td>2</td>\n",
       "      <td>15647311</td>\n",
       "      <td>Hill</td>\n",
       "      <td>608</td>\n",
       "      <td>Spain</td>\n",
       "      <td>Female</td>\n",
       "      <td>41</td>\n",
       "      <td>1.0</td>\n",
       "      <td>83807.86</td>\n",
       "      <td>1</td>\n",
       "      <td>0</td>\n",
       "      <td>1</td>\n",
       "      <td>112542.58</td>\n",
       "      <td>0</td>\n",
       "    </tr>\n",
       "    <tr>\n",
       "      <th>2</th>\n",
       "      <td>3</td>\n",
       "      <td>15619304</td>\n",
       "      <td>Onio</td>\n",
       "      <td>502</td>\n",
       "      <td>France</td>\n",
       "      <td>Female</td>\n",
       "      <td>42</td>\n",
       "      <td>8.0</td>\n",
       "      <td>159660.80</td>\n",
       "      <td>3</td>\n",
       "      <td>1</td>\n",
       "      <td>0</td>\n",
       "      <td>113931.57</td>\n",
       "      <td>1</td>\n",
       "    </tr>\n",
       "    <tr>\n",
       "      <th>3</th>\n",
       "      <td>4</td>\n",
       "      <td>15701354</td>\n",
       "      <td>Boni</td>\n",
       "      <td>699</td>\n",
       "      <td>France</td>\n",
       "      <td>Female</td>\n",
       "      <td>39</td>\n",
       "      <td>1.0</td>\n",
       "      <td>0.00</td>\n",
       "      <td>2</td>\n",
       "      <td>0</td>\n",
       "      <td>0</td>\n",
       "      <td>93826.63</td>\n",
       "      <td>0</td>\n",
       "    </tr>\n",
       "    <tr>\n",
       "      <th>4</th>\n",
       "      <td>5</td>\n",
       "      <td>15737888</td>\n",
       "      <td>Mitchell</td>\n",
       "      <td>850</td>\n",
       "      <td>Spain</td>\n",
       "      <td>Female</td>\n",
       "      <td>43</td>\n",
       "      <td>2.0</td>\n",
       "      <td>125510.82</td>\n",
       "      <td>1</td>\n",
       "      <td>1</td>\n",
       "      <td>1</td>\n",
       "      <td>79084.10</td>\n",
       "      <td>0</td>\n",
       "    </tr>\n",
       "  </tbody>\n",
       "</table>\n",
       "</div>"
      ],
      "text/plain": [
       "   RowNumber  CustomerId   Surname  CreditScore Geography  Gender  Age  \\\n",
       "0          1    15634602  Hargrave          619    France  Female   42   \n",
       "1          2    15647311      Hill          608     Spain  Female   41   \n",
       "2          3    15619304      Onio          502    France  Female   42   \n",
       "3          4    15701354      Boni          699    France  Female   39   \n",
       "4          5    15737888  Mitchell          850     Spain  Female   43   \n",
       "\n",
       "   Tenure    Balance  NumOfProducts  HasCrCard  IsActiveMember  \\\n",
       "0     2.0       0.00              1          1               1   \n",
       "1     1.0   83807.86              1          0               1   \n",
       "2     8.0  159660.80              3          1               0   \n",
       "3     1.0       0.00              2          0               0   \n",
       "4     2.0  125510.82              1          1               1   \n",
       "\n",
       "   EstimatedSalary  Exited  \n",
       "0        101348.88       1  \n",
       "1        112542.58       0  \n",
       "2        113931.57       1  \n",
       "3         93826.63       0  \n",
       "4         79084.10       0  "
      ]
     },
     "execution_count": 2,
     "metadata": {},
     "output_type": "execute_result"
    }
   ],
   "source": [
    "data = pd.read_csv('Churn.csv')\n",
    "\n",
    "#pandas_profiling.ProfileReport(data)\n",
    "data.head()"
   ]
  },
  {
   "cell_type": "code",
   "execution_count": 3,
   "metadata": {},
   "outputs": [
    {
     "name": "stdout",
     "output_type": "stream",
     "text": [
      "<class 'pandas.core.frame.DataFrame'>\n",
      "RangeIndex: 10000 entries, 0 to 9999\n",
      "Data columns (total 13 columns):\n",
      " #   Column           Non-Null Count  Dtype  \n",
      "---  ------           --------------  -----  \n",
      " 0   CustomerId       10000 non-null  int64  \n",
      " 1   Surname          10000 non-null  object \n",
      " 2   CreditScore      10000 non-null  int64  \n",
      " 3   Geography        10000 non-null  object \n",
      " 4   Gender           10000 non-null  object \n",
      " 5   Age              10000 non-null  int64  \n",
      " 6   Tenure           9091 non-null   float64\n",
      " 7   Balance          10000 non-null  float64\n",
      " 8   NumOfProducts    10000 non-null  int64  \n",
      " 9   HasCrCard        10000 non-null  int64  \n",
      " 10  IsActiveMember   10000 non-null  int64  \n",
      " 11  EstimatedSalary  10000 non-null  float64\n",
      " 12  Exited           10000 non-null  int64  \n",
      "dtypes: float64(3), int64(7), object(3)\n",
      "memory usage: 1015.8+ KB\n"
     ]
    }
   ],
   "source": [
    "data = data.drop(columns='RowNumber')\n",
    "data.info()"
   ]
  },
  {
   "cell_type": "markdown",
   "metadata": {},
   "source": [
    "Данные содержат следующие столбцы:\n",
    "\n",
    "- `CustomerId` — уникальный идентификатор клиента\n",
    "- `Surname` — фамилия\n",
    "- `CreditScore` — кредитный рейтинг\n",
    "- `Geography` — страна проживания\n",
    "- `Gender` — пол\n",
    "- `Age` — возраст\n",
    "- `Tenure` — сколько лет человек является клиентом банка\n",
    "- `Balance` — баланс на счёте\n",
    "- `NumOfProducts` — количество продуктов банка, используемых клиентом\n",
    "- `HasCrCard` — наличие кредитной карты\n",
    "- `IsActiveMember` — активность клиента\n",
    "- `EstimatedSalary` — предполагаемая зарплата\n",
    "- `Exited` — факт ухода клиента"
   ]
  },
  {
   "cell_type": "markdown",
   "metadata": {},
   "source": [
    "Столбцы `CustomerId` и `Surname` не являются признаками для прогноза целевого признака ухода клиента. Удалим эти столбцы:"
   ]
  },
  {
   "cell_type": "code",
   "execution_count": 4,
   "metadata": {},
   "outputs": [
    {
     "name": "stdout",
     "output_type": "stream",
     "text": [
      "<class 'pandas.core.frame.DataFrame'>\n",
      "RangeIndex: 10000 entries, 0 to 9999\n",
      "Data columns (total 11 columns):\n",
      " #   Column           Non-Null Count  Dtype  \n",
      "---  ------           --------------  -----  \n",
      " 0   CreditScore      10000 non-null  int64  \n",
      " 1   Geography        10000 non-null  object \n",
      " 2   Gender           10000 non-null  object \n",
      " 3   Age              10000 non-null  int64  \n",
      " 4   Tenure           9091 non-null   float64\n",
      " 5   Balance          10000 non-null  float64\n",
      " 6   NumOfProducts    10000 non-null  int64  \n",
      " 7   HasCrCard        10000 non-null  int64  \n",
      " 8   IsActiveMember   10000 non-null  int64  \n",
      " 9   EstimatedSalary  10000 non-null  float64\n",
      " 10  Exited           10000 non-null  int64  \n",
      "dtypes: float64(3), int64(6), object(2)\n",
      "memory usage: 859.5+ KB\n"
     ]
    }
   ],
   "source": [
    "# удалаяем столбцы CustomerId и Surname:\n",
    "data = data.drop(columns=['CustomerId', 'Surname'])\n",
    "data.info()"
   ]
  },
  {
   "cell_type": "markdown",
   "metadata": {},
   "source": [
    "### Проверка пропусков"
   ]
  },
  {
   "cell_type": "markdown",
   "metadata": {},
   "source": [
    "Проверим пропущенные значения в датасете:"
   ]
  },
  {
   "cell_type": "code",
   "execution_count": 5,
   "metadata": {
    "scrolled": false
   },
   "outputs": [
    {
     "data": {
      "text/plain": [
       "CreditScore          0\n",
       "Geography            0\n",
       "Gender               0\n",
       "Age                  0\n",
       "Tenure             909\n",
       "Balance              0\n",
       "NumOfProducts        0\n",
       "HasCrCard            0\n",
       "IsActiveMember       0\n",
       "EstimatedSalary      0\n",
       "Exited               0\n",
       "dtype: int64"
      ]
     },
     "execution_count": 5,
     "metadata": {},
     "output_type": "execute_result"
    }
   ],
   "source": [
    "# пропски в 'Tenure':\n",
    "data.isna().sum()"
   ]
  },
  {
   "cell_type": "markdown",
   "metadata": {},
   "source": [
    "Столбец `Tenure` содержит проупски:"
   ]
  },
  {
   "cell_type": "code",
   "execution_count": 6,
   "metadata": {
    "scrolled": true
   },
   "outputs": [
    {
     "data": {
      "text/html": [
       "<div>\n",
       "<style scoped>\n",
       "    .dataframe tbody tr th:only-of-type {\n",
       "        vertical-align: middle;\n",
       "    }\n",
       "\n",
       "    .dataframe tbody tr th {\n",
       "        vertical-align: top;\n",
       "    }\n",
       "\n",
       "    .dataframe thead th {\n",
       "        text-align: right;\n",
       "    }\n",
       "</style>\n",
       "<table border=\"1\" class=\"dataframe\">\n",
       "  <thead>\n",
       "    <tr style=\"text-align: right;\">\n",
       "      <th></th>\n",
       "      <th>CreditScore</th>\n",
       "      <th>Geography</th>\n",
       "      <th>Gender</th>\n",
       "      <th>Age</th>\n",
       "      <th>Tenure</th>\n",
       "      <th>Balance</th>\n",
       "      <th>NumOfProducts</th>\n",
       "      <th>HasCrCard</th>\n",
       "      <th>IsActiveMember</th>\n",
       "      <th>EstimatedSalary</th>\n",
       "      <th>Exited</th>\n",
       "    </tr>\n",
       "  </thead>\n",
       "  <tbody>\n",
       "    <tr>\n",
       "      <th>30</th>\n",
       "      <td>591</td>\n",
       "      <td>Spain</td>\n",
       "      <td>Female</td>\n",
       "      <td>39</td>\n",
       "      <td>NaN</td>\n",
       "      <td>0.00</td>\n",
       "      <td>3</td>\n",
       "      <td>1</td>\n",
       "      <td>0</td>\n",
       "      <td>140469.38</td>\n",
       "      <td>1</td>\n",
       "    </tr>\n",
       "    <tr>\n",
       "      <th>48</th>\n",
       "      <td>550</td>\n",
       "      <td>Germany</td>\n",
       "      <td>Male</td>\n",
       "      <td>38</td>\n",
       "      <td>NaN</td>\n",
       "      <td>103391.38</td>\n",
       "      <td>1</td>\n",
       "      <td>0</td>\n",
       "      <td>1</td>\n",
       "      <td>90878.13</td>\n",
       "      <td>0</td>\n",
       "    </tr>\n",
       "    <tr>\n",
       "      <th>51</th>\n",
       "      <td>585</td>\n",
       "      <td>Germany</td>\n",
       "      <td>Male</td>\n",
       "      <td>36</td>\n",
       "      <td>NaN</td>\n",
       "      <td>146050.97</td>\n",
       "      <td>2</td>\n",
       "      <td>0</td>\n",
       "      <td>0</td>\n",
       "      <td>86424.57</td>\n",
       "      <td>0</td>\n",
       "    </tr>\n",
       "    <tr>\n",
       "      <th>53</th>\n",
       "      <td>655</td>\n",
       "      <td>Germany</td>\n",
       "      <td>Male</td>\n",
       "      <td>41</td>\n",
       "      <td>NaN</td>\n",
       "      <td>125561.97</td>\n",
       "      <td>1</td>\n",
       "      <td>0</td>\n",
       "      <td>0</td>\n",
       "      <td>164040.94</td>\n",
       "      <td>1</td>\n",
       "    </tr>\n",
       "    <tr>\n",
       "      <th>60</th>\n",
       "      <td>742</td>\n",
       "      <td>Germany</td>\n",
       "      <td>Male</td>\n",
       "      <td>35</td>\n",
       "      <td>NaN</td>\n",
       "      <td>136857.00</td>\n",
       "      <td>1</td>\n",
       "      <td>0</td>\n",
       "      <td>0</td>\n",
       "      <td>84509.57</td>\n",
       "      <td>0</td>\n",
       "    </tr>\n",
       "  </tbody>\n",
       "</table>\n",
       "</div>"
      ],
      "text/plain": [
       "    CreditScore Geography  Gender  Age  Tenure    Balance  NumOfProducts  \\\n",
       "30          591     Spain  Female   39     NaN       0.00              3   \n",
       "48          550   Germany    Male   38     NaN  103391.38              1   \n",
       "51          585   Germany    Male   36     NaN  146050.97              2   \n",
       "53          655   Germany    Male   41     NaN  125561.97              1   \n",
       "60          742   Germany    Male   35     NaN  136857.00              1   \n",
       "\n",
       "    HasCrCard  IsActiveMember  EstimatedSalary  Exited  \n",
       "30          1               0        140469.38       1  \n",
       "48          0               1         90878.13       0  \n",
       "51          0               0         86424.57       0  \n",
       "53          0               0        164040.94       1  \n",
       "60          0               0         84509.57       0  "
      ]
     },
     "execution_count": 6,
     "metadata": {},
     "output_type": "execute_result"
    }
   ],
   "source": [
    "data[data['Tenure'].isna()].head()"
   ]
  },
  {
   "cell_type": "code",
   "execution_count": 7,
   "metadata": {},
   "outputs": [
    {
     "data": {
      "text/plain": [
       "1.0     952\n",
       "2.0     950\n",
       "8.0     933\n",
       "3.0     928\n",
       "5.0     927\n",
       "7.0     925\n",
       "4.0     885\n",
       "9.0     882\n",
       "6.0     881\n",
       "10.0    446\n",
       "0.0     382\n",
       "Name: Tenure, dtype: int64"
      ]
     },
     "execution_count": 7,
     "metadata": {},
     "output_type": "execute_result"
    }
   ],
   "source": [
    "# разброс значений в столбце 'Tenure':\n",
    "data['Tenure'].sort_values().value_counts()"
   ]
  },
  {
   "cell_type": "code",
   "execution_count": 8,
   "metadata": {},
   "outputs": [
    {
     "name": "stdout",
     "output_type": "stream",
     "text": [
      "Доля пропусков = 9.09%\n"
     ]
    }
   ],
   "source": [
    "print('Доля пропусков =', '{:.2%}'.format(data[\"Tenure\"].isna().sum() / len(data[\"Tenure\"])))"
   ]
  },
  {
   "cell_type": "markdown",
   "metadata": {},
   "source": [
    "Пропуски в `Tenure` составляют `9.09%` от общего числа данных и носят случайный характер. \n",
    "\n",
    "Для уточнения дальнейшего прогноза удалим строки с пропущенными значениями из датасета."
   ]
  },
  {
   "cell_type": "code",
   "execution_count": 9,
   "metadata": {},
   "outputs": [
    {
     "data": {
      "text/plain": [
       "CreditScore        0\n",
       "Geography          0\n",
       "Gender             0\n",
       "Age                0\n",
       "Tenure             0\n",
       "Balance            0\n",
       "NumOfProducts      0\n",
       "HasCrCard          0\n",
       "IsActiveMember     0\n",
       "EstimatedSalary    0\n",
       "Exited             0\n",
       "dtype: int64"
      ]
     },
     "execution_count": 9,
     "metadata": {},
     "output_type": "execute_result"
    }
   ],
   "source": [
    "data = data.dropna()\n",
    "data.isna().sum()"
   ]
  },
  {
   "cell_type": "markdown",
   "metadata": {},
   "source": [
    "**Вывод:** все пропуски удалены из датасета. "
   ]
  },
  {
   "cell_type": "markdown",
   "metadata": {},
   "source": [
    "### Проверка на дубликаты"
   ]
  },
  {
   "cell_type": "markdown",
   "metadata": {},
   "source": [
    "Проверка на явные дубликаты:"
   ]
  },
  {
   "cell_type": "code",
   "execution_count": 10,
   "metadata": {},
   "outputs": [
    {
     "data": {
      "text/plain": [
       "0"
      ]
     },
     "execution_count": 10,
     "metadata": {},
     "output_type": "execute_result"
    }
   ],
   "source": [
    "# проверим на явные дубликаты:\n",
    "data.duplicated().sum()"
   ]
  },
  {
   "cell_type": "markdown",
   "metadata": {},
   "source": [
    "**Вывод:** явные дубликаты в датасете отсутствуют. "
   ]
  },
  {
   "cell_type": "markdown",
   "metadata": {},
   "source": [
    "Проверка неявных дубликатов:"
   ]
  },
  {
   "cell_type": "code",
   "execution_count": 11,
   "metadata": {
    "scrolled": true
   },
   "outputs": [
    {
     "data": {
      "text/plain": [
       "France     4550\n",
       "Germany    2293\n",
       "Spain      2248\n",
       "Name: Geography, dtype: int64"
      ]
     },
     "execution_count": 11,
     "metadata": {},
     "output_type": "execute_result"
    }
   ],
   "source": [
    "data['Geography'].value_counts()"
   ]
  },
  {
   "cell_type": "code",
   "execution_count": 12,
   "metadata": {},
   "outputs": [
    {
     "data": {
      "text/plain": [
       "Male      4974\n",
       "Female    4117\n",
       "Name: Gender, dtype: int64"
      ]
     },
     "execution_count": 12,
     "metadata": {},
     "output_type": "execute_result"
    }
   ],
   "source": [
    "data['Gender'].value_counts()"
   ]
  },
  {
   "cell_type": "markdown",
   "metadata": {},
   "source": [
    "**Вывод:** неявные дубликаты в датасете отсутствуют. "
   ]
  },
  {
   "cell_type": "markdown",
   "metadata": {},
   "source": [
    "### Проверка количественных значений"
   ]
  },
  {
   "cell_type": "markdown",
   "metadata": {},
   "source": [
    "Проверим на аномалии значения в столбцах: `CreditScore`, `Balance`, `Age`, `EstimatedSalary`:"
   ]
  },
  {
   "cell_type": "code",
   "execution_count": 13,
   "metadata": {},
   "outputs": [
    {
     "data": {
      "text/html": [
       "<div>\n",
       "<style scoped>\n",
       "    .dataframe tbody tr th:only-of-type {\n",
       "        vertical-align: middle;\n",
       "    }\n",
       "\n",
       "    .dataframe tbody tr th {\n",
       "        vertical-align: top;\n",
       "    }\n",
       "\n",
       "    .dataframe thead th {\n",
       "        text-align: right;\n",
       "    }\n",
       "</style>\n",
       "<table border=\"1\" class=\"dataframe\">\n",
       "  <thead>\n",
       "    <tr style=\"text-align: right;\">\n",
       "      <th></th>\n",
       "      <th>CreditScore</th>\n",
       "      <th>Balance</th>\n",
       "      <th>Age</th>\n",
       "      <th>EstimatedSalary</th>\n",
       "    </tr>\n",
       "  </thead>\n",
       "  <tbody>\n",
       "    <tr>\n",
       "      <th>count</th>\n",
       "      <td>9091.000000</td>\n",
       "      <td>9091.000000</td>\n",
       "      <td>9091.000000</td>\n",
       "      <td>9091.000000</td>\n",
       "    </tr>\n",
       "    <tr>\n",
       "      <th>mean</th>\n",
       "      <td>650.736553</td>\n",
       "      <td>76522.740015</td>\n",
       "      <td>38.949181</td>\n",
       "      <td>100181.214924</td>\n",
       "    </tr>\n",
       "    <tr>\n",
       "      <th>std</th>\n",
       "      <td>96.410471</td>\n",
       "      <td>62329.528576</td>\n",
       "      <td>10.555581</td>\n",
       "      <td>57624.755647</td>\n",
       "    </tr>\n",
       "    <tr>\n",
       "      <th>min</th>\n",
       "      <td>350.000000</td>\n",
       "      <td>0.000000</td>\n",
       "      <td>18.000000</td>\n",
       "      <td>11.580000</td>\n",
       "    </tr>\n",
       "    <tr>\n",
       "      <th>25%</th>\n",
       "      <td>584.000000</td>\n",
       "      <td>0.000000</td>\n",
       "      <td>32.000000</td>\n",
       "      <td>51227.745000</td>\n",
       "    </tr>\n",
       "    <tr>\n",
       "      <th>50%</th>\n",
       "      <td>652.000000</td>\n",
       "      <td>97318.250000</td>\n",
       "      <td>37.000000</td>\n",
       "      <td>100240.200000</td>\n",
       "    </tr>\n",
       "    <tr>\n",
       "      <th>75%</th>\n",
       "      <td>717.000000</td>\n",
       "      <td>127561.890000</td>\n",
       "      <td>44.000000</td>\n",
       "      <td>149567.210000</td>\n",
       "    </tr>\n",
       "    <tr>\n",
       "      <th>max</th>\n",
       "      <td>850.000000</td>\n",
       "      <td>250898.090000</td>\n",
       "      <td>92.000000</td>\n",
       "      <td>199992.480000</td>\n",
       "    </tr>\n",
       "  </tbody>\n",
       "</table>\n",
       "</div>"
      ],
      "text/plain": [
       "       CreditScore        Balance          Age  EstimatedSalary\n",
       "count  9091.000000    9091.000000  9091.000000      9091.000000\n",
       "mean    650.736553   76522.740015    38.949181    100181.214924\n",
       "std      96.410471   62329.528576    10.555581     57624.755647\n",
       "min     350.000000       0.000000    18.000000        11.580000\n",
       "25%     584.000000       0.000000    32.000000     51227.745000\n",
       "50%     652.000000   97318.250000    37.000000    100240.200000\n",
       "75%     717.000000  127561.890000    44.000000    149567.210000\n",
       "max     850.000000  250898.090000    92.000000    199992.480000"
      ]
     },
     "execution_count": 13,
     "metadata": {},
     "output_type": "execute_result"
    }
   ],
   "source": [
    "#\n",
    "columns = ['CreditScore', 'Balance', 'Age', 'EstimatedSalary']\n",
    "data[columns].describe()"
   ]
  },
  {
   "cell_type": "markdown",
   "metadata": {},
   "source": [
    "#### Столбец 'CreditScore'"
   ]
  },
  {
   "cell_type": "code",
   "execution_count": 14,
   "metadata": {},
   "outputs": [
    {
     "data": {
      "text/plain": [
       "(340.0, 400.0)"
      ]
     },
     "execution_count": 14,
     "metadata": {},
     "output_type": "execute_result"
    },
    {
     "data": {
      "image/png": "[encoded data removed]",
      "text/plain": [
       "<Figure size 432x288 with 1 Axes>"
      ]
     },
     "metadata": {
      "needs_background": "light"
     },
     "output_type": "display_data"
    }
   ],
   "source": [
    "#\n",
    "data.boxplot(column='CreditScore')\n",
    "plt.ylim(340, 400)"
   ]
  },
  {
   "cell_type": "code",
   "execution_count": 15,
   "metadata": {},
   "outputs": [
    {
     "data": {
      "text/html": [
       "<div>\n",
       "<style scoped>\n",
       "    .dataframe tbody tr th:only-of-type {\n",
       "        vertical-align: middle;\n",
       "    }\n",
       "\n",
       "    .dataframe tbody tr th {\n",
       "        vertical-align: top;\n",
       "    }\n",
       "\n",
       "    .dataframe thead th {\n",
       "        text-align: right;\n",
       "    }\n",
       "</style>\n",
       "<table border=\"1\" class=\"dataframe\">\n",
       "  <thead>\n",
       "    <tr style=\"text-align: right;\">\n",
       "      <th></th>\n",
       "      <th>CreditScore</th>\n",
       "      <th>Geography</th>\n",
       "      <th>Gender</th>\n",
       "      <th>Age</th>\n",
       "      <th>Tenure</th>\n",
       "      <th>Balance</th>\n",
       "      <th>NumOfProducts</th>\n",
       "      <th>HasCrCard</th>\n",
       "      <th>IsActiveMember</th>\n",
       "      <th>EstimatedSalary</th>\n",
       "      <th>Exited</th>\n",
       "    </tr>\n",
       "  </thead>\n",
       "  <tbody>\n",
       "    <tr>\n",
       "      <th>7</th>\n",
       "      <td>376</td>\n",
       "      <td>Germany</td>\n",
       "      <td>Female</td>\n",
       "      <td>29</td>\n",
       "      <td>4.0</td>\n",
       "      <td>115046.74</td>\n",
       "      <td>4</td>\n",
       "      <td>1</td>\n",
       "      <td>0</td>\n",
       "      <td>119346.88</td>\n",
       "      <td>1</td>\n",
       "    </tr>\n",
       "    <tr>\n",
       "      <th>1193</th>\n",
       "      <td>363</td>\n",
       "      <td>Spain</td>\n",
       "      <td>Female</td>\n",
       "      <td>28</td>\n",
       "      <td>6.0</td>\n",
       "      <td>146098.43</td>\n",
       "      <td>3</td>\n",
       "      <td>1</td>\n",
       "      <td>0</td>\n",
       "      <td>100615.14</td>\n",
       "      <td>1</td>\n",
       "    </tr>\n",
       "    <tr>\n",
       "      <th>1631</th>\n",
       "      <td>350</td>\n",
       "      <td>Spain</td>\n",
       "      <td>Male</td>\n",
       "      <td>54</td>\n",
       "      <td>1.0</td>\n",
       "      <td>152677.48</td>\n",
       "      <td>1</td>\n",
       "      <td>1</td>\n",
       "      <td>1</td>\n",
       "      <td>191973.49</td>\n",
       "      <td>1</td>\n",
       "    </tr>\n",
       "    <tr>\n",
       "      <th>1838</th>\n",
       "      <td>350</td>\n",
       "      <td>Germany</td>\n",
       "      <td>Male</td>\n",
       "      <td>39</td>\n",
       "      <td>0.0</td>\n",
       "      <td>109733.20</td>\n",
       "      <td>2</td>\n",
       "      <td>0</td>\n",
       "      <td>0</td>\n",
       "      <td>123602.11</td>\n",
       "      <td>1</td>\n",
       "    </tr>\n",
       "    <tr>\n",
       "      <th>1962</th>\n",
       "      <td>358</td>\n",
       "      <td>Spain</td>\n",
       "      <td>Female</td>\n",
       "      <td>52</td>\n",
       "      <td>8.0</td>\n",
       "      <td>143542.36</td>\n",
       "      <td>3</td>\n",
       "      <td>1</td>\n",
       "      <td>0</td>\n",
       "      <td>141959.11</td>\n",
       "      <td>1</td>\n",
       "    </tr>\n",
       "    <tr>\n",
       "      <th>2473</th>\n",
       "      <td>351</td>\n",
       "      <td>Germany</td>\n",
       "      <td>Female</td>\n",
       "      <td>57</td>\n",
       "      <td>4.0</td>\n",
       "      <td>163146.46</td>\n",
       "      <td>1</td>\n",
       "      <td>1</td>\n",
       "      <td>0</td>\n",
       "      <td>169621.69</td>\n",
       "      <td>1</td>\n",
       "    </tr>\n",
       "    <tr>\n",
       "      <th>2579</th>\n",
       "      <td>365</td>\n",
       "      <td>Germany</td>\n",
       "      <td>Male</td>\n",
       "      <td>30</td>\n",
       "      <td>0.0</td>\n",
       "      <td>127760.07</td>\n",
       "      <td>1</td>\n",
       "      <td>1</td>\n",
       "      <td>0</td>\n",
       "      <td>81537.85</td>\n",
       "      <td>1</td>\n",
       "    </tr>\n",
       "    <tr>\n",
       "      <th>5494</th>\n",
       "      <td>383</td>\n",
       "      <td>Spain</td>\n",
       "      <td>Female</td>\n",
       "      <td>48</td>\n",
       "      <td>8.0</td>\n",
       "      <td>95808.19</td>\n",
       "      <td>1</td>\n",
       "      <td>0</td>\n",
       "      <td>0</td>\n",
       "      <td>137702.01</td>\n",
       "      <td>1</td>\n",
       "    </tr>\n",
       "    <tr>\n",
       "      <th>8154</th>\n",
       "      <td>367</td>\n",
       "      <td>Spain</td>\n",
       "      <td>Male</td>\n",
       "      <td>42</td>\n",
       "      <td>6.0</td>\n",
       "      <td>93608.28</td>\n",
       "      <td>1</td>\n",
       "      <td>1</td>\n",
       "      <td>0</td>\n",
       "      <td>168816.73</td>\n",
       "      <td>1</td>\n",
       "    </tr>\n",
       "    <tr>\n",
       "      <th>8723</th>\n",
       "      <td>350</td>\n",
       "      <td>France</td>\n",
       "      <td>Male</td>\n",
       "      <td>51</td>\n",
       "      <td>10.0</td>\n",
       "      <td>0.00</td>\n",
       "      <td>1</td>\n",
       "      <td>1</td>\n",
       "      <td>1</td>\n",
       "      <td>125823.79</td>\n",
       "      <td>1</td>\n",
       "    </tr>\n",
       "    <tr>\n",
       "      <th>8762</th>\n",
       "      <td>350</td>\n",
       "      <td>France</td>\n",
       "      <td>Female</td>\n",
       "      <td>60</td>\n",
       "      <td>3.0</td>\n",
       "      <td>0.00</td>\n",
       "      <td>1</td>\n",
       "      <td>0</td>\n",
       "      <td>0</td>\n",
       "      <td>113796.15</td>\n",
       "      <td>1</td>\n",
       "    </tr>\n",
       "    <tr>\n",
       "      <th>9210</th>\n",
       "      <td>382</td>\n",
       "      <td>Spain</td>\n",
       "      <td>Male</td>\n",
       "      <td>36</td>\n",
       "      <td>0.0</td>\n",
       "      <td>0.00</td>\n",
       "      <td>1</td>\n",
       "      <td>1</td>\n",
       "      <td>1</td>\n",
       "      <td>179540.73</td>\n",
       "      <td>1</td>\n",
       "    </tr>\n",
       "    <tr>\n",
       "      <th>9356</th>\n",
       "      <td>373</td>\n",
       "      <td>France</td>\n",
       "      <td>Male</td>\n",
       "      <td>42</td>\n",
       "      <td>7.0</td>\n",
       "      <td>0.00</td>\n",
       "      <td>1</td>\n",
       "      <td>1</td>\n",
       "      <td>0</td>\n",
       "      <td>77786.37</td>\n",
       "      <td>1</td>\n",
       "    </tr>\n",
       "    <tr>\n",
       "      <th>9624</th>\n",
       "      <td>350</td>\n",
       "      <td>France</td>\n",
       "      <td>Female</td>\n",
       "      <td>40</td>\n",
       "      <td>0.0</td>\n",
       "      <td>111098.85</td>\n",
       "      <td>1</td>\n",
       "      <td>1</td>\n",
       "      <td>1</td>\n",
       "      <td>172321.21</td>\n",
       "      <td>1</td>\n",
       "    </tr>\n",
       "  </tbody>\n",
       "</table>\n",
       "</div>"
      ],
      "text/plain": [
       "      CreditScore Geography  Gender  Age  Tenure    Balance  NumOfProducts  \\\n",
       "7             376   Germany  Female   29     4.0  115046.74              4   \n",
       "1193          363     Spain  Female   28     6.0  146098.43              3   \n",
       "1631          350     Spain    Male   54     1.0  152677.48              1   \n",
       "1838          350   Germany    Male   39     0.0  109733.20              2   \n",
       "1962          358     Spain  Female   52     8.0  143542.36              3   \n",
       "2473          351   Germany  Female   57     4.0  163146.46              1   \n",
       "2579          365   Germany    Male   30     0.0  127760.07              1   \n",
       "5494          383     Spain  Female   48     8.0   95808.19              1   \n",
       "8154          367     Spain    Male   42     6.0   93608.28              1   \n",
       "8723          350    France    Male   51    10.0       0.00              1   \n",
       "8762          350    France  Female   60     3.0       0.00              1   \n",
       "9210          382     Spain    Male   36     0.0       0.00              1   \n",
       "9356          373    France    Male   42     7.0       0.00              1   \n",
       "9624          350    France  Female   40     0.0  111098.85              1   \n",
       "\n",
       "      HasCrCard  IsActiveMember  EstimatedSalary  Exited  \n",
       "7             1               0        119346.88       1  \n",
       "1193          1               0        100615.14       1  \n",
       "1631          1               1        191973.49       1  \n",
       "1838          0               0        123602.11       1  \n",
       "1962          1               0        141959.11       1  \n",
       "2473          1               0        169621.69       1  \n",
       "2579          1               0         81537.85       1  \n",
       "5494          0               0        137702.01       1  \n",
       "8154          1               0        168816.73       1  \n",
       "8723          1               1        125823.79       1  \n",
       "8762          0               0        113796.15       1  \n",
       "9210          1               1        179540.73       1  \n",
       "9356          1               0         77786.37       1  \n",
       "9624          1               1        172321.21       1  "
      ]
     },
     "execution_count": 15,
     "metadata": {},
     "output_type": "execute_result"
    }
   ],
   "source": [
    "data[data['CreditScore'] < 386]"
   ]
  },
  {
   "cell_type": "code",
   "execution_count": 16,
   "metadata": {},
   "outputs": [
    {
     "data": {
      "text/plain": [
       "<AxesSubplot:>"
      ]
     },
     "execution_count": 16,
     "metadata": {},
     "output_type": "execute_result"
    },
    {
     "data": {
      "image/png": "[encoded data removed]",
      "text/plain": [
       "<Figure size 432x288 with 1 Axes>"
      ]
     },
     "metadata": {
      "needs_background": "light"
     },
     "output_type": "display_data"
    }
   ],
   "source": [
    "# построим гистограмму по CreditScore:\n",
    "data['CreditScore'].hist(bins=50)"
   ]
  },
  {
   "cell_type": "markdown",
   "metadata": {},
   "source": [
    "Достаточно большое количество клиентов имею максимальный рейтинг `210 клиентов`, что выбивается от нормального распределения."
   ]
  },
  {
   "cell_type": "code",
   "execution_count": 17,
   "metadata": {},
   "outputs": [
    {
     "data": {
      "text/html": [
       "<div>\n",
       "<style scoped>\n",
       "    .dataframe tbody tr th:only-of-type {\n",
       "        vertical-align: middle;\n",
       "    }\n",
       "\n",
       "    .dataframe tbody tr th {\n",
       "        vertical-align: top;\n",
       "    }\n",
       "\n",
       "    .dataframe thead th {\n",
       "        text-align: right;\n",
       "    }\n",
       "</style>\n",
       "<table border=\"1\" class=\"dataframe\">\n",
       "  <thead>\n",
       "    <tr style=\"text-align: right;\">\n",
       "      <th></th>\n",
       "      <th>CreditScore</th>\n",
       "      <th>Age</th>\n",
       "      <th>Tenure</th>\n",
       "      <th>Balance</th>\n",
       "      <th>NumOfProducts</th>\n",
       "      <th>HasCrCard</th>\n",
       "      <th>IsActiveMember</th>\n",
       "      <th>EstimatedSalary</th>\n",
       "      <th>Exited</th>\n",
       "    </tr>\n",
       "  </thead>\n",
       "  <tbody>\n",
       "    <tr>\n",
       "      <th>count</th>\n",
       "      <td>210.0</td>\n",
       "      <td>210.000000</td>\n",
       "      <td>210.000000</td>\n",
       "      <td>210.000000</td>\n",
       "      <td>210.000000</td>\n",
       "      <td>210.000000</td>\n",
       "      <td>210.000000</td>\n",
       "      <td>210.000000</td>\n",
       "      <td>210.000000</td>\n",
       "    </tr>\n",
       "    <tr>\n",
       "      <th>mean</th>\n",
       "      <td>850.0</td>\n",
       "      <td>38.738095</td>\n",
       "      <td>4.785714</td>\n",
       "      <td>77830.083667</td>\n",
       "      <td>1.533333</td>\n",
       "      <td>0.709524</td>\n",
       "      <td>0.571429</td>\n",
       "      <td>99465.768952</td>\n",
       "      <td>0.185714</td>\n",
       "    </tr>\n",
       "    <tr>\n",
       "      <th>std</th>\n",
       "      <td>0.0</td>\n",
       "      <td>10.538286</td>\n",
       "      <td>2.843070</td>\n",
       "      <td>61795.506127</td>\n",
       "      <td>0.579831</td>\n",
       "      <td>0.455067</td>\n",
       "      <td>0.496054</td>\n",
       "      <td>62629.907605</td>\n",
       "      <td>0.389805</td>\n",
       "    </tr>\n",
       "    <tr>\n",
       "      <th>min</th>\n",
       "      <td>850.0</td>\n",
       "      <td>19.000000</td>\n",
       "      <td>0.000000</td>\n",
       "      <td>0.000000</td>\n",
       "      <td>1.000000</td>\n",
       "      <td>0.000000</td>\n",
       "      <td>0.000000</td>\n",
       "      <td>747.880000</td>\n",
       "      <td>0.000000</td>\n",
       "    </tr>\n",
       "    <tr>\n",
       "      <th>25%</th>\n",
       "      <td>850.0</td>\n",
       "      <td>31.250000</td>\n",
       "      <td>2.000000</td>\n",
       "      <td>0.000000</td>\n",
       "      <td>1.000000</td>\n",
       "      <td>0.000000</td>\n",
       "      <td>0.000000</td>\n",
       "      <td>43892.412500</td>\n",
       "      <td>0.000000</td>\n",
       "    </tr>\n",
       "    <tr>\n",
       "      <th>50%</th>\n",
       "      <td>850.0</td>\n",
       "      <td>37.000000</td>\n",
       "      <td>5.000000</td>\n",
       "      <td>97699.260000</td>\n",
       "      <td>1.500000</td>\n",
       "      <td>1.000000</td>\n",
       "      <td>1.000000</td>\n",
       "      <td>99895.270000</td>\n",
       "      <td>0.000000</td>\n",
       "    </tr>\n",
       "    <tr>\n",
       "      <th>75%</th>\n",
       "      <td>850.0</td>\n",
       "      <td>43.000000</td>\n",
       "      <td>7.000000</td>\n",
       "      <td>127058.615000</td>\n",
       "      <td>2.000000</td>\n",
       "      <td>1.000000</td>\n",
       "      <td>1.000000</td>\n",
       "      <td>157598.412500</td>\n",
       "      <td>0.000000</td>\n",
       "    </tr>\n",
       "    <tr>\n",
       "      <th>max</th>\n",
       "      <td>850.0</td>\n",
       "      <td>81.000000</td>\n",
       "      <td>10.000000</td>\n",
       "      <td>212778.200000</td>\n",
       "      <td>4.000000</td>\n",
       "      <td>1.000000</td>\n",
       "      <td>1.000000</td>\n",
       "      <td>199775.670000</td>\n",
       "      <td>1.000000</td>\n",
       "    </tr>\n",
       "  </tbody>\n",
       "</table>\n",
       "</div>"
      ],
      "text/plain": [
       "       CreditScore         Age      Tenure        Balance  NumOfProducts  \\\n",
       "count        210.0  210.000000  210.000000     210.000000     210.000000   \n",
       "mean         850.0   38.738095    4.785714   77830.083667       1.533333   \n",
       "std            0.0   10.538286    2.843070   61795.506127       0.579831   \n",
       "min          850.0   19.000000    0.000000       0.000000       1.000000   \n",
       "25%          850.0   31.250000    2.000000       0.000000       1.000000   \n",
       "50%          850.0   37.000000    5.000000   97699.260000       1.500000   \n",
       "75%          850.0   43.000000    7.000000  127058.615000       2.000000   \n",
       "max          850.0   81.000000   10.000000  212778.200000       4.000000   \n",
       "\n",
       "        HasCrCard  IsActiveMember  EstimatedSalary      Exited  \n",
       "count  210.000000      210.000000       210.000000  210.000000  \n",
       "mean     0.709524        0.571429     99465.768952    0.185714  \n",
       "std      0.455067        0.496054     62629.907605    0.389805  \n",
       "min      0.000000        0.000000       747.880000    0.000000  \n",
       "25%      0.000000        0.000000     43892.412500    0.000000  \n",
       "50%      1.000000        1.000000     99895.270000    0.000000  \n",
       "75%      1.000000        1.000000    157598.412500    0.000000  \n",
       "max      1.000000        1.000000    199775.670000    1.000000  "
      ]
     },
     "execution_count": 17,
     "metadata": {},
     "output_type": "execute_result"
    }
   ],
   "source": [
    "data[data['CreditScore'] == 850].describe()"
   ]
  },
  {
   "cell_type": "markdown",
   "metadata": {},
   "source": [
    "#### Столбец 'Age'"
   ]
  },
  {
   "cell_type": "code",
   "execution_count": 18,
   "metadata": {},
   "outputs": [
    {
     "data": {
      "text/plain": [
       "<AxesSubplot:>"
      ]
     },
     "execution_count": 18,
     "metadata": {},
     "output_type": "execute_result"
    },
    {
     "data": {
      "image/png": "[encoded data removed]",
      "text/plain": [
       "<Figure size 432x288 with 1 Axes>"
      ]
     },
     "metadata": {
      "needs_background": "light"
     },
     "output_type": "display_data"
    }
   ],
   "source": [
    "#\n",
    "data.boxplot(column='Age')"
   ]
  },
  {
   "cell_type": "code",
   "execution_count": 19,
   "metadata": {},
   "outputs": [
    {
     "data": {
      "text/plain": [
       "<AxesSubplot:>"
      ]
     },
     "execution_count": 19,
     "metadata": {},
     "output_type": "execute_result"
    },
    {
     "data": {
      "image/png": "[encoded data removed]",
      "text/plain": [
       "<Figure size 432x288 with 1 Axes>"
      ]
     },
     "metadata": {
      "needs_background": "light"
     },
     "output_type": "display_data"
    }
   ],
   "source": [
    "# построим гистограмму по Age:\n",
    "data['Age'].hist(bins=30)"
   ]
  },
  {
   "cell_type": "code",
   "execution_count": 20,
   "metadata": {},
   "outputs": [
    {
     "data": {
      "text/html": [
       "<div>\n",
       "<style scoped>\n",
       "    .dataframe tbody tr th:only-of-type {\n",
       "        vertical-align: middle;\n",
       "    }\n",
       "\n",
       "    .dataframe tbody tr th {\n",
       "        vertical-align: top;\n",
       "    }\n",
       "\n",
       "    .dataframe thead th {\n",
       "        text-align: right;\n",
       "    }\n",
       "</style>\n",
       "<table border=\"1\" class=\"dataframe\">\n",
       "  <thead>\n",
       "    <tr style=\"text-align: right;\">\n",
       "      <th></th>\n",
       "      <th>CreditScore</th>\n",
       "      <th>Age</th>\n",
       "      <th>Tenure</th>\n",
       "      <th>Balance</th>\n",
       "      <th>NumOfProducts</th>\n",
       "      <th>HasCrCard</th>\n",
       "      <th>IsActiveMember</th>\n",
       "      <th>EstimatedSalary</th>\n",
       "      <th>Exited</th>\n",
       "    </tr>\n",
       "  </thead>\n",
       "  <tbody>\n",
       "    <tr>\n",
       "      <th>count</th>\n",
       "      <td>249.000000</td>\n",
       "      <td>249.000000</td>\n",
       "      <td>249.000000</td>\n",
       "      <td>249.000000</td>\n",
       "      <td>249.000000</td>\n",
       "      <td>249.000000</td>\n",
       "      <td>249.000000</td>\n",
       "      <td>249.000000</td>\n",
       "      <td>249.000000</td>\n",
       "    </tr>\n",
       "    <tr>\n",
       "      <th>mean</th>\n",
       "      <td>663.891566</td>\n",
       "      <td>71.176707</td>\n",
       "      <td>5.064257</td>\n",
       "      <td>72400.594819</td>\n",
       "      <td>1.518072</td>\n",
       "      <td>0.706827</td>\n",
       "      <td>0.879518</td>\n",
       "      <td>98979.872530</td>\n",
       "      <td>0.132530</td>\n",
       "    </tr>\n",
       "    <tr>\n",
       "      <th>std</th>\n",
       "      <td>96.574350</td>\n",
       "      <td>4.595854</td>\n",
       "      <td>2.958702</td>\n",
       "      <td>62727.757722</td>\n",
       "      <td>0.554195</td>\n",
       "      <td>0.456134</td>\n",
       "      <td>0.326180</td>\n",
       "      <td>57603.682457</td>\n",
       "      <td>0.339749</td>\n",
       "    </tr>\n",
       "    <tr>\n",
       "      <th>min</th>\n",
       "      <td>408.000000</td>\n",
       "      <td>66.000000</td>\n",
       "      <td>0.000000</td>\n",
       "      <td>0.000000</td>\n",
       "      <td>1.000000</td>\n",
       "      <td>0.000000</td>\n",
       "      <td>0.000000</td>\n",
       "      <td>937.150000</td>\n",
       "      <td>0.000000</td>\n",
       "    </tr>\n",
       "    <tr>\n",
       "      <th>25%</th>\n",
       "      <td>604.000000</td>\n",
       "      <td>67.000000</td>\n",
       "      <td>3.000000</td>\n",
       "      <td>0.000000</td>\n",
       "      <td>1.000000</td>\n",
       "      <td>0.000000</td>\n",
       "      <td>1.000000</td>\n",
       "      <td>50267.690000</td>\n",
       "      <td>0.000000</td>\n",
       "    </tr>\n",
       "    <tr>\n",
       "      <th>50%</th>\n",
       "      <td>662.000000</td>\n",
       "      <td>70.000000</td>\n",
       "      <td>5.000000</td>\n",
       "      <td>91285.220000</td>\n",
       "      <td>1.000000</td>\n",
       "      <td>1.000000</td>\n",
       "      <td>1.000000</td>\n",
       "      <td>99490.010000</td>\n",
       "      <td>0.000000</td>\n",
       "    </tr>\n",
       "    <tr>\n",
       "      <th>75%</th>\n",
       "      <td>732.000000</td>\n",
       "      <td>74.000000</td>\n",
       "      <td>8.000000</td>\n",
       "      <td>124978.190000</td>\n",
       "      <td>2.000000</td>\n",
       "      <td>1.000000</td>\n",
       "      <td>1.000000</td>\n",
       "      <td>146448.010000</td>\n",
       "      <td>0.000000</td>\n",
       "    </tr>\n",
       "    <tr>\n",
       "      <th>max</th>\n",
       "      <td>850.000000</td>\n",
       "      <td>92.000000</td>\n",
       "      <td>10.000000</td>\n",
       "      <td>187013.130000</td>\n",
       "      <td>3.000000</td>\n",
       "      <td>1.000000</td>\n",
       "      <td>1.000000</td>\n",
       "      <td>199493.380000</td>\n",
       "      <td>1.000000</td>\n",
       "    </tr>\n",
       "  </tbody>\n",
       "</table>\n",
       "</div>"
      ],
      "text/plain": [
       "       CreditScore         Age      Tenure        Balance  NumOfProducts  \\\n",
       "count   249.000000  249.000000  249.000000     249.000000     249.000000   \n",
       "mean    663.891566   71.176707    5.064257   72400.594819       1.518072   \n",
       "std      96.574350    4.595854    2.958702   62727.757722       0.554195   \n",
       "min     408.000000   66.000000    0.000000       0.000000       1.000000   \n",
       "25%     604.000000   67.000000    3.000000       0.000000       1.000000   \n",
       "50%     662.000000   70.000000    5.000000   91285.220000       1.000000   \n",
       "75%     732.000000   74.000000    8.000000  124978.190000       2.000000   \n",
       "max     850.000000   92.000000   10.000000  187013.130000       3.000000   \n",
       "\n",
       "        HasCrCard  IsActiveMember  EstimatedSalary      Exited  \n",
       "count  249.000000      249.000000       249.000000  249.000000  \n",
       "mean     0.706827        0.879518     98979.872530    0.132530  \n",
       "std      0.456134        0.326180     57603.682457    0.339749  \n",
       "min      0.000000        0.000000       937.150000    0.000000  \n",
       "25%      0.000000        1.000000     50267.690000    0.000000  \n",
       "50%      1.000000        1.000000     99490.010000    0.000000  \n",
       "75%      1.000000        1.000000    146448.010000    0.000000  \n",
       "max      1.000000        1.000000    199493.380000    1.000000  "
      ]
     },
     "execution_count": 20,
     "metadata": {},
     "output_type": "execute_result"
    }
   ],
   "source": [
    "data[data['Age'] > 65].describe()"
   ]
  },
  {
   "cell_type": "markdown",
   "metadata": {},
   "source": [
    "#### Столбец 'Balance'"
   ]
  },
  {
   "cell_type": "code",
   "execution_count": 21,
   "metadata": {},
   "outputs": [
    {
     "data": {
      "text/plain": [
       "<AxesSubplot:>"
      ]
     },
     "execution_count": 21,
     "metadata": {},
     "output_type": "execute_result"
    },
    {
     "data": {
      "image/png": "[encoded data removed]",
      "text/plain": [
       "<Figure size 432x288 with 1 Axes>"
      ]
     },
     "metadata": {
      "needs_background": "light"
     },
     "output_type": "display_data"
    }
   ],
   "source": [
    "#\n",
    "data.boxplot(column='Balance')"
   ]
  },
  {
   "cell_type": "code",
   "execution_count": 22,
   "metadata": {},
   "outputs": [
    {
     "data": {
      "text/plain": [
       "<AxesSubplot:>"
      ]
     },
     "execution_count": 22,
     "metadata": {},
     "output_type": "execute_result"
    },
    {
     "data": {
      "image/png": "[encoded data removed]",
      "text/plain": [
       "<Figure size 432x288 with 1 Axes>"
      ]
     },
     "metadata": {
      "needs_background": "light"
     },
     "output_type": "display_data"
    }
   ],
   "source": [
    "# построим гистограмму по Balance:\n",
    "data['Balance'].hist(bins=30)"
   ]
  },
  {
   "cell_type": "markdown",
   "metadata": {},
   "source": [
    "#### Столбец 'EstimatedSalary'"
   ]
  },
  {
   "cell_type": "code",
   "execution_count": 23,
   "metadata": {},
   "outputs": [
    {
     "data": {
      "text/plain": [
       "<AxesSubplot:>"
      ]
     },
     "execution_count": 23,
     "metadata": {},
     "output_type": "execute_result"
    },
    {
     "data": {
      "image/png": "[encoded data removed]",
      "text/plain": [
       "<Figure size 432x288 with 1 Axes>"
      ]
     },
     "metadata": {
      "needs_background": "light"
     },
     "output_type": "display_data"
    }
   ],
   "source": [
    "#\n",
    "data.boxplot(column='EstimatedSalary')"
   ]
  },
  {
   "cell_type": "code",
   "execution_count": 24,
   "metadata": {},
   "outputs": [
    {
     "data": {
      "text/plain": [
       "<AxesSubplot:>"
      ]
     },
     "execution_count": 24,
     "metadata": {},
     "output_type": "execute_result"
    },
    {
     "data": {
      "image/png": "[encoded data removed]",
      "text/plain": [
       "<Figure size 432x288 with 1 Axes>"
      ]
     },
     "metadata": {
      "needs_background": "light"
     },
     "output_type": "display_data"
    }
   ],
   "source": [
    "# построим гистограмму по EstimatedSalary:\n",
    "data['EstimatedSalary'].hist(bins=30)"
   ]
  },
  {
   "cell_type": "code",
   "execution_count": 25,
   "metadata": {},
   "outputs": [
    {
     "data": {
      "text/html": [
       "<div>\n",
       "<style scoped>\n",
       "    .dataframe tbody tr th:only-of-type {\n",
       "        vertical-align: middle;\n",
       "    }\n",
       "\n",
       "    .dataframe tbody tr th {\n",
       "        vertical-align: top;\n",
       "    }\n",
       "\n",
       "    .dataframe thead th {\n",
       "        text-align: right;\n",
       "    }\n",
       "</style>\n",
       "<table border=\"1\" class=\"dataframe\">\n",
       "  <thead>\n",
       "    <tr style=\"text-align: right;\">\n",
       "      <th></th>\n",
       "      <th>CreditScore</th>\n",
       "      <th>Age</th>\n",
       "      <th>Tenure</th>\n",
       "      <th>Balance</th>\n",
       "      <th>NumOfProducts</th>\n",
       "      <th>HasCrCard</th>\n",
       "      <th>IsActiveMember</th>\n",
       "      <th>EstimatedSalary</th>\n",
       "      <th>Exited</th>\n",
       "    </tr>\n",
       "  </thead>\n",
       "  <tbody>\n",
       "    <tr>\n",
       "      <th>CreditScore</th>\n",
       "      <td>1.000000</td>\n",
       "      <td>-0.004504</td>\n",
       "      <td>-0.000062</td>\n",
       "      <td>0.002804</td>\n",
       "      <td>0.011090</td>\n",
       "      <td>-0.003937</td>\n",
       "      <td>0.030947</td>\n",
       "      <td>0.005182</td>\n",
       "      <td>-0.023950</td>\n",
       "    </tr>\n",
       "    <tr>\n",
       "      <th>Age</th>\n",
       "      <td>-0.004504</td>\n",
       "      <td>1.000000</td>\n",
       "      <td>-0.013134</td>\n",
       "      <td>0.031481</td>\n",
       "      <td>-0.031877</td>\n",
       "      <td>-0.014129</td>\n",
       "      <td>0.082269</td>\n",
       "      <td>-0.007037</td>\n",
       "      <td>0.283017</td>\n",
       "    </tr>\n",
       "    <tr>\n",
       "      <th>Tenure</th>\n",
       "      <td>-0.000062</td>\n",
       "      <td>-0.013134</td>\n",
       "      <td>1.000000</td>\n",
       "      <td>-0.007911</td>\n",
       "      <td>0.011979</td>\n",
       "      <td>0.027232</td>\n",
       "      <td>-0.032178</td>\n",
       "      <td>0.010520</td>\n",
       "      <td>-0.016761</td>\n",
       "    </tr>\n",
       "    <tr>\n",
       "      <th>Balance</th>\n",
       "      <td>0.002804</td>\n",
       "      <td>0.031481</td>\n",
       "      <td>-0.007911</td>\n",
       "      <td>1.000000</td>\n",
       "      <td>-0.301858</td>\n",
       "      <td>-0.019055</td>\n",
       "      <td>-0.003285</td>\n",
       "      <td>0.014351</td>\n",
       "      <td>0.117218</td>\n",
       "    </tr>\n",
       "    <tr>\n",
       "      <th>NumOfProducts</th>\n",
       "      <td>0.011090</td>\n",
       "      <td>-0.031877</td>\n",
       "      <td>0.011979</td>\n",
       "      <td>-0.301858</td>\n",
       "      <td>1.000000</td>\n",
       "      <td>0.005805</td>\n",
       "      <td>0.009084</td>\n",
       "      <td>0.013990</td>\n",
       "      <td>-0.050271</td>\n",
       "    </tr>\n",
       "    <tr>\n",
       "      <th>HasCrCard</th>\n",
       "      <td>-0.003937</td>\n",
       "      <td>-0.014129</td>\n",
       "      <td>0.027232</td>\n",
       "      <td>-0.019055</td>\n",
       "      <td>0.005805</td>\n",
       "      <td>1.000000</td>\n",
       "      <td>-0.008810</td>\n",
       "      <td>-0.006136</td>\n",
       "      <td>-0.005411</td>\n",
       "    </tr>\n",
       "    <tr>\n",
       "      <th>IsActiveMember</th>\n",
       "      <td>0.030947</td>\n",
       "      <td>0.082269</td>\n",
       "      <td>-0.032178</td>\n",
       "      <td>-0.003285</td>\n",
       "      <td>0.009084</td>\n",
       "      <td>-0.008810</td>\n",
       "      <td>1.000000</td>\n",
       "      <td>-0.020049</td>\n",
       "      <td>-0.155062</td>\n",
       "    </tr>\n",
       "    <tr>\n",
       "      <th>EstimatedSalary</th>\n",
       "      <td>0.005182</td>\n",
       "      <td>-0.007037</td>\n",
       "      <td>0.010520</td>\n",
       "      <td>0.014351</td>\n",
       "      <td>0.013990</td>\n",
       "      <td>-0.006136</td>\n",
       "      <td>-0.020049</td>\n",
       "      <td>1.000000</td>\n",
       "      <td>0.016029</td>\n",
       "    </tr>\n",
       "    <tr>\n",
       "      <th>Exited</th>\n",
       "      <td>-0.023950</td>\n",
       "      <td>0.283017</td>\n",
       "      <td>-0.016761</td>\n",
       "      <td>0.117218</td>\n",
       "      <td>-0.050271</td>\n",
       "      <td>-0.005411</td>\n",
       "      <td>-0.155062</td>\n",
       "      <td>0.016029</td>\n",
       "      <td>1.000000</td>\n",
       "    </tr>\n",
       "  </tbody>\n",
       "</table>\n",
       "</div>"
      ],
      "text/plain": [
       "                 CreditScore       Age    Tenure   Balance  NumOfProducts  \\\n",
       "CreditScore         1.000000 -0.004504 -0.000062  0.002804       0.011090   \n",
       "Age                -0.004504  1.000000 -0.013134  0.031481      -0.031877   \n",
       "Tenure             -0.000062 -0.013134  1.000000 -0.007911       0.011979   \n",
       "Balance             0.002804  0.031481 -0.007911  1.000000      -0.301858   \n",
       "NumOfProducts       0.011090 -0.031877  0.011979 -0.301858       1.000000   \n",
       "HasCrCard          -0.003937 -0.014129  0.027232 -0.019055       0.005805   \n",
       "IsActiveMember      0.030947  0.082269 -0.032178 -0.003285       0.009084   \n",
       "EstimatedSalary     0.005182 -0.007037  0.010520  0.014351       0.013990   \n",
       "Exited             -0.023950  0.283017 -0.016761  0.117218      -0.050271   \n",
       "\n",
       "                 HasCrCard  IsActiveMember  EstimatedSalary    Exited  \n",
       "CreditScore      -0.003937        0.030947         0.005182 -0.023950  \n",
       "Age              -0.014129        0.082269        -0.007037  0.283017  \n",
       "Tenure            0.027232       -0.032178         0.010520 -0.016761  \n",
       "Balance          -0.019055       -0.003285         0.014351  0.117218  \n",
       "NumOfProducts     0.005805        0.009084         0.013990 -0.050271  \n",
       "HasCrCard         1.000000       -0.008810        -0.006136 -0.005411  \n",
       "IsActiveMember   -0.008810        1.000000        -0.020049 -0.155062  \n",
       "EstimatedSalary  -0.006136       -0.020049         1.000000  0.016029  \n",
       "Exited           -0.005411       -0.155062         0.016029  1.000000  "
      ]
     },
     "execution_count": 25,
     "metadata": {},
     "output_type": "execute_result"
    }
   ],
   "source": [
    "# проверим как данные коррелируют друг с другом\n",
    "data.corr()"
   ]
  },
  {
   "cell_type": "markdown",
   "metadata": {},
   "source": [
    "**Вывод:** в данных не наблюдается сильной корреляции между параметрами. "
   ]
  },
  {
   "cell_type": "markdown",
   "metadata": {},
   "source": [
    "### Кодирование признаков"
   ]
  },
  {
   "cell_type": "markdown",
   "metadata": {},
   "source": [
    "Столбцы `Geography` и `Gender` обработаем методом прямого кодирования. "
   ]
  },
  {
   "cell_type": "code",
   "execution_count": 26,
   "metadata": {},
   "outputs": [
    {
     "data": {
      "text/html": [
       "<div>\n",
       "<style scoped>\n",
       "    .dataframe tbody tr th:only-of-type {\n",
       "        vertical-align: middle;\n",
       "    }\n",
       "\n",
       "    .dataframe tbody tr th {\n",
       "        vertical-align: top;\n",
       "    }\n",
       "\n",
       "    .dataframe thead th {\n",
       "        text-align: right;\n",
       "    }\n",
       "</style>\n",
       "<table border=\"1\" class=\"dataframe\">\n",
       "  <thead>\n",
       "    <tr style=\"text-align: right;\">\n",
       "      <th></th>\n",
       "      <th>CreditScore</th>\n",
       "      <th>Age</th>\n",
       "      <th>Tenure</th>\n",
       "      <th>Balance</th>\n",
       "      <th>NumOfProducts</th>\n",
       "      <th>HasCrCard</th>\n",
       "      <th>IsActiveMember</th>\n",
       "      <th>EstimatedSalary</th>\n",
       "      <th>Exited</th>\n",
       "      <th>Geography_Germany</th>\n",
       "      <th>Geography_Spain</th>\n",
       "      <th>Gender_Male</th>\n",
       "    </tr>\n",
       "  </thead>\n",
       "  <tbody>\n",
       "    <tr>\n",
       "      <th>0</th>\n",
       "      <td>619</td>\n",
       "      <td>42</td>\n",
       "      <td>2.0</td>\n",
       "      <td>0.00</td>\n",
       "      <td>1</td>\n",
       "      <td>1</td>\n",
       "      <td>1</td>\n",
       "      <td>101348.88</td>\n",
       "      <td>1</td>\n",
       "      <td>0</td>\n",
       "      <td>0</td>\n",
       "      <td>0</td>\n",
       "    </tr>\n",
       "    <tr>\n",
       "      <th>1</th>\n",
       "      <td>608</td>\n",
       "      <td>41</td>\n",
       "      <td>1.0</td>\n",
       "      <td>83807.86</td>\n",
       "      <td>1</td>\n",
       "      <td>0</td>\n",
       "      <td>1</td>\n",
       "      <td>112542.58</td>\n",
       "      <td>0</td>\n",
       "      <td>0</td>\n",
       "      <td>1</td>\n",
       "      <td>0</td>\n",
       "    </tr>\n",
       "    <tr>\n",
       "      <th>2</th>\n",
       "      <td>502</td>\n",
       "      <td>42</td>\n",
       "      <td>8.0</td>\n",
       "      <td>159660.80</td>\n",
       "      <td>3</td>\n",
       "      <td>1</td>\n",
       "      <td>0</td>\n",
       "      <td>113931.57</td>\n",
       "      <td>1</td>\n",
       "      <td>0</td>\n",
       "      <td>0</td>\n",
       "      <td>0</td>\n",
       "    </tr>\n",
       "    <tr>\n",
       "      <th>3</th>\n",
       "      <td>699</td>\n",
       "      <td>39</td>\n",
       "      <td>1.0</td>\n",
       "      <td>0.00</td>\n",
       "      <td>2</td>\n",
       "      <td>0</td>\n",
       "      <td>0</td>\n",
       "      <td>93826.63</td>\n",
       "      <td>0</td>\n",
       "      <td>0</td>\n",
       "      <td>0</td>\n",
       "      <td>0</td>\n",
       "    </tr>\n",
       "    <tr>\n",
       "      <th>4</th>\n",
       "      <td>850</td>\n",
       "      <td>43</td>\n",
       "      <td>2.0</td>\n",
       "      <td>125510.82</td>\n",
       "      <td>1</td>\n",
       "      <td>1</td>\n",
       "      <td>1</td>\n",
       "      <td>79084.10</td>\n",
       "      <td>0</td>\n",
       "      <td>0</td>\n",
       "      <td>1</td>\n",
       "      <td>0</td>\n",
       "    </tr>\n",
       "  </tbody>\n",
       "</table>\n",
       "</div>"
      ],
      "text/plain": [
       "   CreditScore  Age  Tenure    Balance  NumOfProducts  HasCrCard  \\\n",
       "0          619   42     2.0       0.00              1          1   \n",
       "1          608   41     1.0   83807.86              1          0   \n",
       "2          502   42     8.0  159660.80              3          1   \n",
       "3          699   39     1.0       0.00              2          0   \n",
       "4          850   43     2.0  125510.82              1          1   \n",
       "\n",
       "   IsActiveMember  EstimatedSalary  Exited  Geography_Germany  \\\n",
       "0               1        101348.88       1                  0   \n",
       "1               1        112542.58       0                  0   \n",
       "2               0        113931.57       1                  0   \n",
       "3               0         93826.63       0                  0   \n",
       "4               1         79084.10       0                  0   \n",
       "\n",
       "   Geography_Spain  Gender_Male  \n",
       "0                0            0  \n",
       "1                1            0  \n",
       "2                0            0  \n",
       "3                0            0  \n",
       "4                1            0  "
      ]
     },
     "execution_count": 26,
     "metadata": {},
     "output_type": "execute_result"
    }
   ],
   "source": [
    "# метод OHE\n",
    "data_ohe = pd.get_dummies(data, drop_first=True)\n",
    "data_ohe.head()"
   ]
  },
  {
   "cell_type": "markdown",
   "metadata": {},
   "source": [
    "Данные преобразованы. "
   ]
  },
  {
   "cell_type": "markdown",
   "metadata": {},
   "source": [
    "### Масштабирование признаков"
   ]
  },
  {
   "cell_type": "markdown",
   "metadata": {},
   "source": [
    "Приведем количественные данные к единому масштабу методом стандартизации. \n",
    "\n",
    "Будем работать со столбцами: `CreditScore`, `Age`, `Balance`, `EstimatedSalary`."
   ]
  },
  {
   "cell_type": "code",
   "execution_count": 27,
   "metadata": {},
   "outputs": [
    {
     "data": {
      "text/html": [
       "<div>\n",
       "<style scoped>\n",
       "    .dataframe tbody tr th:only-of-type {\n",
       "        vertical-align: middle;\n",
       "    }\n",
       "\n",
       "    .dataframe tbody tr th {\n",
       "        vertical-align: top;\n",
       "    }\n",
       "\n",
       "    .dataframe thead th {\n",
       "        text-align: right;\n",
       "    }\n",
       "</style>\n",
       "<table border=\"1\" class=\"dataframe\">\n",
       "  <thead>\n",
       "    <tr style=\"text-align: right;\">\n",
       "      <th></th>\n",
       "      <th>CreditScore</th>\n",
       "      <th>Age</th>\n",
       "      <th>Tenure</th>\n",
       "      <th>Balance</th>\n",
       "      <th>NumOfProducts</th>\n",
       "      <th>HasCrCard</th>\n",
       "      <th>IsActiveMember</th>\n",
       "      <th>EstimatedSalary</th>\n",
       "      <th>Exited</th>\n",
       "      <th>Geography_Germany</th>\n",
       "      <th>Geography_Spain</th>\n",
       "      <th>Gender_Male</th>\n",
       "    </tr>\n",
       "  </thead>\n",
       "  <tbody>\n",
       "    <tr>\n",
       "      <th>0</th>\n",
       "      <td>-0.329200</td>\n",
       "      <td>0.289040</td>\n",
       "      <td>2.0</td>\n",
       "      <td>-1.227780</td>\n",
       "      <td>1</td>\n",
       "      <td>1</td>\n",
       "      <td>1</td>\n",
       "      <td>0.020264</td>\n",
       "      <td>1</td>\n",
       "      <td>0</td>\n",
       "      <td>0</td>\n",
       "      <td>0</td>\n",
       "    </tr>\n",
       "    <tr>\n",
       "      <th>1</th>\n",
       "      <td>-0.443301</td>\n",
       "      <td>0.194298</td>\n",
       "      <td>1.0</td>\n",
       "      <td>0.116887</td>\n",
       "      <td>1</td>\n",
       "      <td>0</td>\n",
       "      <td>1</td>\n",
       "      <td>0.214527</td>\n",
       "      <td>0</td>\n",
       "      <td>0</td>\n",
       "      <td>1</td>\n",
       "      <td>0</td>\n",
       "    </tr>\n",
       "    <tr>\n",
       "      <th>2</th>\n",
       "      <td>-1.542828</td>\n",
       "      <td>0.289040</td>\n",
       "      <td>8.0</td>\n",
       "      <td>1.333920</td>\n",
       "      <td>3</td>\n",
       "      <td>1</td>\n",
       "      <td>0</td>\n",
       "      <td>0.238632</td>\n",
       "      <td>1</td>\n",
       "      <td>0</td>\n",
       "      <td>0</td>\n",
       "      <td>0</td>\n",
       "    </tr>\n",
       "    <tr>\n",
       "      <th>3</th>\n",
       "      <td>0.500631</td>\n",
       "      <td>0.004815</td>\n",
       "      <td>1.0</td>\n",
       "      <td>-1.227780</td>\n",
       "      <td>2</td>\n",
       "      <td>0</td>\n",
       "      <td>0</td>\n",
       "      <td>-0.110281</td>\n",
       "      <td>0</td>\n",
       "      <td>0</td>\n",
       "      <td>0</td>\n",
       "      <td>0</td>\n",
       "    </tr>\n",
       "    <tr>\n",
       "      <th>4</th>\n",
       "      <td>2.066937</td>\n",
       "      <td>0.383782</td>\n",
       "      <td>2.0</td>\n",
       "      <td>0.785996</td>\n",
       "      <td>1</td>\n",
       "      <td>1</td>\n",
       "      <td>1</td>\n",
       "      <td>-0.366132</td>\n",
       "      <td>0</td>\n",
       "      <td>0</td>\n",
       "      <td>1</td>\n",
       "      <td>0</td>\n",
       "    </tr>\n",
       "  </tbody>\n",
       "</table>\n",
       "</div>"
      ],
      "text/plain": [
       "   CreditScore       Age  Tenure   Balance  NumOfProducts  HasCrCard  \\\n",
       "0    -0.329200  0.289040     2.0 -1.227780              1          1   \n",
       "1    -0.443301  0.194298     1.0  0.116887              1          0   \n",
       "2    -1.542828  0.289040     8.0  1.333920              3          1   \n",
       "3     0.500631  0.004815     1.0 -1.227780              2          0   \n",
       "4     2.066937  0.383782     2.0  0.785996              1          1   \n",
       "\n",
       "   IsActiveMember  EstimatedSalary  Exited  Geography_Germany  \\\n",
       "0               1         0.020264       1                  0   \n",
       "1               1         0.214527       0                  0   \n",
       "2               0         0.238632       1                  0   \n",
       "3               0        -0.110281       0                  0   \n",
       "4               1        -0.366132       0                  0   \n",
       "\n",
       "   Geography_Spain  Gender_Male  \n",
       "0                0            0  \n",
       "1                1            0  \n",
       "2                0            0  \n",
       "3                0            0  \n",
       "4                1            0  "
      ]
     },
     "execution_count": 27,
     "metadata": {},
     "output_type": "execute_result"
    }
   ],
   "source": [
    "# выделим необходимые столбцы\n",
    "numeric = ['CreditScore', 'Age', 'Balance', 'EstimatedSalary']\n",
    "data_scaled = data_ohe.copy()\n",
    "\n",
    "# стандартизируем данные\n",
    "scaler = StandardScaler()\n",
    "scaler.fit(data_ohe[numeric])\n",
    "data_scaled[numeric] = scaler.transform(data_ohe[numeric])\n",
    "\n",
    "# проверим \n",
    "data_scaled.head()"
   ]
  },
  {
   "cell_type": "markdown",
   "metadata": {},
   "source": [
    "Все количественные данные приведены к единому масштабу. "
   ]
  },
  {
   "cell_type": "markdown",
   "metadata": {},
   "source": [
    "### Вывод"
   ]
  },
  {
   "cell_type": "markdown",
   "metadata": {},
   "source": [
    "Все данные приведены в соответствие."
   ]
  },
  {
   "cell_type": "markdown",
   "metadata": {},
   "source": [
    "## Исследование задачи"
   ]
  },
  {
   "cell_type": "markdown",
   "metadata": {},
   "source": [
    "### Баланс классов"
   ]
  },
  {
   "cell_type": "markdown",
   "metadata": {},
   "source": [
    "Исследуем баланс классов и выведем результат в виде гистограммы:"
   ]
  },
  {
   "cell_type": "code",
   "execution_count": 28,
   "metadata": {
    "scrolled": true
   },
   "outputs": [
    {
     "data": {
      "text/plain": [
       "<AxesSubplot:>"
      ]
     },
     "execution_count": 28,
     "metadata": {},
     "output_type": "execute_result"
    },
    {
     "data": {
      "image/png": "[encoded data removed]",
      "text/plain": [
       "<Figure size 432x288 with 1 Axes>"
      ]
     },
     "metadata": {
      "needs_background": "light"
     },
     "output_type": "display_data"
    }
   ],
   "source": [
    "data_scaled['Exited'].value_counts(normalize=True).plot(kind='bar', grid=True)"
   ]
  },
  {
   "cell_type": "markdown",
   "metadata": {},
   "source": [
    "Наблюдаетя дисбаланс классов с перевесом в сторону отрицательного класса: `1:4`. "
   ]
  },
  {
   "cell_type": "markdown",
   "metadata": {},
   "source": [
    "### Разделение признаков"
   ]
  },
  {
   "cell_type": "markdown",
   "metadata": {},
   "source": [
    "Разделим признаки на целевой и остальные.\n",
    "\n",
    "Разделим выборки: на тестовую, валидационную и обучающую. "
   ]
  },
  {
   "cell_type": "code",
   "execution_count": 29,
   "metadata": {},
   "outputs": [
    {
     "name": "stdout",
     "output_type": "stream",
     "text": [
      "(5454, 11)\n",
      "(5454,)\n",
      "(1819, 11)\n",
      "(1819,)\n",
      "(1818, 11)\n",
      "(1818,)\n"
     ]
    }
   ],
   "source": [
    "# разделеные признаков\n",
    "features = data_scaled.drop(columns='Exited')\n",
    "target = data_scaled['Exited']\n",
    "\n",
    "# разделение выборок\n",
    "features_train, features_test_valid, target_train, target_test_valid = train_test_split(features,\n",
    "                                        target, test_size=.4, stratify=target, random_state=12345)\n",
    "\n",
    "features_test, features_valid, target_test, target_valid = train_test_split(features_test_valid,\n",
    "                                    target_test_valid, test_size=.5, stratify=target_test_valid, random_state=12345)\n",
    "\n",
    "\n",
    "# проверка\n",
    "print(features_train.shape,\n",
    "      target_train.shape,\n",
    "      features_valid.shape,\n",
    "      target_valid.shape,\n",
    "      features_test.shape,\n",
    "      target_test.shape,\n",
    "     sep='\\n')"
   ]
  },
  {
   "cell_type": "markdown",
   "metadata": {},
   "source": [
    "Признаки разделены на тестовую, валидационную и обучающую выборки. "
   ]
  },
  {
   "cell_type": "markdown",
   "metadata": {},
   "source": [
    "### Обучение модели"
   ]
  },
  {
   "cell_type": "markdown",
   "metadata": {},
   "source": [
    "Рассмотрим три модели и выберем лучшую сред них."
   ]
  },
  {
   "cell_type": "markdown",
   "metadata": {},
   "source": [
    "#### Модель \"Решающего дерева\""
   ]
  },
  {
   "cell_type": "code",
   "execution_count": 30,
   "metadata": {},
   "outputs": [
    {
     "name": "stderr",
     "output_type": "stream",
     "text": [
      "100%|█████████████████████████████████████████| 150/150 [00:03<00:00, 40.20it/s]"
     ]
    },
    {
     "name": "stdout",
     "output_type": "stream",
     "text": [
      "f1_score наилучшей модели на валидационной выборке: 0.557659208261618\n",
      "Confusion matrix:\n",
      "[1400   48]\n",
      "[209 162]\n",
      "Лучшие гиперпараметры: DecisionTreeClassifier(max_depth=7, random_state=12345)\n"
     ]
    },
    {
     "name": "stderr",
     "output_type": "stream",
     "text": [
      "\n"
     ]
    }
   ],
   "source": [
    "# обучение и проверка на валидационной выборке модели DecisionTreeClassifier\n",
    "best_model_tree = None\n",
    "best_result_tree = 0\n",
    "results = {}\n",
    "\n",
    "for i in tqdm(range(1, 151)):\n",
    "    model = DecisionTreeClassifier(max_depth=i, random_state=12345)\n",
    "    model.fit(features_train, target_train)\n",
    "    predictions_valid = model.predict(features_valid)\n",
    "    result = f1_score(target_valid, predictions_valid)\n",
    "    if result > best_result_tree:\n",
    "        best_model_tree = model # сохраните наилучшую модель\n",
    "        best_result_tree = result\n",
    "        \n",
    "        \n",
    "# вывод результатов        \n",
    "print('f1_score наилучшей модели на валидационной выборке:', best_result_tree)\n",
    "print('Confusion matrix:', *confusion_matrix(target_valid, best_model_tree.predict(features_valid)), sep='\\n')\n",
    "print('Лучшие гиперпараметры:', best_model_tree)"
   ]
  },
  {
   "cell_type": "code",
   "execution_count": 31,
   "metadata": {},
   "outputs": [],
   "source": [
    "# формируем словарь с лучшими моделями\n",
    "results[best_model_tree] = best_result_tree"
   ]
  },
  {
   "cell_type": "markdown",
   "metadata": {},
   "source": [
    "#### Модель \"Случайного леса\""
   ]
  },
  {
   "cell_type": "code",
   "execution_count": 32,
   "metadata": {},
   "outputs": [
    {
     "name": "stderr",
     "output_type": "stream",
     "text": [
      "100%|█████████████████████████████████████████| 150/150 [01:56<00:00,  1.29it/s]"
     ]
    },
    {
     "name": "stdout",
     "output_type": "stream",
     "text": [
      "f1_score наилучшей модели на валидационной выборке: 0.5758620689655173\n",
      "Confusion matrix:\n",
      "[1406   42]\n",
      "[204 167]\n",
      "Лучшие гиперпараметры: RandomForestClassifier(max_depth=12, n_estimators=150, random_state=12345)\n"
     ]
    },
    {
     "name": "stderr",
     "output_type": "stream",
     "text": [
      "\n"
     ]
    }
   ],
   "source": [
    "# обучение и проверка на валидационной выборке модели RandomForestClassifier\n",
    "best_model_forest = None\n",
    "best_result_forest = 0\n",
    "\n",
    "for num in tqdm(range(1, 151)):\n",
    "    model_forest = RandomForestClassifier(n_estimators=i, max_depth=12, random_state=12345)\n",
    "    model_forest.fit(features_train, target_train)\n",
    "    predictions_valid = model_forest.predict(features_valid)\n",
    "    result = f1_score(target_valid, predictions_valid)\n",
    "    if result > best_result_forest:\n",
    "        best_model_forest = model_forest\n",
    "        best_result_forest = result\n",
    "        \n",
    "        \n",
    "# вывод результата:        \n",
    "print('f1_score наилучшей модели на валидационной выборке:', best_result_forest)\n",
    "print('Confusion matrix:', *confusion_matrix(target_valid, best_model_forest.predict(features_valid)), sep='\\n')\n",
    "print('Лучшие гиперпараметры:', best_model_forest)"
   ]
  },
  {
   "cell_type": "code",
   "execution_count": 33,
   "metadata": {},
   "outputs": [],
   "source": [
    "# формируем словарь с лучшими моделями\n",
    "results[best_model_forest] = best_result_forest"
   ]
  },
  {
   "cell_type": "markdown",
   "metadata": {},
   "source": [
    "#### Результаты на тестовой выборке"
   ]
  },
  {
   "cell_type": "markdown",
   "metadata": {},
   "source": [
    "Модели с лучшими параметрами на **валидационной выборке**:"
   ]
  },
  {
   "cell_type": "code",
   "execution_count": 34,
   "metadata": {},
   "outputs": [
    {
     "data": {
      "text/html": [
       "<div>\n",
       "<style scoped>\n",
       "    .dataframe tbody tr th:only-of-type {\n",
       "        vertical-align: middle;\n",
       "    }\n",
       "\n",
       "    .dataframe tbody tr th {\n",
       "        vertical-align: top;\n",
       "    }\n",
       "\n",
       "    .dataframe thead th {\n",
       "        text-align: right;\n",
       "    }\n",
       "</style>\n",
       "<table border=\"1\" class=\"dataframe\">\n",
       "  <thead>\n",
       "    <tr style=\"text-align: right;\">\n",
       "      <th></th>\n",
       "      <th>model</th>\n",
       "      <th>f1_score_valid</th>\n",
       "      <th>balancing</th>\n",
       "    </tr>\n",
       "  </thead>\n",
       "  <tbody>\n",
       "    <tr>\n",
       "      <th>0</th>\n",
       "      <td>DecisionTreeClassifier(max_depth=7, random_sta...</td>\n",
       "      <td>0.557659</td>\n",
       "      <td>0</td>\n",
       "    </tr>\n",
       "    <tr>\n",
       "      <th>1</th>\n",
       "      <td>(DecisionTreeClassifier(max_depth=12, max_feat...</td>\n",
       "      <td>0.575862</td>\n",
       "      <td>0</td>\n",
       "    </tr>\n",
       "  </tbody>\n",
       "</table>\n",
       "</div>"
      ],
      "text/plain": [
       "                                               model  f1_score_valid  \\\n",
       "0  DecisionTreeClassifier(max_depth=7, random_sta...        0.557659   \n",
       "1  (DecisionTreeClassifier(max_depth=12, max_feat...        0.575862   \n",
       "\n",
       "   balancing  \n",
       "0          0  \n",
       "1          0  "
      ]
     },
     "execution_count": 34,
     "metadata": {},
     "output_type": "execute_result"
    }
   ],
   "source": [
    "df = pd.DataFrame(results.items(), columns=['model', 'f1_score_valid'])\n",
    "df['balancing'] = [0, 0]\n",
    "\n",
    "df"
   ]
  },
  {
   "cell_type": "markdown",
   "metadata": {},
   "source": [
    "Лучшей моделью, показавшей лучшие результаты `f1 score` на валидационной выборке оказалась модель \"Случайного леса\" c гиперпараметрами: `n_estimators=141`.\n",
    "\n",
    "Проверим эту модель на **тестовой выборке** и построим `confusion matrix` и `ROC curve`."
   ]
  },
  {
   "cell_type": "code",
   "execution_count": 35,
   "metadata": {},
   "outputs": [
    {
     "name": "stdout",
     "output_type": "stream",
     "text": [
      "f1 score наилучшей модели на тестовой выборке: 0.6006711409395973\n",
      "Confusion matrix:\n",
      "[1401   46]\n",
      "[192 179]\n",
      "Модель: RandomForestClassifier(max_depth=12, n_estimators=150, random_state=12345)\n"
     ]
    }
   ],
   "source": [
    "# проверка RandomForestClassifier на тестовой выборке\n",
    "predicted_test = best_model_forest.predict(features_test)\n",
    "\n",
    "# расчет вероятностей классов\n",
    "probabilities_test = best_model_forest.predict_proba(features_test)\n",
    "probabilities_one_test = probabilities_test[:, 1]\n",
    "\n",
    "# построение confusion_matrix и расчет f1_score\n",
    "matrix = confusion_matrix(target_test, predicted_test)\n",
    "result = f1_score(target_test, predicted_test)\n",
    "\n",
    "# расчет roc_auc_score\n",
    "auc_roc = roc_auc_score(target_test, probabilities_one_test)\n",
    "\n",
    "# расчет fpr, tpr, thresholds для ROC-кривой\n",
    "fpr, tpr, thresholds = roc_curve(target_test, probabilities_one_test)\n",
    "\n",
    "\n",
    "print('f1 score наилучшей модели на тестовой выборке:', result)\n",
    "print('Confusion matrix:', *matrix, sep='\\n')\n",
    "print('Модель:', best_model_forest)"
   ]
  },
  {
   "cell_type": "code",
   "execution_count": 36,
   "metadata": {},
   "outputs": [
    {
     "data": {
      "image/png": "[encoded data removed]",
      "text/plain": [
       "<Figure size 432x288 with 1 Axes>"
      ]
     },
     "metadata": {
      "needs_background": "light"
     },
     "output_type": "display_data"
    }
   ],
   "source": [
    "#ROC_AUC curve\n",
    "plt.figure()\n",
    "\n",
    "# график roc_auc\n",
    "plt.plot(fpr, tpr, label=\"AUC=\"+str(auc_roc))\n",
    "# random model\n",
    "plt.plot([0, 1], [0, 1], linestyle='--', label='Random model')\n",
    "\n",
    "# plot limits\n",
    "plt.xlim([0, 1])\n",
    "plt.ylim([0, 1])\n",
    "\n",
    "# x-y labels\n",
    "plt.xlabel('False Positive Rate')\n",
    "plt.ylabel('True Positive Rate')\n",
    "\n",
    "# main title\n",
    "plt.title('ROC-кривая')\n",
    "\n",
    "# legend\n",
    "plt.legend(loc=4)\n",
    "\n",
    "plt.show()"
   ]
  },
  {
   "cell_type": "markdown",
   "metadata": {},
   "source": [
    "### Вывод"
   ]
  },
  {
   "cell_type": "markdown",
   "metadata": {},
   "source": [
    "В датасете в данных наблюдаетяс дисбаланс классов в соотношении 0 класса к 1 классу, как `4:1`. Дисбаланс влияет на обучение модели и, на ее предсказания.\n",
    "\n",
    "Было обчено и протестировано 3 модели на дисбалансированных данных: `DecisionTreeClassifier`, `RandomForestClassifier`, `LogisticRegression`. Лучшей моделью оказалась модель `RandomForestClassifier(max_depth=12, n_estimators=150, random_state=12345)` со значением `f1_score = 0.6006711409395973`.\n",
    "\n",
    "Однако, если проанализировать матрицу ошибок, то можно сделать вывод, что данная модель не подходит для внедрения. Модель предсказала: `FN = 192` практически равно `TP = 179`, т.е. модель не смогла идентифицировать верно клиентов, которые планируют уйти, тем самым возникает ошибка второго рода. \n",
    "\n",
    "Данная ошибка прослеживается во всех рассмотренных моделях. Вероятно, устранение дисбаланса классов решит данную проблему."
   ]
  },
  {
   "cell_type": "markdown",
   "metadata": {},
   "source": [
    "## Борьба с дисбалансом"
   ]
  },
  {
   "cell_type": "markdown",
   "metadata": {},
   "source": [
    "Реализуем три способа борьбы с дисбалансом классов: *upsampling*, *downsampling*, *calss weight*. Сравним результаты на валидационной выборке и спрогнозируем отток клиентов на тестовой выборке лучшей моделью. "
   ]
  },
  {
   "cell_type": "markdown",
   "metadata": {},
   "source": [
    "### Class weight"
   ]
  },
  {
   "cell_type": "markdown",
   "metadata": {},
   "source": [
    "Сбалансируем выборки путем уравнивания веса классов.\n",
    "\n",
    "Так как размеры выборок остануться неизменными, а добавится гиперпараметр в модель, обучим заново все модели с дополнительным гиперпараметром:"
   ]
  },
  {
   "cell_type": "markdown",
   "metadata": {},
   "source": [
    "#### Модель \"Решающего дерева\""
   ]
  },
  {
   "cell_type": "code",
   "execution_count": 37,
   "metadata": {},
   "outputs": [
    {
     "name": "stderr",
     "output_type": "stream",
     "text": [
      "100%|█████████████████████████████████████████| 150/150 [00:03<00:00, 40.87it/s]"
     ]
    },
    {
     "name": "stdout",
     "output_type": "stream",
     "text": [
      "f1_score наилучшей модели на валидационной выборке: 0.5675675675675674\n",
      "Confusion matrix:\n",
      "[1183  265]\n",
      "[119 252]\n",
      "Лучшие гиперпараметры: DecisionTreeClassifier(class_weight='balanced', max_depth=8, random_state=12345)\n"
     ]
    },
    {
     "name": "stderr",
     "output_type": "stream",
     "text": [
      "\n"
     ]
    }
   ],
   "source": [
    "# DecisionTreeClassifier\n",
    "best_model_weight_tree = None\n",
    "best_result_weight_tree = 0\n",
    "results_weight = {}\n",
    "\n",
    "for depth in tqdm(range(1, 151)):\n",
    "    model_weight_tree = DecisionTreeClassifier(max_depth=depth, class_weight='balanced', random_state=12345)\n",
    "    model_weight_tree.fit(features_train, target_train)\n",
    "    predicted_valid = model_weight_tree.predict(features_valid)\n",
    "    result = f1_score(target_valid, predicted_valid)\n",
    "    if result > best_result_weight_tree:\n",
    "        best_result_weight_tree = result\n",
    "        best_model_weight_tree = model_weight_tree\n",
    "        \n",
    "\n",
    "# вывод результата\n",
    "print('f1_score наилучшей модели на валидационной выборке:', best_result_weight_tree)\n",
    "print('Confusion matrix:', *confusion_matrix(target_valid, best_model_weight_tree.predict(features_valid)), sep='\\n')\n",
    "print('Лучшие гиперпараметры:', best_model_weight_tree)"
   ]
  },
  {
   "cell_type": "code",
   "execution_count": 38,
   "metadata": {},
   "outputs": [],
   "source": [
    "# формируем словарь с лучшими моделями\n",
    "results_weight[best_model_weight_tree] = best_result_weight_tree"
   ]
  },
  {
   "cell_type": "markdown",
   "metadata": {},
   "source": [
    "#### Модель \"Случайного леса\""
   ]
  },
  {
   "cell_type": "code",
   "execution_count": 39,
   "metadata": {},
   "outputs": [
    {
     "name": "stderr",
     "output_type": "stream",
     "text": [
      "100%|█████████████████████████████████████████| 150/150 [00:59<00:00,  2.51it/s]"
     ]
    },
    {
     "name": "stdout",
     "output_type": "stream",
     "text": [
      "f1_score наилучшей модели на валидационной выборке: 0.615146831530139\n",
      "Confusion matrix:\n",
      "[1371   77]\n",
      "[172 199]\n",
      "Лучшие гиперпараметры: RandomForestClassifier(class_weight='balanced', max_depth=13, n_estimators=145,\n",
      "                       random_state=12345)\n"
     ]
    },
    {
     "name": "stderr",
     "output_type": "stream",
     "text": [
      "\n"
     ]
    }
   ],
   "source": [
    "# RandomForestClassifier\n",
    "best_model_weight_forest = None\n",
    "best_result_weight_forest = 0\n",
    "\n",
    "for i in tqdm(range(1, 151)):\n",
    "    model_weight_forest = RandomForestClassifier(max_depth=13, n_estimators=i,\n",
    "                                                 class_weight='balanced', random_state=12345)\n",
    "    model_weight_forest.fit(features_train, target_train)\n",
    "    predicted_valid = model_weight_forest.predict(features_valid)\n",
    "    result = f1_score(target_valid, predicted_valid)\n",
    "    if result > best_result_weight_forest:\n",
    "        best_result_weight_forest = result\n",
    "        best_model_weight_forest = model_weight_forest\n",
    "        \n",
    "        \n",
    "# вывод результата:        \n",
    "print('f1_score наилучшей модели на валидационной выборке:', best_result_weight_forest)\n",
    "print('Confusion matrix:', *confusion_matrix(target_valid, best_model_weight_forest.predict(features_valid)),\n",
    "      sep='\\n')\n",
    "print('Лучшие гиперпараметры:', best_model_weight_forest)"
   ]
  },
  {
   "cell_type": "code",
   "execution_count": 40,
   "metadata": {},
   "outputs": [],
   "source": [
    "# формируем словарь с лучшими моделями\n",
    "results_weight[best_model_weight_forest] = best_result_weight_forest"
   ]
  },
  {
   "cell_type": "markdown",
   "metadata": {},
   "source": [
    "#### Результаты class_weight"
   ]
  },
  {
   "cell_type": "code",
   "execution_count": 41,
   "metadata": {},
   "outputs": [
    {
     "data": {
      "text/html": [
       "<div>\n",
       "<style scoped>\n",
       "    .dataframe tbody tr th:only-of-type {\n",
       "        vertical-align: middle;\n",
       "    }\n",
       "\n",
       "    .dataframe tbody tr th {\n",
       "        vertical-align: top;\n",
       "    }\n",
       "\n",
       "    .dataframe thead th {\n",
       "        text-align: right;\n",
       "    }\n",
       "</style>\n",
       "<table border=\"1\" class=\"dataframe\">\n",
       "  <thead>\n",
       "    <tr style=\"text-align: right;\">\n",
       "      <th></th>\n",
       "      <th>model</th>\n",
       "      <th>f1_score_valid</th>\n",
       "      <th>balancing</th>\n",
       "    </tr>\n",
       "  </thead>\n",
       "  <tbody>\n",
       "    <tr>\n",
       "      <th>0</th>\n",
       "      <td>DecisionTreeClassifier(class_weight='balanced'...</td>\n",
       "      <td>0.567568</td>\n",
       "      <td>w</td>\n",
       "    </tr>\n",
       "    <tr>\n",
       "      <th>1</th>\n",
       "      <td>(DecisionTreeClassifier(max_depth=13, max_feat...</td>\n",
       "      <td>0.615147</td>\n",
       "      <td>w</td>\n",
       "    </tr>\n",
       "  </tbody>\n",
       "</table>\n",
       "</div>"
      ],
      "text/plain": [
       "                                               model  f1_score_valid balancing\n",
       "0  DecisionTreeClassifier(class_weight='balanced'...        0.567568         w\n",
       "1  (DecisionTreeClassifier(max_depth=13, max_feat...        0.615147         w"
      ]
     },
     "execution_count": 41,
     "metadata": {},
     "output_type": "execute_result"
    }
   ],
   "source": [
    "df_weight = pd.DataFrame(results_weight.items(), columns=['model', 'f1_score_valid'])\n",
    "df_weight['balancing'] = ['w', 'w']\n",
    "\n",
    "df_weight"
   ]
  },
  {
   "cell_type": "markdown",
   "metadata": {},
   "source": [
    "**Вывод**: лучшей моделью с значительным приростом `f1_score = 0.615147` является модель случайного леса `RandomForestClassifier(class_weight='balanced', max_depth=13, n_estimators=145, random_state=12345)`"
   ]
  },
  {
   "cell_type": "markdown",
   "metadata": {},
   "source": [
    "### Upsampling"
   ]
  },
  {
   "cell_type": "markdown",
   "metadata": {},
   "source": [
    "Для устранения дисбаланса классов, реализуем технику *upsampling*, что увеличит количество миноритарного класса. "
   ]
  },
  {
   "cell_type": "markdown",
   "metadata": {},
   "source": [
    "#### Увеличение выборки"
   ]
  },
  {
   "cell_type": "code",
   "execution_count": 42,
   "metadata": {},
   "outputs": [],
   "source": [
    "# функция upsample:\n",
    "def upsample(features, target, repeat):\n",
    "    features_zeros = features[target == 0]\n",
    "    features_ones = features[target == 1]\n",
    "    features_upsampled = shuffle(pd.concat([features_zeros] + [features_ones] * repeat), random_state=12345)\n",
    "    target_zeros = target_train[target_train == 0]\n",
    "    target_ones = target_train[target_train == 1]\n",
    "    target_upsampled = shuffle(pd.concat([target_zeros] + [target_ones] * repeat), random_state=12345)\n",
    "    return features_upsampled, target_upsampled"
   ]
  },
  {
   "cell_type": "code",
   "execution_count": 43,
   "metadata": {},
   "outputs": [],
   "source": [
    "features_upsampled, target_upsampled = upsample(features_train, target_train, 4)"
   ]
  },
  {
   "cell_type": "code",
   "execution_count": 44,
   "metadata": {},
   "outputs": [
    {
     "name": "stdout",
     "output_type": "stream",
     "text": [
      "(8790, 11)\n",
      "(8790,)\n"
     ]
    }
   ],
   "source": [
    "# проверим размеры\n",
    "print(features_upsampled.shape, target_upsampled.shape, sep='\\n')"
   ]
  },
  {
   "cell_type": "markdown",
   "metadata": {},
   "source": [
    "Данные увеличены корректно. Обучим модели и выберем лучшую среди них. "
   ]
  },
  {
   "cell_type": "markdown",
   "metadata": {},
   "source": [
    "#### Модель \"Решающего дерева\""
   ]
  },
  {
   "cell_type": "code",
   "execution_count": 45,
   "metadata": {
    "scrolled": true
   },
   "outputs": [
    {
     "name": "stderr",
     "output_type": "stream",
     "text": [
      "100%|█████████████████████████████████████████| 150/150 [00:04<00:00, 31.67it/s]"
     ]
    },
    {
     "name": "stdout",
     "output_type": "stream",
     "text": [
      "f1_score наилучшей модели на валидационной выборке: 0.5691788526434196\n",
      "Confusion matrix:\n",
      "[1183  265]\n",
      "[118 253]\n",
      "Лучшие гиперпараметры: DecisionTreeClassifier(class_weight='balanced', max_depth=8, random_state=12345)\n"
     ]
    },
    {
     "name": "stderr",
     "output_type": "stream",
     "text": [
      "\n"
     ]
    }
   ],
   "source": [
    "# DecisionTreeClassifier\n",
    "best_model_up_tree = None\n",
    "best_result_up_tree = 0\n",
    "results_upsampled = {}\n",
    "\n",
    "for depth in tqdm(range(1, 151)):\n",
    "    model_up_tree = DecisionTreeClassifier(max_depth=depth, class_weight='balanced', random_state=12345)\n",
    "    model_up_tree.fit(features_upsampled, target_upsampled)\n",
    "    predicted_valid = model_up_tree.predict(features_valid)\n",
    "    result = f1_score(target_valid, predicted_valid)\n",
    "    if result > best_result_up_tree:\n",
    "        best_result_up_tree = result\n",
    "        best_model_up_tree = model_up_tree\n",
    "        \n",
    "        \n",
    "# вывод результата:        \n",
    "print('f1_score наилучшей модели на валидационной выборке:', best_result_up_tree)\n",
    "print('Confusion matrix:', *confusion_matrix(target_valid, best_model_up_tree.predict(features_valid)), sep='\\n')\n",
    "print('Лучшие гиперпараметры:', best_model_up_tree)"
   ]
  },
  {
   "cell_type": "code",
   "execution_count": 46,
   "metadata": {},
   "outputs": [],
   "source": [
    "# формируем словарь с лучшими моделями\n",
    "results_upsampled[best_model_up_tree] = best_result_up_tree"
   ]
  },
  {
   "cell_type": "markdown",
   "metadata": {},
   "source": [
    "#### Модель \"Случайного леса\""
   ]
  },
  {
   "cell_type": "code",
   "execution_count": 47,
   "metadata": {},
   "outputs": [
    {
     "name": "stderr",
     "output_type": "stream",
     "text": [
      "100%|█████████████████████████████████████████| 150/150 [01:31<00:00,  1.64it/s]"
     ]
    },
    {
     "name": "stdout",
     "output_type": "stream",
     "text": [
      "f1_score наилучшей модели на валидационной выборке: 0.6231884057971014\n",
      "Confusion matrix:\n",
      "[1344  104]\n",
      "[156 215]\n",
      "Лучшие гиперпараметры: RandomForestClassifier(class_weight='balanced', max_depth=16, n_estimators=130,\n",
      "                       random_state=12345)\n"
     ]
    },
    {
     "name": "stderr",
     "output_type": "stream",
     "text": [
      "\n"
     ]
    }
   ],
   "source": [
    "# RandomForestClassifier\n",
    "best_model_up_forest = None\n",
    "best_result_up_forest = 0\n",
    "\n",
    "for i in tqdm(range(1, 151)):\n",
    "    model_up_forest = RandomForestClassifier(max_depth=16, n_estimators=i, class_weight='balanced', random_state=12345)\n",
    "    model_up_forest.fit(features_upsampled, target_upsampled)\n",
    "    predicted_valid = model_up_forest.predict(features_valid)\n",
    "    result = f1_score(target_valid, predicted_valid)\n",
    "    if result > best_result_up_forest:\n",
    "        best_result_up_forest = result\n",
    "        best_model_up_forest = model_up_forest\n",
    "        \n",
    "                \n",
    "# вывод результата:\n",
    "print('f1_score наилучшей модели на валидационной выборке:', best_result_up_forest)\n",
    "print('Confusion matrix:', *confusion_matrix(target_valid, best_model_up_forest.predict(features_valid)), sep='\\n')\n",
    "print('Лучшие гиперпараметры:', best_model_up_forest)"
   ]
  },
  {
   "cell_type": "code",
   "execution_count": 48,
   "metadata": {},
   "outputs": [],
   "source": [
    "# формируем словарь с лучшими моделями\n",
    "results_upsampled[best_model_up_forest] = best_result_up_forest"
   ]
  },
  {
   "cell_type": "markdown",
   "metadata": {},
   "source": [
    "#### Результаты upsampling"
   ]
  },
  {
   "cell_type": "code",
   "execution_count": 49,
   "metadata": {},
   "outputs": [
    {
     "data": {
      "text/html": [
       "<div>\n",
       "<style scoped>\n",
       "    .dataframe tbody tr th:only-of-type {\n",
       "        vertical-align: middle;\n",
       "    }\n",
       "\n",
       "    .dataframe tbody tr th {\n",
       "        vertical-align: top;\n",
       "    }\n",
       "\n",
       "    .dataframe thead th {\n",
       "        text-align: right;\n",
       "    }\n",
       "</style>\n",
       "<table border=\"1\" class=\"dataframe\">\n",
       "  <thead>\n",
       "    <tr style=\"text-align: right;\">\n",
       "      <th></th>\n",
       "      <th>model</th>\n",
       "      <th>f1_score_valid</th>\n",
       "      <th>balancing</th>\n",
       "    </tr>\n",
       "  </thead>\n",
       "  <tbody>\n",
       "    <tr>\n",
       "      <th>0</th>\n",
       "      <td>DecisionTreeClassifier(class_weight='balanced'...</td>\n",
       "      <td>0.569179</td>\n",
       "      <td>up</td>\n",
       "    </tr>\n",
       "    <tr>\n",
       "      <th>1</th>\n",
       "      <td>(DecisionTreeClassifier(max_depth=16, max_feat...</td>\n",
       "      <td>0.623188</td>\n",
       "      <td>up</td>\n",
       "    </tr>\n",
       "  </tbody>\n",
       "</table>\n",
       "</div>"
      ],
      "text/plain": [
       "                                               model  f1_score_valid balancing\n",
       "0  DecisionTreeClassifier(class_weight='balanced'...        0.569179        up\n",
       "1  (DecisionTreeClassifier(max_depth=16, max_feat...        0.623188        up"
      ]
     },
     "execution_count": 49,
     "metadata": {},
     "output_type": "execute_result"
    }
   ],
   "source": [
    "df_up = pd.DataFrame(results_upsampled.items(), columns=['model', 'f1_score_valid'])\n",
    "df_up['balancing'] = ['up', 'up']\n",
    "\n",
    "df_up"
   ]
  },
  {
   "cell_type": "markdown",
   "metadata": {},
   "source": [
    "**Вывод**: лучшей моделью с значительным приростом `f1_score = 0.623188` является модель случайного леса `RandomForestClassifier(class_weight='balanced', max_depth=16, n_estimators=130, random_state=12345)`"
   ]
  },
  {
   "cell_type": "markdown",
   "metadata": {},
   "source": [
    "### Downsampling"
   ]
  },
  {
   "cell_type": "markdown",
   "metadata": {},
   "source": [
    "Для устранения дисбаланса классов, реализуем технику *downsampling*, что уменьшит количество мажоритарного класса. "
   ]
  },
  {
   "cell_type": "markdown",
   "metadata": {},
   "source": [
    "#### Уменьшение выборки"
   ]
  },
  {
   "cell_type": "code",
   "execution_count": 50,
   "metadata": {},
   "outputs": [],
   "source": [
    "#функция downsample\n",
    "def downsample(features, target, fraction):\n",
    "    features_zeros = features[target == 0]\n",
    "    features_ones = features[target == 1]\n",
    "    target_zeros = target[target == 0]\n",
    "    target_ones = target[target == 1]\n",
    "\n",
    "    features_downsampled = pd.concat(\n",
    "        [features_zeros.sample(frac=fraction, random_state=12345)] + [features_ones])\n",
    "    target_downsampled = pd.concat(\n",
    "        [target_zeros.sample(frac=fraction, random_state=12345)] + [target_ones])\n",
    "    \n",
    "    features_downsampled, target_downsampled = shuffle(\n",
    "        features_downsampled, target_downsampled, random_state=12345)\n",
    "    \n",
    "    return features_downsampled, target_downsampled"
   ]
  },
  {
   "cell_type": "code",
   "execution_count": 51,
   "metadata": {},
   "outputs": [],
   "source": [
    "features_downsampled, target_downsampled = downsample(features_train, target_train, .25)"
   ]
  },
  {
   "cell_type": "code",
   "execution_count": 52,
   "metadata": {},
   "outputs": [
    {
     "name": "stdout",
     "output_type": "stream",
     "text": [
      "(2198, 11)\n",
      "(2198,)\n"
     ]
    }
   ],
   "source": [
    "# проверим размеры\n",
    "print(features_downsampled.shape, target_downsampled.shape, sep='\\n')"
   ]
  },
  {
   "cell_type": "markdown",
   "metadata": {},
   "source": [
    "Данные уменьшены корректно. Обучим модели и выберем лучшую среди них. "
   ]
  },
  {
   "cell_type": "markdown",
   "metadata": {},
   "source": [
    "#### Модель \"Решающего дерева\""
   ]
  },
  {
   "cell_type": "code",
   "execution_count": 53,
   "metadata": {
    "scrolled": true
   },
   "outputs": [
    {
     "name": "stderr",
     "output_type": "stream",
     "text": [
      "100%|█████████████████████████████████████████| 150/150 [00:01<00:00, 80.84it/s]"
     ]
    },
    {
     "name": "stdout",
     "output_type": "stream",
     "text": [
      "f1_score наилучшей модели на валидационной выборке: 0.56071076011846\n",
      "Confusion matrix:\n",
      "[1090  358]\n",
      "[ 87 284]\n",
      "Лучшие гиперпараметры: DecisionTreeClassifier(class_weight='balanced', max_depth=5, random_state=12345)\n"
     ]
    },
    {
     "name": "stderr",
     "output_type": "stream",
     "text": [
      "\n"
     ]
    }
   ],
   "source": [
    "# DecisionTreeClassifier\n",
    "best_model_dw_tree = None\n",
    "best_result_dw_tree = 0\n",
    "results_downsampled = {}\n",
    "\n",
    "for depth in tqdm(range(1, 151)):\n",
    "    model_dw_tree = DecisionTreeClassifier(max_depth=depth, class_weight='balanced', random_state=12345)\n",
    "    model_dw_tree.fit(features_downsampled, target_downsampled)\n",
    "    predicted_valid = model_dw_tree.predict(features_valid)\n",
    "    result = f1_score(target_valid, predicted_valid)\n",
    "    if result > best_result_dw_tree:\n",
    "        best_result_dw_tree = result\n",
    "        best_model_dw_tree = model_dw_tree\n",
    "        \n",
    "        \n",
    "# вывод результата:       \n",
    "print('f1_score наилучшей модели на валидационной выборке:', best_result_dw_tree)\n",
    "print('Confusion matrix:', *confusion_matrix(target_valid, best_model_dw_tree.predict(features_valid)), sep='\\n')\n",
    "print('Лучшие гиперпараметры:', best_model_dw_tree)"
   ]
  },
  {
   "cell_type": "code",
   "execution_count": 54,
   "metadata": {},
   "outputs": [],
   "source": [
    "# формируем словарь с лучшими моделями\n",
    "results_downsampled[best_model_dw_tree] = best_result_dw_tree"
   ]
  },
  {
   "cell_type": "markdown",
   "metadata": {},
   "source": [
    "#### Модель \"Случайного леса\""
   ]
  },
  {
   "cell_type": "code",
   "execution_count": 55,
   "metadata": {},
   "outputs": [
    {
     "name": "stderr",
     "output_type": "stream",
     "text": [
      "100%|█████████████████████████████████████████| 150/150 [00:29<00:00,  5.07it/s]"
     ]
    },
    {
     "name": "stdout",
     "output_type": "stream",
     "text": [
      "f1_score наилучшей модели на валидационной выборке: 0.5924276169265034\n",
      "Confusion matrix:\n",
      "[1187  261]\n",
      "[105 266]\n",
      "Лучшие гиперпараметры: RandomForestClassifier(class_weight='balanced', max_depth=9, n_estimators=47,\n",
      "                       random_state=12345)\n"
     ]
    },
    {
     "name": "stderr",
     "output_type": "stream",
     "text": [
      "\n"
     ]
    }
   ],
   "source": [
    "# RandomForestClassifier\n",
    "best_model_dw_forest = None\n",
    "best_result_dw_forest = 0\n",
    "\n",
    "for i in tqdm(range(1, 151)):\n",
    "    model_dw_forest = RandomForestClassifier(max_depth=9, n_estimators=i,\n",
    "                                             class_weight='balanced', random_state=12345)\n",
    "    model_dw_forest.fit(features_downsampled, target_downsampled)\n",
    "    predicted_valid = model_dw_forest.predict(features_valid)\n",
    "    result = f1_score(target_valid, predicted_valid)\n",
    "    if result > best_result_dw_forest:\n",
    "        best_result_dw_forest = result\n",
    "        best_model_dw_forest = model_dw_forest\n",
    "\n",
    "\n",
    "# вывод результата:\n",
    "print('f1_score наилучшей модели на валидационной выборке:', best_result_dw_forest)\n",
    "print('Confusion matrix:', *confusion_matrix(target_valid, best_model_dw_forest.predict(features_valid)), sep='\\n')\n",
    "print('Лучшие гиперпараметры:', best_model_dw_forest)"
   ]
  },
  {
   "cell_type": "code",
   "execution_count": 56,
   "metadata": {},
   "outputs": [],
   "source": [
    "# формируем словарь с лучшими моделями\n",
    "results_downsampled[best_model_dw_forest] = best_result_dw_forest"
   ]
  },
  {
   "cell_type": "markdown",
   "metadata": {},
   "source": [
    "#### Результаты downsampling"
   ]
  },
  {
   "cell_type": "code",
   "execution_count": 57,
   "metadata": {},
   "outputs": [
    {
     "data": {
      "text/html": [
       "<div>\n",
       "<style scoped>\n",
       "    .dataframe tbody tr th:only-of-type {\n",
       "        vertical-align: middle;\n",
       "    }\n",
       "\n",
       "    .dataframe tbody tr th {\n",
       "        vertical-align: top;\n",
       "    }\n",
       "\n",
       "    .dataframe thead th {\n",
       "        text-align: right;\n",
       "    }\n",
       "</style>\n",
       "<table border=\"1\" class=\"dataframe\">\n",
       "  <thead>\n",
       "    <tr style=\"text-align: right;\">\n",
       "      <th></th>\n",
       "      <th>model</th>\n",
       "      <th>f1_score_valid</th>\n",
       "      <th>balancing</th>\n",
       "    </tr>\n",
       "  </thead>\n",
       "  <tbody>\n",
       "    <tr>\n",
       "      <th>0</th>\n",
       "      <td>DecisionTreeClassifier(class_weight='balanced'...</td>\n",
       "      <td>0.560711</td>\n",
       "      <td>dw</td>\n",
       "    </tr>\n",
       "    <tr>\n",
       "      <th>1</th>\n",
       "      <td>(DecisionTreeClassifier(max_depth=9, max_featu...</td>\n",
       "      <td>0.592428</td>\n",
       "      <td>dw</td>\n",
       "    </tr>\n",
       "  </tbody>\n",
       "</table>\n",
       "</div>"
      ],
      "text/plain": [
       "                                               model  f1_score_valid balancing\n",
       "0  DecisionTreeClassifier(class_weight='balanced'...        0.560711        dw\n",
       "1  (DecisionTreeClassifier(max_depth=9, max_featu...        0.592428        dw"
      ]
     },
     "execution_count": 57,
     "metadata": {},
     "output_type": "execute_result"
    }
   ],
   "source": [
    "df_dw = pd.DataFrame(results_downsampled.items(), columns=['model', 'f1_score_valid'])\n",
    "df_dw['balancing'] = ['dw', 'dw']\n",
    "\n",
    "df_dw"
   ]
  },
  {
   "cell_type": "markdown",
   "metadata": {},
   "source": [
    "**Вывод**: лучшей моделью с `f1_score = 0.592428` является модель случайного леса `RandomForestClassifier(class_weight='balanced', max_depth=9, n_estimators=47, random_state=12345)`"
   ]
  },
  {
   "cell_type": "markdown",
   "metadata": {},
   "source": [
    "### Вывод борьбы с дисбалансом"
   ]
  },
  {
   "cell_type": "markdown",
   "metadata": {},
   "source": [
    "Было использовано три техники борьбы с дисбалансом классов: *upsampling*, *downsampling*, *calss weight*.\n",
    "\n",
    "Результаты на валидационной выборке представлены ниже, для сравнения добавлены модели без учета дисбаланса. "
   ]
  },
  {
   "cell_type": "code",
   "execution_count": 58,
   "metadata": {},
   "outputs": [
    {
     "data": {
      "text/html": [
       "<div>\n",
       "<style scoped>\n",
       "    .dataframe tbody tr th:only-of-type {\n",
       "        vertical-align: middle;\n",
       "    }\n",
       "\n",
       "    .dataframe tbody tr th {\n",
       "        vertical-align: top;\n",
       "    }\n",
       "\n",
       "    .dataframe thead th {\n",
       "        text-align: right;\n",
       "    }\n",
       "</style>\n",
       "<table border=\"1\" class=\"dataframe\">\n",
       "  <thead>\n",
       "    <tr style=\"text-align: right;\">\n",
       "      <th></th>\n",
       "      <th>model</th>\n",
       "      <th>f1_score_valid</th>\n",
       "      <th>balancing</th>\n",
       "    </tr>\n",
       "  </thead>\n",
       "  <tbody>\n",
       "    <tr>\n",
       "      <th>5</th>\n",
       "      <td>(DecisionTreeClassifier(max_depth=16, max_feat...</td>\n",
       "      <td>0.623188</td>\n",
       "      <td>up</td>\n",
       "    </tr>\n",
       "    <tr>\n",
       "      <th>3</th>\n",
       "      <td>(DecisionTreeClassifier(max_depth=13, max_feat...</td>\n",
       "      <td>0.615147</td>\n",
       "      <td>w</td>\n",
       "    </tr>\n",
       "    <tr>\n",
       "      <th>7</th>\n",
       "      <td>(DecisionTreeClassifier(max_depth=9, max_featu...</td>\n",
       "      <td>0.592428</td>\n",
       "      <td>dw</td>\n",
       "    </tr>\n",
       "    <tr>\n",
       "      <th>1</th>\n",
       "      <td>(DecisionTreeClassifier(max_depth=12, max_feat...</td>\n",
       "      <td>0.575862</td>\n",
       "      <td>0</td>\n",
       "    </tr>\n",
       "    <tr>\n",
       "      <th>4</th>\n",
       "      <td>DecisionTreeClassifier(class_weight='balanced'...</td>\n",
       "      <td>0.569179</td>\n",
       "      <td>up</td>\n",
       "    </tr>\n",
       "    <tr>\n",
       "      <th>2</th>\n",
       "      <td>DecisionTreeClassifier(class_weight='balanced'...</td>\n",
       "      <td>0.567568</td>\n",
       "      <td>w</td>\n",
       "    </tr>\n",
       "    <tr>\n",
       "      <th>6</th>\n",
       "      <td>DecisionTreeClassifier(class_weight='balanced'...</td>\n",
       "      <td>0.560711</td>\n",
       "      <td>dw</td>\n",
       "    </tr>\n",
       "    <tr>\n",
       "      <th>0</th>\n",
       "      <td>DecisionTreeClassifier(max_depth=7, random_sta...</td>\n",
       "      <td>0.557659</td>\n",
       "      <td>0</td>\n",
       "    </tr>\n",
       "  </tbody>\n",
       "</table>\n",
       "</div>"
      ],
      "text/plain": [
       "                                               model  f1_score_valid balancing\n",
       "5  (DecisionTreeClassifier(max_depth=16, max_feat...        0.623188        up\n",
       "3  (DecisionTreeClassifier(max_depth=13, max_feat...        0.615147         w\n",
       "7  (DecisionTreeClassifier(max_depth=9, max_featu...        0.592428        dw\n",
       "1  (DecisionTreeClassifier(max_depth=12, max_feat...        0.575862         0\n",
       "4  DecisionTreeClassifier(class_weight='balanced'...        0.569179        up\n",
       "2  DecisionTreeClassifier(class_weight='balanced'...        0.567568         w\n",
       "6  DecisionTreeClassifier(class_weight='balanced'...        0.560711        dw\n",
       "0  DecisionTreeClassifier(max_depth=7, random_sta...        0.557659         0"
      ]
     },
     "execution_count": 58,
     "metadata": {},
     "output_type": "execute_result"
    }
   ],
   "source": [
    "df_total = pd.concat([df, df_weight, df_up, df_dw], ignore_index=True)\n",
    "\n",
    "df_total.sort_values(by='f1_score_valid', ascending=False)"
   ]
  },
  {
   "cell_type": "markdown",
   "metadata": {},
   "source": [
    "Модели с поправкой на дисбаланс классов в каждой стратегии показали лучше результаты, чем без учета дисбаланса. Лучше всего показала себя стратегия *upsampling*, далее идет *class weight*.\n",
    "\n",
    "Модель *случайный лес* со стратегиеями борьбы с дисбалансом как: upsampling, class weight, downsampling, показала лучщие результаты на валидационной выборке: `0.623188, 0.615147, 0.592428` соответственно. Остальные модели не удовлетворяют условиям технического задания: достич `f1_score > 0.59`.\n",
    "\n",
    "Так же удалось снизить количество **FN** значений на всех моделях с учетом дисбаланса, по сравнению с моделями, где не было поправки на дисбаланс классов. Результаты лучшей модели *случайный лес* со стратегиеями борьбы с дисбалансом *upsampling*: `FN = 156; TP = 215`, *случайный лес* без учета дисбаланса: `FN = 204 ; TP = 167`."
   ]
  },
  {
   "cell_type": "markdown",
   "metadata": {},
   "source": [
    "## Тестирование модели"
   ]
  },
  {
   "cell_type": "markdown",
   "metadata": {},
   "source": [
    "Проведем финальное тестирование модели с лучшими показателями на валидационной выборке (*случайный лес с upsampling*).\n",
    "\n",
    "Протестируем модель `RandomForestClassifier(class_weight='balanced', max_depth=16, n_estimators=130, random_state=12345)` на тестовой выборке:"
   ]
  },
  {
   "cell_type": "code",
   "execution_count": 64,
   "metadata": {},
   "outputs": [
    {
     "name": "stdout",
     "output_type": "stream",
     "text": [
      "f1 score наилучшей модели на тестовой выборке: 0.5813449023861171\n",
      "Confusion matrix:\n",
      "[1164  283]\n",
      "[103 268]\n",
      "Модель: RandomForestClassifier(class_weight='balanced', max_depth=16, n_estimators=130,\n",
      "                       random_state=12345)\n"
     ]
    }
   ],
   "source": [
    "# проверка RandomForestClassifier на тестовой выборке\n",
    "predicted_test = best_model_up_tree.predict(features_test)\n",
    "\n",
    "# расчет вероятностей классов\n",
    "probabilities_test = best_model_up_tree.predict_proba(features_test)\n",
    "probabilities_one_test = probabilities_test[:, 1]\n",
    "\n",
    "# построение confusion_matrix и расчет f1_score\n",
    "matrix = confusion_matrix(target_test, predicted_test)\n",
    "f1 = f1_score(target_test, predicted_test)\n",
    "\n",
    "# расчет roc_auc_score\n",
    "auc_roc = roc_auc_score(target_test, probabilities_one_test)\n",
    "\n",
    "# расчет fpr, tpr, thresholds для ROC-кривой\n",
    "fpr, tpr, thresholds = roc_curve(target_test, probabilities_one_test)\n",
    "\n",
    "print('f1 score наилучшей модели на тестовой выборке:', f1)\n",
    "print('Confusion matrix:', *matrix, sep='\\n')\n",
    "print('Модель:', best_model_up_forest)"
   ]
  },
  {
   "cell_type": "markdown",
   "metadata": {},
   "source": [
    "Построим график `ROC_AUC` и сравним модель со случайной:"
   ]
  },
  {
   "cell_type": "code",
   "execution_count": 65,
   "metadata": {
    "scrolled": true
   },
   "outputs": [
    {
     "data": {
      "text/plain": [
       "<function matplotlib.pyplot.show(close=None, block=None)>"
      ]
     },
     "execution_count": 65,
     "metadata": {},
     "output_type": "execute_result"
    },
    {
     "data": {
      "image/png": "[encoded data removed]",
      "text/plain": [
       "<Figure size 432x288 with 1 Axes>"
      ]
     },
     "metadata": {
      "needs_background": "light"
     },
     "output_type": "display_data"
    }
   ],
   "source": [
    "# ROC_AOUC curve\n",
    "plt.figure()\n",
    "plt.plot(fpr, tpr, label=\"AUC=\"+str(auc_roc))\n",
    "\n",
    "# random model\n",
    "plt.plot([0, 1], [0, 1], linestyle='--', label='Random model')\n",
    "\n",
    "# titels & lables\n",
    "plt.title('ROC-AUC curve')\n",
    "plt.xlabel('FPR')\n",
    "plt.ylabel('TPR')\n",
    "\n",
    "plt.legend()\n",
    "\n",
    "plt.grid()\n",
    "\n",
    "plt.show"
   ]
  },
  {
   "cell_type": "code",
   "execution_count": 61,
   "metadata": {},
   "outputs": [
    {
     "data": {
      "text/plain": [
       "11"
      ]
     },
     "execution_count": 61,
     "metadata": {},
     "output_type": "execute_result"
    }
   ],
   "source": [
    "len(features.columns)"
   ]
  },
  {
   "cell_type": "code",
   "execution_count": 62,
   "metadata": {},
   "outputs": [
    {
     "data": {
      "image/png": "[encoded data removed]",
      "text/plain": [
       "<Figure size 432x288 with 1 Axes>"
      ]
     },
     "metadata": {
      "needs_background": "light"
     },
     "output_type": "display_data"
    }
   ],
   "source": [
    "importance = best_model_up_forest.feature_importances_\n",
    "plt.barh([x for x in features.columns], importance)\n",
    "plt.show()"
   ]
  },
  {
   "cell_type": "code",
   "execution_count": 63,
   "metadata": {},
   "outputs": [
    {
     "name": "stdout",
     "output_type": "stream",
     "text": [
      "['CreditScore', 'Age', 'Tenure', 'Balance', 'NumOfProducts', 'HasCrCard', 'IsActiveMember', 'EstimatedSalary', 'Geography_Germany', 'Geography_Spain', 'Gender_Male']\n"
     ]
    }
   ],
   "source": [
    "print([x for x in features.columns])"
   ]
  },
  {
   "cell_type": "markdown",
   "metadata": {},
   "source": [
    "### Вывод"
   ]
  },
  {
   "cell_type": "markdown",
   "metadata": {},
   "source": [
    "Модель *случайный лес* с техникой борьбы с дисбалансом классов *upsampling* с гиперпараметрами `RandomForestClassifier(class_weight='balanced', max_depth=16, n_estimators=130, random_state=12345)` показала результат на тестовой выборке `f1_score = 0.6333808844507846`. Данное значение *f1 score* полностью удовлетворяет техническому заданию, хоть и является средним показатедем, который требует дальнейшего улучшения путем оптимизации модели. Показатель `AUC = 0.8685289948345588` - стоит так же улучшать. \n",
    "\n",
    "Лучшей моделе удалось достичь снижения **FN** и увеличить **TP**, что определенно является позитивным трендом, т.к. банк сможет направлять деньги на удержание правильных клиентов и меньше не упускать тех, кто хочет уйти. \n",
    "\n",
    "На равне с улучшением положительных значений, в модели наблюдается небольщое ухудшение определения отрицательных значений: увеличилось значение `FP c 42 до 104` и уменьшилось число `TN с 1406 до 1344`. Данные показатели в контексте текущей задачи менее важны, чем **FB и TP**, но их оптимизация даст возможность банку тратить меньше денег на удержание коиентов, которые не собирались уходить.\n",
    "\n",
    "Данные результаты удовлетворяют заданию исследования, но требуют дальнейгей оптимизации для внедрения модели в бизнес-процессы компании. "
   ]
  },
  {
   "cell_type": "markdown",
   "metadata": {},
   "source": [
    "## Чек-лист готовности проекта"
   ]
  },
  {
   "cell_type": "markdown",
   "metadata": {},
   "source": [
    "Поставьте 'x' в выполненных пунктах. Далее нажмите Shift+Enter."
   ]
  },
  {
   "cell_type": "markdown",
   "metadata": {},
   "source": [
    "- [x]  Jupyter Notebook открыт\n",
    "- [x]  Весь код выполняется без ошибок\n",
    "- [x]  Ячейки с кодом расположены в порядке исполнения\n",
    "- [x]  Выполнен шаг 1: данные подготовлены\n",
    "- [x]  Выполнен шаг 2: задача исследована\n",
    "    - [x]  Исследован баланс классов\n",
    "    - [x]  Изучены модели без учёта дисбаланса\n",
    "    - [x]  Написаны выводы по результатам исследования\n",
    "- [x]  Выполнен шаг 3: учтён дисбаланс\n",
    "    - [x]  Применено несколько способов борьбы с дисбалансом\n",
    "    - [x]  Написаны выводы по результатам исследования\n",
    "- [x]  Выполнен шаг 4: проведено тестирование\n",
    "- [x]  Удалось достичь *F1*-меры не менее 0.59\n",
    "- [x]  Исследована метрика *AUC-ROC*"
   ]
  }
 ],
 "metadata": {
  "ExecuteTimeLog": [
   {
    "duration": 1230,
    "start_time": "2022-08-19T12:49:49.819Z"
   },
   {
    "duration": 15434,
    "start_time": "2022-08-19T13:02:57.742Z"
   },
   {
    "duration": 1086,
    "start_time": "2022-08-19T13:04:33.472Z"
   },
   {
    "duration": 19777,
    "start_time": "2022-08-19T13:04:39.734Z"
   },
   {
    "duration": 1372,
    "start_time": "2022-08-20T15:52:17.935Z"
   },
   {
    "duration": 0,
    "start_time": "2022-08-20T15:52:19.309Z"
   },
   {
    "duration": 4,
    "start_time": "2022-08-20T15:52:57.573Z"
   },
   {
    "duration": 187,
    "start_time": "2022-08-20T15:53:12.556Z"
   },
   {
    "duration": 45,
    "start_time": "2022-08-20T15:55:12.884Z"
   },
   {
    "duration": 13,
    "start_time": "2022-08-20T15:55:23.895Z"
   },
   {
    "duration": 14,
    "start_time": "2022-08-20T15:55:26.884Z"
   },
   {
    "duration": 6,
    "start_time": "2022-08-20T16:08:28.588Z"
   },
   {
    "duration": 22,
    "start_time": "2022-08-20T16:08:40.667Z"
   },
   {
    "duration": 16,
    "start_time": "2022-08-20T16:08:47.189Z"
   },
   {
    "duration": 46,
    "start_time": "2022-08-22T08:37:49.126Z"
   },
   {
    "duration": 1244,
    "start_time": "2022-08-22T08:37:53.002Z"
   },
   {
    "duration": 95,
    "start_time": "2022-08-22T08:37:54.248Z"
   },
   {
    "duration": 13,
    "start_time": "2022-08-22T08:37:54.344Z"
   },
   {
    "duration": 16,
    "start_time": "2022-08-22T08:37:54.359Z"
   },
   {
    "duration": 54,
    "start_time": "2022-08-22T08:37:54.376Z"
   },
   {
    "duration": 98,
    "start_time": "2022-08-22T08:38:36.482Z"
   },
   {
    "duration": 53,
    "start_time": "2022-08-22T08:39:23.811Z"
   },
   {
    "duration": 56,
    "start_time": "2022-08-22T08:39:40.363Z"
   },
   {
    "duration": 11,
    "start_time": "2022-08-22T08:41:50.582Z"
   },
   {
    "duration": 10,
    "start_time": "2022-08-22T08:41:58.401Z"
   },
   {
    "duration": 4,
    "start_time": "2022-08-22T08:42:07.683Z"
   },
   {
    "duration": 15,
    "start_time": "2022-08-22T08:42:27.123Z"
   },
   {
    "duration": 5,
    "start_time": "2022-08-22T08:42:32.822Z"
   },
   {
    "duration": 13,
    "start_time": "2022-08-22T08:42:36.615Z"
   },
   {
    "duration": 13,
    "start_time": "2022-08-22T08:42:39.763Z"
   },
   {
    "duration": 1022,
    "start_time": "2022-08-22T08:42:44.002Z"
   },
   {
    "duration": 13,
    "start_time": "2022-08-22T08:51:21.181Z"
   },
   {
    "duration": 15,
    "start_time": "2022-08-22T08:51:25.063Z"
   },
   {
    "duration": 11,
    "start_time": "2022-08-22T08:51:28.489Z"
   },
   {
    "duration": 11,
    "start_time": "2022-08-22T08:51:43.943Z"
   },
   {
    "duration": 9,
    "start_time": "2022-08-22T08:52:17.688Z"
   },
   {
    "duration": 6,
    "start_time": "2022-08-22T08:52:28.322Z"
   },
   {
    "duration": 5,
    "start_time": "2022-08-22T08:52:34.242Z"
   },
   {
    "duration": 6,
    "start_time": "2022-08-22T08:52:49.622Z"
   },
   {
    "duration": 5,
    "start_time": "2022-08-22T08:52:56.483Z"
   },
   {
    "duration": 9,
    "start_time": "2022-08-22T08:53:21.870Z"
   },
   {
    "duration": 8,
    "start_time": "2022-08-22T08:53:34.242Z"
   },
   {
    "duration": 15,
    "start_time": "2022-08-22T08:54:12.906Z"
   },
   {
    "duration": 12,
    "start_time": "2022-08-22T09:08:05.159Z"
   },
   {
    "duration": 1288,
    "start_time": "2022-08-22T09:09:51.023Z"
   },
   {
    "duration": 6,
    "start_time": "2022-08-22T09:09:56.643Z"
   },
   {
    "duration": 6,
    "start_time": "2022-08-22T09:10:08.063Z"
   },
   {
    "duration": 7,
    "start_time": "2022-08-22T09:17:57.070Z"
   },
   {
    "duration": 8,
    "start_time": "2022-08-22T09:33:12.767Z"
   },
   {
    "duration": 1502,
    "start_time": "2022-08-22T09:51:51.203Z"
   },
   {
    "duration": 102,
    "start_time": "2022-08-22T09:51:52.708Z"
   },
   {
    "duration": 15,
    "start_time": "2022-08-22T09:51:52.812Z"
   },
   {
    "duration": 13,
    "start_time": "2022-08-22T09:51:52.828Z"
   },
   {
    "duration": 6,
    "start_time": "2022-08-22T09:51:52.843Z"
   },
   {
    "duration": 12,
    "start_time": "2022-08-22T09:51:52.850Z"
   },
   {
    "duration": 8,
    "start_time": "2022-08-22T09:51:52.863Z"
   },
   {
    "duration": 59,
    "start_time": "2022-08-22T09:51:52.872Z"
   },
   {
    "duration": 8,
    "start_time": "2022-08-22T09:51:52.933Z"
   },
   {
    "duration": 6,
    "start_time": "2022-08-22T09:51:52.942Z"
   },
   {
    "duration": 16,
    "start_time": "2022-08-22T09:51:52.949Z"
   },
   {
    "duration": 119,
    "start_time": "2022-08-22T09:53:31.272Z"
   },
   {
    "duration": 3,
    "start_time": "2022-08-22T09:53:39.144Z"
   },
   {
    "duration": 101,
    "start_time": "2022-08-22T09:54:44.942Z"
   },
   {
    "duration": 4,
    "start_time": "2022-08-22T09:54:50.731Z"
   },
   {
    "duration": 7,
    "start_time": "2022-08-22T09:55:43.332Z"
   },
   {
    "duration": 16,
    "start_time": "2022-08-22T09:59:56.702Z"
   },
   {
    "duration": 1726,
    "start_time": "2022-08-22T10:00:17.610Z"
   },
   {
    "duration": 1162,
    "start_time": "2022-08-22T10:00:26.121Z"
   },
   {
    "duration": 65,
    "start_time": "2022-08-22T10:00:27.285Z"
   },
   {
    "duration": 15,
    "start_time": "2022-08-22T10:00:27.352Z"
   },
   {
    "duration": 13,
    "start_time": "2022-08-22T10:00:27.369Z"
   },
   {
    "duration": 16,
    "start_time": "2022-08-22T10:00:27.385Z"
   },
   {
    "duration": 15,
    "start_time": "2022-08-22T10:00:27.403Z"
   },
   {
    "duration": 10,
    "start_time": "2022-08-22T10:00:27.420Z"
   },
   {
    "duration": 9,
    "start_time": "2022-08-22T10:00:27.431Z"
   },
   {
    "duration": 20,
    "start_time": "2022-08-22T10:00:27.442Z"
   },
   {
    "duration": 54,
    "start_time": "2022-08-22T10:00:27.464Z"
   },
   {
    "duration": 13,
    "start_time": "2022-08-22T10:00:27.520Z"
   },
   {
    "duration": 21,
    "start_time": "2022-08-22T10:00:27.535Z"
   },
   {
    "duration": 17,
    "start_time": "2022-08-22T10:00:27.558Z"
   },
   {
    "duration": 12,
    "start_time": "2022-08-22T10:02:55.112Z"
   },
   {
    "duration": 1334,
    "start_time": "2022-08-22T10:03:03.775Z"
   },
   {
    "duration": 111,
    "start_time": "2022-08-22T10:03:05.113Z"
   },
   {
    "duration": 68,
    "start_time": "2022-08-22T10:03:05.226Z"
   },
   {
    "duration": 23,
    "start_time": "2022-08-22T10:03:05.296Z"
   },
   {
    "duration": 8,
    "start_time": "2022-08-22T10:03:05.321Z"
   },
   {
    "duration": 64,
    "start_time": "2022-08-22T10:03:05.330Z"
   },
   {
    "duration": 12,
    "start_time": "2022-08-22T10:03:05.396Z"
   },
   {
    "duration": 14,
    "start_time": "2022-08-22T10:03:05.410Z"
   },
   {
    "duration": 17,
    "start_time": "2022-08-22T10:03:05.425Z"
   },
   {
    "duration": 50,
    "start_time": "2022-08-22T10:03:05.496Z"
   },
   {
    "duration": 42,
    "start_time": "2022-08-22T10:03:05.547Z"
   },
   {
    "duration": 20,
    "start_time": "2022-08-22T10:03:05.592Z"
   },
   {
    "duration": 11,
    "start_time": "2022-08-22T10:03:05.615Z"
   },
   {
    "duration": 19,
    "start_time": "2022-08-22T10:03:31.970Z"
   },
   {
    "duration": 29,
    "start_time": "2022-08-22T10:03:41.743Z"
   },
   {
    "duration": 14,
    "start_time": "2022-08-22T10:03:58.715Z"
   },
   {
    "duration": 9,
    "start_time": "2022-08-22T13:27:48.815Z"
   },
   {
    "duration": 23,
    "start_time": "2022-08-22T13:28:40.809Z"
   },
   {
    "duration": 1031,
    "start_time": "2022-08-22T14:35:40.226Z"
   },
   {
    "duration": 54,
    "start_time": "2022-08-22T14:35:41.259Z"
   },
   {
    "duration": 12,
    "start_time": "2022-08-22T14:35:41.315Z"
   },
   {
    "duration": 13,
    "start_time": "2022-08-22T14:35:41.330Z"
   },
   {
    "duration": 7,
    "start_time": "2022-08-22T14:35:41.345Z"
   },
   {
    "duration": 35,
    "start_time": "2022-08-22T14:35:41.353Z"
   },
   {
    "duration": 7,
    "start_time": "2022-08-22T14:35:41.389Z"
   },
   {
    "duration": 5,
    "start_time": "2022-08-22T14:35:41.398Z"
   },
   {
    "duration": 12,
    "start_time": "2022-08-22T14:35:41.405Z"
   },
   {
    "duration": 9,
    "start_time": "2022-08-22T14:35:41.419Z"
   },
   {
    "duration": 6,
    "start_time": "2022-08-22T14:35:41.430Z"
   },
   {
    "duration": 8,
    "start_time": "2022-08-22T14:35:41.437Z"
   },
   {
    "duration": 55,
    "start_time": "2022-08-22T14:35:41.446Z"
   },
   {
    "duration": 151,
    "start_time": "2022-08-22T14:37:47.627Z"
   },
   {
    "duration": 139,
    "start_time": "2022-08-22T14:37:55.617Z"
   },
   {
    "duration": 90,
    "start_time": "2022-08-22T14:39:08.317Z"
   },
   {
    "duration": 13,
    "start_time": "2022-08-22T14:41:04.317Z"
   },
   {
    "duration": 14,
    "start_time": "2022-08-22T14:41:20.911Z"
   },
   {
    "duration": 202,
    "start_time": "2022-08-22T14:45:49.279Z"
   },
   {
    "duration": 99,
    "start_time": "2022-08-22T14:47:03.019Z"
   },
   {
    "duration": 104,
    "start_time": "2022-08-22T14:47:12.219Z"
   },
   {
    "duration": 97,
    "start_time": "2022-08-22T14:47:23.659Z"
   },
   {
    "duration": 88,
    "start_time": "2022-08-22T14:47:31.258Z"
   },
   {
    "duration": 15,
    "start_time": "2022-08-22T14:48:12.574Z"
   },
   {
    "duration": 14,
    "start_time": "2022-08-22T14:48:25.148Z"
   },
   {
    "duration": 18,
    "start_time": "2022-08-22T14:50:15.649Z"
   },
   {
    "duration": 8,
    "start_time": "2022-08-22T14:50:21.509Z"
   },
   {
    "duration": 7,
    "start_time": "2022-08-22T14:50:27.327Z"
   },
   {
    "duration": 24,
    "start_time": "2022-08-22T14:50:37.396Z"
   },
   {
    "duration": 33,
    "start_time": "2022-08-22T14:51:15.088Z"
   },
   {
    "duration": 164,
    "start_time": "2022-08-22T14:53:41.295Z"
   },
   {
    "duration": 166,
    "start_time": "2022-08-22T14:53:48.648Z"
   },
   {
    "duration": 32,
    "start_time": "2022-08-22T14:54:21.499Z"
   },
   {
    "duration": 251,
    "start_time": "2022-08-22T14:57:26.507Z"
   },
   {
    "duration": 178,
    "start_time": "2022-08-22T15:00:39.006Z"
   },
   {
    "duration": 155,
    "start_time": "2022-08-22T15:00:44.579Z"
   },
   {
    "duration": 119,
    "start_time": "2022-08-22T15:00:48.200Z"
   },
   {
    "duration": 151,
    "start_time": "2022-08-22T15:00:50.658Z"
   },
   {
    "duration": 119,
    "start_time": "2022-08-22T15:01:09.887Z"
   },
   {
    "duration": 30,
    "start_time": "2022-08-22T15:02:23.497Z"
   },
   {
    "duration": 102,
    "start_time": "2022-08-22T15:03:27.608Z"
   },
   {
    "duration": 149,
    "start_time": "2022-08-22T15:03:33.929Z"
   },
   {
    "duration": 187,
    "start_time": "2022-08-22T15:03:36.218Z"
   },
   {
    "duration": 111,
    "start_time": "2022-08-22T15:04:14.737Z"
   },
   {
    "duration": 271,
    "start_time": "2022-08-22T15:04:18.641Z"
   },
   {
    "duration": 17,
    "start_time": "2022-08-22T15:22:49.078Z"
   },
   {
    "duration": 1089,
    "start_time": "2022-08-22T16:28:36.747Z"
   },
   {
    "duration": 58,
    "start_time": "2022-08-22T16:28:37.837Z"
   },
   {
    "duration": 16,
    "start_time": "2022-08-22T16:28:37.896Z"
   },
   {
    "duration": 17,
    "start_time": "2022-08-22T16:28:37.914Z"
   },
   {
    "duration": 6,
    "start_time": "2022-08-22T16:28:37.933Z"
   },
   {
    "duration": 15,
    "start_time": "2022-08-22T16:28:37.941Z"
   },
   {
    "duration": 8,
    "start_time": "2022-08-22T16:28:37.957Z"
   },
   {
    "duration": 33,
    "start_time": "2022-08-22T16:28:37.966Z"
   },
   {
    "duration": 22,
    "start_time": "2022-08-22T16:28:38.000Z"
   },
   {
    "duration": 12,
    "start_time": "2022-08-22T16:28:38.025Z"
   },
   {
    "duration": 6,
    "start_time": "2022-08-22T16:28:38.038Z"
   },
   {
    "duration": 12,
    "start_time": "2022-08-22T16:28:38.045Z"
   },
   {
    "duration": 22,
    "start_time": "2022-08-22T16:28:38.059Z"
   },
   {
    "duration": 220,
    "start_time": "2022-08-22T16:28:38.082Z"
   },
   {
    "duration": 22,
    "start_time": "2022-08-22T16:28:38.308Z"
   },
   {
    "duration": 397,
    "start_time": "2022-08-22T16:28:38.332Z"
   },
   {
    "duration": 102,
    "start_time": "2022-08-22T16:28:38.731Z"
   },
   {
    "duration": 284,
    "start_time": "2022-08-22T16:28:38.835Z"
   },
   {
    "duration": 386,
    "start_time": "2022-08-22T16:28:39.121Z"
   },
   {
    "duration": 91,
    "start_time": "2022-08-22T16:28:39.509Z"
   },
   {
    "duration": 307,
    "start_time": "2022-08-22T16:28:39.602Z"
   },
   {
    "duration": 404,
    "start_time": "2022-08-22T16:28:39.911Z"
   },
   {
    "duration": 147,
    "start_time": "2022-08-22T16:28:40.318Z"
   },
   {
    "duration": 174,
    "start_time": "2022-08-22T16:28:40.467Z"
   },
   {
    "duration": 14,
    "start_time": "2022-08-22T16:28:40.642Z"
   },
   {
    "duration": 336,
    "start_time": "2022-08-22T17:03:13.538Z"
   },
   {
    "duration": 112,
    "start_time": "2022-08-22T17:06:17.019Z"
   },
   {
    "duration": 40,
    "start_time": "2022-08-22T17:06:22.769Z"
   },
   {
    "duration": 11,
    "start_time": "2022-08-22T17:06:52.919Z"
   },
   {
    "duration": 40,
    "start_time": "2022-08-22T17:09:56.771Z"
   },
   {
    "duration": 77,
    "start_time": "2022-08-22T17:14:50.589Z"
   },
   {
    "duration": 30,
    "start_time": "2022-08-22T17:14:56.767Z"
   },
   {
    "duration": 17,
    "start_time": "2022-08-22T17:15:07.606Z"
   },
   {
    "duration": 18,
    "start_time": "2022-08-22T17:21:14.413Z"
   },
   {
    "duration": 3,
    "start_time": "2022-08-22T17:33:19.379Z"
   },
   {
    "duration": 3,
    "start_time": "2022-08-22T17:35:32.824Z"
   },
   {
    "duration": 4,
    "start_time": "2022-08-22T17:35:54.515Z"
   },
   {
    "duration": 41,
    "start_time": "2022-08-22T17:37:31.709Z"
   },
   {
    "duration": 17,
    "start_time": "2022-08-22T17:43:07.017Z"
   },
   {
    "duration": 13,
    "start_time": "2022-08-22T17:43:22.823Z"
   },
   {
    "duration": 11,
    "start_time": "2022-08-22T17:46:33.960Z"
   },
   {
    "duration": 17,
    "start_time": "2022-08-22T17:46:46.242Z"
   },
   {
    "duration": 19,
    "start_time": "2022-08-22T17:46:53.017Z"
   },
   {
    "duration": 11,
    "start_time": "2022-08-22T17:48:39.815Z"
   },
   {
    "duration": 14,
    "start_time": "2022-08-22T17:51:32.559Z"
   },
   {
    "duration": 29,
    "start_time": "2022-08-22T17:53:16.936Z"
   },
   {
    "duration": 30,
    "start_time": "2022-08-22T17:54:14.920Z"
   },
   {
    "duration": 1545,
    "start_time": "2022-08-23T07:15:23.075Z"
   },
   {
    "duration": 185,
    "start_time": "2022-08-23T07:15:24.622Z"
   },
   {
    "duration": 16,
    "start_time": "2022-08-23T07:15:24.808Z"
   },
   {
    "duration": 65,
    "start_time": "2022-08-23T07:15:24.826Z"
   },
   {
    "duration": 30,
    "start_time": "2022-08-23T07:15:24.893Z"
   },
   {
    "duration": 66,
    "start_time": "2022-08-23T07:15:24.925Z"
   },
   {
    "duration": 28,
    "start_time": "2022-08-23T07:15:24.993Z"
   },
   {
    "duration": 4,
    "start_time": "2022-08-23T07:15:25.023Z"
   },
   {
    "duration": 31,
    "start_time": "2022-08-23T07:15:25.029Z"
   },
   {
    "duration": 41,
    "start_time": "2022-08-23T07:15:25.061Z"
   },
   {
    "duration": 27,
    "start_time": "2022-08-23T07:15:25.104Z"
   },
   {
    "duration": 30,
    "start_time": "2022-08-23T07:15:25.133Z"
   },
   {
    "duration": 80,
    "start_time": "2022-08-23T07:15:25.164Z"
   },
   {
    "duration": 145,
    "start_time": "2022-08-23T07:15:25.247Z"
   },
   {
    "duration": 18,
    "start_time": "2022-08-23T07:15:25.394Z"
   },
   {
    "duration": 238,
    "start_time": "2022-08-23T07:15:25.413Z"
   },
   {
    "duration": 44,
    "start_time": "2022-08-23T07:15:25.653Z"
   },
   {
    "duration": 132,
    "start_time": "2022-08-23T07:15:25.699Z"
   },
   {
    "duration": 188,
    "start_time": "2022-08-23T07:15:25.833Z"
   },
   {
    "duration": 47,
    "start_time": "2022-08-23T07:15:26.023Z"
   },
   {
    "duration": 120,
    "start_time": "2022-08-23T07:15:26.071Z"
   },
   {
    "duration": 176,
    "start_time": "2022-08-23T07:15:26.193Z"
   },
   {
    "duration": 234,
    "start_time": "2022-08-23T07:15:26.371Z"
   },
   {
    "duration": 207,
    "start_time": "2022-08-23T07:15:26.606Z"
   },
   {
    "duration": 17,
    "start_time": "2022-08-23T07:15:26.814Z"
   },
   {
    "duration": 37,
    "start_time": "2022-08-23T07:15:26.832Z"
   },
   {
    "duration": 28,
    "start_time": "2022-08-23T07:15:26.870Z"
   },
   {
    "duration": 2305,
    "start_time": "2022-08-23T07:20:48.494Z"
   },
   {
    "duration": 149,
    "start_time": "2022-08-23T07:21:03.574Z"
   },
   {
    "duration": 1462,
    "start_time": "2022-08-23T07:22:42.785Z"
   },
   {
    "duration": 64,
    "start_time": "2022-08-23T07:22:44.249Z"
   },
   {
    "duration": 17,
    "start_time": "2022-08-23T07:22:44.315Z"
   },
   {
    "duration": 22,
    "start_time": "2022-08-23T07:22:44.334Z"
   },
   {
    "duration": 41,
    "start_time": "2022-08-23T07:22:44.359Z"
   },
   {
    "duration": 34,
    "start_time": "2022-08-23T07:22:44.402Z"
   },
   {
    "duration": 26,
    "start_time": "2022-08-23T07:22:44.438Z"
   },
   {
    "duration": 44,
    "start_time": "2022-08-23T07:22:44.466Z"
   },
   {
    "duration": 50,
    "start_time": "2022-08-23T07:22:44.512Z"
   },
   {
    "duration": 48,
    "start_time": "2022-08-23T07:22:44.563Z"
   },
   {
    "duration": 20,
    "start_time": "2022-08-23T07:22:44.612Z"
   },
   {
    "duration": 25,
    "start_time": "2022-08-23T07:22:44.634Z"
   },
   {
    "duration": 49,
    "start_time": "2022-08-23T07:22:44.661Z"
   },
   {
    "duration": 167,
    "start_time": "2022-08-23T07:22:44.713Z"
   },
   {
    "duration": 16,
    "start_time": "2022-08-23T07:22:44.882Z"
   },
   {
    "duration": 260,
    "start_time": "2022-08-23T07:22:44.900Z"
   },
   {
    "duration": 43,
    "start_time": "2022-08-23T07:22:45.162Z"
   },
   {
    "duration": 162,
    "start_time": "2022-08-23T07:22:45.207Z"
   },
   {
    "duration": 198,
    "start_time": "2022-08-23T07:22:45.371Z"
   },
   {
    "duration": 37,
    "start_time": "2022-08-23T07:22:45.571Z"
   },
   {
    "duration": 129,
    "start_time": "2022-08-23T07:22:45.610Z"
   },
   {
    "duration": 191,
    "start_time": "2022-08-23T07:22:45.741Z"
   },
   {
    "duration": 211,
    "start_time": "2022-08-23T07:22:45.934Z"
   },
   {
    "duration": 198,
    "start_time": "2022-08-23T07:22:46.147Z"
   },
   {
    "duration": 26,
    "start_time": "2022-08-23T07:22:46.347Z"
   },
   {
    "duration": 18,
    "start_time": "2022-08-23T07:22:46.375Z"
   },
   {
    "duration": 25,
    "start_time": "2022-08-23T07:22:46.395Z"
   },
   {
    "duration": 1301,
    "start_time": "2022-08-23T07:24:40.594Z"
   },
   {
    "duration": 56,
    "start_time": "2022-08-23T07:24:41.897Z"
   },
   {
    "duration": 14,
    "start_time": "2022-08-23T07:24:41.955Z"
   },
   {
    "duration": 12,
    "start_time": "2022-08-23T07:24:41.971Z"
   },
   {
    "duration": 6,
    "start_time": "2022-08-23T07:24:41.985Z"
   },
   {
    "duration": 18,
    "start_time": "2022-08-23T07:24:41.992Z"
   },
   {
    "duration": 7,
    "start_time": "2022-08-23T07:24:42.012Z"
   },
   {
    "duration": 5,
    "start_time": "2022-08-23T07:24:42.021Z"
   },
   {
    "duration": 41,
    "start_time": "2022-08-23T07:24:42.028Z"
   },
   {
    "duration": 11,
    "start_time": "2022-08-23T07:24:42.071Z"
   },
   {
    "duration": 7,
    "start_time": "2022-08-23T07:24:42.084Z"
   },
   {
    "duration": 8,
    "start_time": "2022-08-23T07:24:42.093Z"
   },
   {
    "duration": 28,
    "start_time": "2022-08-23T07:24:42.103Z"
   },
   {
    "duration": 158,
    "start_time": "2022-08-23T07:24:42.135Z"
   },
   {
    "duration": 16,
    "start_time": "2022-08-23T07:24:42.294Z"
   },
   {
    "duration": 204,
    "start_time": "2022-08-23T07:24:42.312Z"
   },
   {
    "duration": 50,
    "start_time": "2022-08-23T07:24:42.519Z"
   },
   {
    "duration": 115,
    "start_time": "2022-08-23T07:24:42.570Z"
   },
   {
    "duration": 176,
    "start_time": "2022-08-23T07:24:42.687Z"
   },
   {
    "duration": 35,
    "start_time": "2022-08-23T07:24:42.867Z"
   },
   {
    "duration": 125,
    "start_time": "2022-08-23T07:24:42.904Z"
   },
   {
    "duration": 185,
    "start_time": "2022-08-23T07:24:43.030Z"
   },
   {
    "duration": 202,
    "start_time": "2022-08-23T07:24:43.217Z"
   },
   {
    "duration": 201,
    "start_time": "2022-08-23T07:24:43.420Z"
   },
   {
    "duration": 17,
    "start_time": "2022-08-23T07:24:43.622Z"
   },
   {
    "duration": 38,
    "start_time": "2022-08-23T07:24:43.641Z"
   },
   {
    "duration": 27,
    "start_time": "2022-08-23T07:24:43.681Z"
   },
   {
    "duration": 11,
    "start_time": "2022-08-23T07:24:43.710Z"
   },
   {
    "duration": 5,
    "start_time": "2022-08-23T07:24:52.645Z"
   },
   {
    "duration": 30966,
    "start_time": "2022-08-23T07:25:02.509Z"
   },
   {
    "duration": 157,
    "start_time": "2022-08-23T07:25:49.865Z"
   },
   {
    "duration": 223,
    "start_time": "2022-08-23T07:25:55.187Z"
   },
   {
    "duration": 7650,
    "start_time": "2022-08-23T07:26:12.928Z"
   },
   {
    "duration": 127,
    "start_time": "2022-08-23T07:27:00.952Z"
   },
   {
    "duration": 113,
    "start_time": "2022-08-23T07:34:35.307Z"
   },
   {
    "duration": 127,
    "start_time": "2022-08-23T07:34:48.733Z"
   },
   {
    "duration": 170,
    "start_time": "2022-08-23T07:35:01.745Z"
   },
   {
    "duration": 137,
    "start_time": "2022-08-23T07:35:10.205Z"
   },
   {
    "duration": 1468,
    "start_time": "2022-08-23T13:42:51.239Z"
   },
   {
    "duration": 61,
    "start_time": "2022-08-23T13:42:52.709Z"
   },
   {
    "duration": 16,
    "start_time": "2022-08-23T13:42:52.771Z"
   },
   {
    "duration": 14,
    "start_time": "2022-08-23T13:42:52.789Z"
   },
   {
    "duration": 8,
    "start_time": "2022-08-23T13:42:52.806Z"
   },
   {
    "duration": 23,
    "start_time": "2022-08-23T13:42:52.816Z"
   },
   {
    "duration": 9,
    "start_time": "2022-08-23T13:42:52.869Z"
   },
   {
    "duration": 5,
    "start_time": "2022-08-23T13:42:52.880Z"
   },
   {
    "duration": 13,
    "start_time": "2022-08-23T13:42:52.887Z"
   },
   {
    "duration": 12,
    "start_time": "2022-08-23T13:42:52.902Z"
   },
   {
    "duration": 7,
    "start_time": "2022-08-23T13:42:52.916Z"
   },
   {
    "duration": 49,
    "start_time": "2022-08-23T13:42:52.924Z"
   },
   {
    "duration": 29,
    "start_time": "2022-08-23T13:42:52.975Z"
   },
   {
    "duration": 153,
    "start_time": "2022-08-23T13:42:53.008Z"
   },
   {
    "duration": 18,
    "start_time": "2022-08-23T13:42:53.168Z"
   },
   {
    "duration": 213,
    "start_time": "2022-08-23T13:42:53.188Z"
   },
   {
    "duration": 35,
    "start_time": "2022-08-23T13:42:53.403Z"
   },
   {
    "duration": 142,
    "start_time": "2022-08-23T13:42:53.440Z"
   },
   {
    "duration": 194,
    "start_time": "2022-08-23T13:42:53.583Z"
   },
   {
    "duration": 42,
    "start_time": "2022-08-23T13:42:53.779Z"
   },
   {
    "duration": 129,
    "start_time": "2022-08-23T13:42:53.823Z"
   },
   {
    "duration": 189,
    "start_time": "2022-08-23T13:42:53.954Z"
   },
   {
    "duration": 226,
    "start_time": "2022-08-23T13:42:54.145Z"
   },
   {
    "duration": 209,
    "start_time": "2022-08-23T13:42:54.373Z"
   },
   {
    "duration": 17,
    "start_time": "2022-08-23T13:42:54.584Z"
   },
   {
    "duration": 19,
    "start_time": "2022-08-23T13:42:54.603Z"
   },
   {
    "duration": 53,
    "start_time": "2022-08-23T13:42:54.624Z"
   },
   {
    "duration": 142,
    "start_time": "2022-08-23T13:42:54.679Z"
   },
   {
    "duration": 1489,
    "start_time": "2022-08-23T14:02:25.397Z"
   },
   {
    "duration": 59,
    "start_time": "2022-08-23T14:02:26.889Z"
   },
   {
    "duration": 16,
    "start_time": "2022-08-23T14:02:26.950Z"
   },
   {
    "duration": 14,
    "start_time": "2022-08-23T14:02:26.969Z"
   },
   {
    "duration": 7,
    "start_time": "2022-08-23T14:02:26.985Z"
   },
   {
    "duration": 18,
    "start_time": "2022-08-23T14:02:26.993Z"
   },
   {
    "duration": 6,
    "start_time": "2022-08-23T14:02:27.013Z"
   },
   {
    "duration": 9,
    "start_time": "2022-08-23T14:02:27.021Z"
   },
   {
    "duration": 45,
    "start_time": "2022-08-23T14:02:27.032Z"
   },
   {
    "duration": 10,
    "start_time": "2022-08-23T14:02:27.081Z"
   },
   {
    "duration": 7,
    "start_time": "2022-08-23T14:02:27.093Z"
   },
   {
    "duration": 8,
    "start_time": "2022-08-23T14:02:27.102Z"
   },
   {
    "duration": 25,
    "start_time": "2022-08-23T14:02:27.112Z"
   },
   {
    "duration": 137,
    "start_time": "2022-08-23T14:02:27.168Z"
   },
   {
    "duration": 17,
    "start_time": "2022-08-23T14:02:27.307Z"
   },
   {
    "duration": 217,
    "start_time": "2022-08-23T14:02:27.326Z"
   },
   {
    "duration": 42,
    "start_time": "2022-08-23T14:02:27.545Z"
   },
   {
    "duration": 132,
    "start_time": "2022-08-23T14:02:27.588Z"
   },
   {
    "duration": 185,
    "start_time": "2022-08-23T14:02:27.722Z"
   },
   {
    "duration": 38,
    "start_time": "2022-08-23T14:02:27.910Z"
   },
   {
    "duration": 136,
    "start_time": "2022-08-23T14:02:27.950Z"
   },
   {
    "duration": 181,
    "start_time": "2022-08-23T14:02:28.088Z"
   },
   {
    "duration": 219,
    "start_time": "2022-08-23T14:02:28.272Z"
   },
   {
    "duration": 211,
    "start_time": "2022-08-23T14:02:28.494Z"
   },
   {
    "duration": 18,
    "start_time": "2022-08-23T14:02:28.708Z"
   },
   {
    "duration": 21,
    "start_time": "2022-08-23T14:02:28.727Z"
   },
   {
    "duration": 29,
    "start_time": "2022-08-23T14:02:28.768Z"
   },
   {
    "duration": 145,
    "start_time": "2022-08-23T14:02:28.801Z"
   },
   {
    "duration": 129,
    "start_time": "2022-08-23T14:03:52.220Z"
   },
   {
    "duration": 106,
    "start_time": "2022-08-23T14:10:08.614Z"
   },
   {
    "duration": 55,
    "start_time": "2022-08-23T14:11:32.700Z"
   },
   {
    "duration": 10,
    "start_time": "2022-08-23T14:11:37.900Z"
   },
   {
    "duration": 15,
    "start_time": "2022-08-23T14:14:29.175Z"
   },
   {
    "duration": 10,
    "start_time": "2022-08-23T14:15:05.433Z"
   },
   {
    "duration": 46,
    "start_time": "2022-08-23T14:20:29.824Z"
   },
   {
    "duration": 32,
    "start_time": "2022-08-23T16:05:09.593Z"
   },
   {
    "duration": 25,
    "start_time": "2022-08-23T16:08:50.621Z"
   },
   {
    "duration": 14,
    "start_time": "2022-08-23T16:09:04.667Z"
   },
   {
    "duration": 13,
    "start_time": "2022-08-23T16:12:03.594Z"
   },
   {
    "duration": 17,
    "start_time": "2022-08-23T16:12:49.545Z"
   },
   {
    "duration": 3,
    "start_time": "2022-08-23T16:14:11.205Z"
   },
   {
    "duration": 25,
    "start_time": "2022-08-23T16:14:19.129Z"
   },
   {
    "duration": 4,
    "start_time": "2022-08-23T16:14:55.762Z"
   },
   {
    "duration": 48,
    "start_time": "2022-08-23T16:14:58.789Z"
   },
   {
    "duration": 4130,
    "start_time": "2022-08-23T16:15:04.917Z"
   },
   {
    "duration": 4139,
    "start_time": "2022-08-23T16:15:18.381Z"
   },
   {
    "duration": 4255,
    "start_time": "2022-08-23T16:15:35.543Z"
   },
   {
    "duration": 4113,
    "start_time": "2022-08-23T18:49:21.901Z"
   },
   {
    "duration": 14,
    "start_time": "2022-08-23T18:49:45.755Z"
   },
   {
    "duration": 14,
    "start_time": "2022-08-23T18:50:03.321Z"
   },
   {
    "duration": 12,
    "start_time": "2022-08-23T18:50:57.255Z"
   },
   {
    "duration": 75631,
    "start_time": "2022-08-23T18:51:01.348Z"
   },
   {
    "duration": 25,
    "start_time": "2022-08-23T18:53:12.026Z"
   },
   {
    "duration": 4,
    "start_time": "2022-08-23T18:53:26.755Z"
   },
   {
    "duration": 3118,
    "start_time": "2022-08-23T18:53:30.851Z"
   },
   {
    "duration": 4,
    "start_time": "2022-08-23T18:54:46.377Z"
   },
   {
    "duration": 4310,
    "start_time": "2022-08-23T18:57:49.993Z"
   },
   {
    "duration": 77844,
    "start_time": "2022-08-23T18:57:54.305Z"
   },
   {
    "duration": 2780,
    "start_time": "2022-08-23T18:59:12.151Z"
   },
   {
    "duration": 5,
    "start_time": "2022-08-23T19:00:04.695Z"
   },
   {
    "duration": 76,
    "start_time": "2022-08-23T19:02:17.729Z"
   },
   {
    "duration": 124,
    "start_time": "2022-08-23T19:02:22.741Z"
   },
   {
    "duration": 5,
    "start_time": "2022-08-23T19:02:26.085Z"
   },
   {
    "duration": 1684,
    "start_time": "2022-08-24T09:19:24.369Z"
   },
   {
    "duration": 184,
    "start_time": "2022-08-24T09:19:26.055Z"
   },
   {
    "duration": 16,
    "start_time": "2022-08-24T09:19:26.241Z"
   },
   {
    "duration": 21,
    "start_time": "2022-08-24T09:19:26.259Z"
   },
   {
    "duration": 8,
    "start_time": "2022-08-24T09:19:26.284Z"
   },
   {
    "duration": 33,
    "start_time": "2022-08-24T09:19:26.294Z"
   },
   {
    "duration": 7,
    "start_time": "2022-08-24T09:19:26.329Z"
   },
   {
    "duration": 21,
    "start_time": "2022-08-24T09:19:26.338Z"
   },
   {
    "duration": 37,
    "start_time": "2022-08-24T09:19:26.361Z"
   },
   {
    "duration": 25,
    "start_time": "2022-08-24T09:19:26.400Z"
   },
   {
    "duration": 14,
    "start_time": "2022-08-24T09:19:26.428Z"
   },
   {
    "duration": 11,
    "start_time": "2022-08-24T09:19:26.444Z"
   },
   {
    "duration": 42,
    "start_time": "2022-08-24T09:19:26.457Z"
   },
   {
    "duration": 142,
    "start_time": "2022-08-24T09:19:26.503Z"
   },
   {
    "duration": 17,
    "start_time": "2022-08-24T09:19:26.647Z"
   },
   {
    "duration": 278,
    "start_time": "2022-08-24T09:19:26.666Z"
   },
   {
    "duration": 47,
    "start_time": "2022-08-24T09:19:26.946Z"
   },
   {
    "duration": 137,
    "start_time": "2022-08-24T09:19:26.995Z"
   },
   {
    "duration": 202,
    "start_time": "2022-08-24T09:19:27.134Z"
   },
   {
    "duration": 39,
    "start_time": "2022-08-24T09:19:27.338Z"
   },
   {
    "duration": 138,
    "start_time": "2022-08-24T09:19:27.378Z"
   },
   {
    "duration": 290,
    "start_time": "2022-08-24T09:19:27.517Z"
   },
   {
    "duration": 155,
    "start_time": "2022-08-24T09:19:27.809Z"
   },
   {
    "duration": 250,
    "start_time": "2022-08-24T09:19:27.966Z"
   },
   {
    "duration": 20,
    "start_time": "2022-08-24T09:19:28.219Z"
   },
   {
    "duration": 26,
    "start_time": "2022-08-24T09:19:28.242Z"
   },
   {
    "duration": 50,
    "start_time": "2022-08-24T09:19:28.270Z"
   },
   {
    "duration": 143,
    "start_time": "2022-08-24T09:19:28.322Z"
   },
   {
    "duration": 32,
    "start_time": "2022-08-24T09:19:28.467Z"
   },
   {
    "duration": 6068,
    "start_time": "2022-08-24T09:19:28.501Z"
   },
   {
    "duration": 85160,
    "start_time": "2022-08-24T09:19:34.571Z"
   },
   {
    "duration": 948,
    "start_time": "2022-08-24T09:20:59.733Z"
   },
   {
    "duration": 0,
    "start_time": "2022-08-24T09:21:00.683Z"
   },
   {
    "duration": 3654,
    "start_time": "2022-08-24T09:21:26.880Z"
   },
   {
    "duration": 5,
    "start_time": "2022-08-24T09:21:37.133Z"
   },
   {
    "duration": 9,
    "start_time": "2022-08-24T09:21:54.867Z"
   },
   {
    "duration": 7,
    "start_time": "2022-08-24T09:22:00.584Z"
   },
   {
    "duration": 83,
    "start_time": "2022-08-24T09:27:52.669Z"
   },
   {
    "duration": 114,
    "start_time": "2022-08-24T09:31:12.579Z"
   },
   {
    "duration": 298,
    "start_time": "2022-08-24T09:33:50.054Z"
   },
   {
    "duration": 312,
    "start_time": "2022-08-24T09:34:00.140Z"
   },
   {
    "duration": 301,
    "start_time": "2022-08-24T09:34:07.151Z"
   },
   {
    "duration": 5,
    "start_time": "2022-08-24T10:25:18.882Z"
   },
   {
    "duration": 150,
    "start_time": "2022-08-24T10:31:21.605Z"
   },
   {
    "duration": 173,
    "start_time": "2022-08-24T10:33:05.151Z"
   },
   {
    "duration": 167,
    "start_time": "2022-08-24T10:37:20.513Z"
   },
   {
    "duration": 181,
    "start_time": "2022-08-24T10:37:36.021Z"
   },
   {
    "duration": 162,
    "start_time": "2022-08-24T10:37:51.677Z"
   },
   {
    "duration": 140,
    "start_time": "2022-08-24T10:38:39.973Z"
   },
   {
    "duration": 177,
    "start_time": "2022-08-24T10:38:47.673Z"
   },
   {
    "duration": 132,
    "start_time": "2022-08-24T10:39:44.248Z"
   },
   {
    "duration": 182,
    "start_time": "2022-08-24T10:40:33.937Z"
   },
   {
    "duration": 162,
    "start_time": "2022-08-24T10:40:53.178Z"
   },
   {
    "duration": 137,
    "start_time": "2022-08-24T10:40:59.610Z"
   },
   {
    "duration": 164,
    "start_time": "2022-08-24T10:41:21.170Z"
   },
   {
    "duration": 152,
    "start_time": "2022-08-24T10:41:29.485Z"
   },
   {
    "duration": 257,
    "start_time": "2022-08-24T10:58:06.474Z"
   },
   {
    "duration": 155,
    "start_time": "2022-08-24T10:58:14.358Z"
   },
   {
    "duration": 175,
    "start_time": "2022-08-24T10:58:19.396Z"
   },
   {
    "duration": 162,
    "start_time": "2022-08-24T10:59:00.912Z"
   },
   {
    "duration": 170,
    "start_time": "2022-08-24T11:04:04.193Z"
   },
   {
    "duration": 6,
    "start_time": "2022-08-24T11:39:03.790Z"
   },
   {
    "duration": 6,
    "start_time": "2022-08-24T11:39:07.697Z"
   },
   {
    "duration": 6,
    "start_time": "2022-08-24T11:39:15.558Z"
   },
   {
    "duration": 7,
    "start_time": "2022-08-24T11:39:19.589Z"
   },
   {
    "duration": 1477,
    "start_time": "2022-08-25T09:08:15.837Z"
   },
   {
    "duration": 89,
    "start_time": "2022-08-25T09:08:17.316Z"
   },
   {
    "duration": 13,
    "start_time": "2022-08-25T09:08:17.406Z"
   },
   {
    "duration": 12,
    "start_time": "2022-08-25T09:08:17.421Z"
   },
   {
    "duration": 7,
    "start_time": "2022-08-25T09:08:17.435Z"
   },
   {
    "duration": 15,
    "start_time": "2022-08-25T09:08:17.443Z"
   },
   {
    "duration": 7,
    "start_time": "2022-08-25T09:08:17.459Z"
   },
   {
    "duration": 5,
    "start_time": "2022-08-25T09:08:17.467Z"
   },
   {
    "duration": 12,
    "start_time": "2022-08-25T09:08:17.473Z"
   },
   {
    "duration": 10,
    "start_time": "2022-08-25T09:08:17.486Z"
   },
   {
    "duration": 5,
    "start_time": "2022-08-25T09:08:17.497Z"
   },
   {
    "duration": 6,
    "start_time": "2022-08-25T09:08:17.504Z"
   },
   {
    "duration": 59,
    "start_time": "2022-08-25T09:08:17.511Z"
   },
   {
    "duration": 116,
    "start_time": "2022-08-25T09:08:17.573Z"
   },
   {
    "duration": 14,
    "start_time": "2022-08-25T09:08:17.691Z"
   },
   {
    "duration": 182,
    "start_time": "2022-08-25T09:08:17.706Z"
   },
   {
    "duration": 31,
    "start_time": "2022-08-25T09:08:17.890Z"
   },
   {
    "duration": 116,
    "start_time": "2022-08-25T09:08:17.922Z"
   },
   {
    "duration": 161,
    "start_time": "2022-08-25T09:08:18.040Z"
   },
   {
    "duration": 32,
    "start_time": "2022-08-25T09:08:18.203Z"
   },
   {
    "duration": 324,
    "start_time": "2022-08-25T09:08:18.237Z"
   },
   {
    "duration": 307,
    "start_time": "2022-08-25T09:08:18.562Z"
   },
   {
    "duration": 219,
    "start_time": "2022-08-25T09:08:18.871Z"
   },
   {
    "duration": 367,
    "start_time": "2022-08-25T09:08:19.092Z"
   },
   {
    "duration": 15,
    "start_time": "2022-08-25T09:08:19.461Z"
   },
   {
    "duration": 16,
    "start_time": "2022-08-25T09:08:19.477Z"
   },
   {
    "duration": 74,
    "start_time": "2022-08-25T09:08:19.495Z"
   },
   {
    "duration": 213,
    "start_time": "2022-08-25T09:08:19.570Z"
   },
   {
    "duration": 13,
    "start_time": "2022-08-25T09:08:19.785Z"
   },
   {
    "duration": 3958,
    "start_time": "2022-08-25T09:08:19.799Z"
   },
   {
    "duration": 69672,
    "start_time": "2022-08-25T09:08:23.758Z"
   },
   {
    "duration": 2772,
    "start_time": "2022-08-25T09:09:33.431Z"
   },
   {
    "duration": 4,
    "start_time": "2022-08-25T09:09:36.205Z"
   },
   {
    "duration": 256,
    "start_time": "2022-08-25T09:09:36.210Z"
   },
   {
    "duration": 0,
    "start_time": "2022-08-25T09:09:36.467Z"
   },
   {
    "duration": 135,
    "start_time": "2022-08-25T09:10:33.072Z"
   },
   {
    "duration": 132,
    "start_time": "2022-08-25T09:10:39.531Z"
   },
   {
    "duration": 4490,
    "start_time": "2022-08-25T09:52:03.106Z"
   },
   {
    "duration": 4302,
    "start_time": "2022-08-25T09:52:24.140Z"
   },
   {
    "duration": 1396,
    "start_time": "2022-08-25T09:52:45.046Z"
   },
   {
    "duration": 61,
    "start_time": "2022-08-25T09:52:46.444Z"
   },
   {
    "duration": 14,
    "start_time": "2022-08-25T09:52:46.506Z"
   },
   {
    "duration": 11,
    "start_time": "2022-08-25T09:52:46.521Z"
   },
   {
    "duration": 38,
    "start_time": "2022-08-25T09:52:46.534Z"
   },
   {
    "duration": 16,
    "start_time": "2022-08-25T09:52:46.574Z"
   },
   {
    "duration": 6,
    "start_time": "2022-08-25T09:52:46.592Z"
   },
   {
    "duration": 14,
    "start_time": "2022-08-25T09:52:46.599Z"
   },
   {
    "duration": 15,
    "start_time": "2022-08-25T09:52:46.614Z"
   },
   {
    "duration": 9,
    "start_time": "2022-08-25T09:52:46.631Z"
   },
   {
    "duration": 19,
    "start_time": "2022-08-25T09:52:46.642Z"
   },
   {
    "duration": 15,
    "start_time": "2022-08-25T09:52:46.662Z"
   },
   {
    "duration": 23,
    "start_time": "2022-08-25T09:52:46.680Z"
   },
   {
    "duration": 151,
    "start_time": "2022-08-25T09:52:46.706Z"
   },
   {
    "duration": 23,
    "start_time": "2022-08-25T09:52:46.860Z"
   },
   {
    "duration": 203,
    "start_time": "2022-08-25T09:52:46.884Z"
   },
   {
    "duration": 45,
    "start_time": "2022-08-25T09:52:47.089Z"
   },
   {
    "duration": 143,
    "start_time": "2022-08-25T09:52:47.136Z"
   },
   {
    "duration": 280,
    "start_time": "2022-08-25T09:52:47.281Z"
   },
   {
    "duration": 98,
    "start_time": "2022-08-25T09:52:47.563Z"
   },
   {
    "duration": 424,
    "start_time": "2022-08-25T09:52:47.664Z"
   },
   {
    "duration": 410,
    "start_time": "2022-08-25T09:52:48.090Z"
   },
   {
    "duration": 386,
    "start_time": "2022-08-25T09:52:48.501Z"
   },
   {
    "duration": 398,
    "start_time": "2022-08-25T09:52:48.889Z"
   },
   {
    "duration": 16,
    "start_time": "2022-08-25T09:52:49.289Z"
   },
   {
    "duration": 20,
    "start_time": "2022-08-25T09:52:49.307Z"
   },
   {
    "duration": 43,
    "start_time": "2022-08-25T09:52:49.329Z"
   },
   {
    "duration": 129,
    "start_time": "2022-08-25T09:52:49.374Z"
   },
   {
    "duration": 15,
    "start_time": "2022-08-25T09:52:49.505Z"
   },
   {
    "duration": 4123,
    "start_time": "2022-08-25T09:52:49.522Z"
   },
   {
    "duration": 0,
    "start_time": "2022-08-25T09:52:53.647Z"
   },
   {
    "duration": 0,
    "start_time": "2022-08-25T09:52:53.657Z"
   },
   {
    "duration": 0,
    "start_time": "2022-08-25T09:52:53.658Z"
   },
   {
    "duration": 0,
    "start_time": "2022-08-25T09:52:53.660Z"
   },
   {
    "duration": 0,
    "start_time": "2022-08-25T09:52:53.661Z"
   },
   {
    "duration": 3846,
    "start_time": "2022-08-25T09:53:25.048Z"
   },
   {
    "duration": 3855,
    "start_time": "2022-08-25T09:53:41.706Z"
   },
   {
    "duration": 71636,
    "start_time": "2022-08-25T09:54:05.400Z"
   },
   {
    "duration": 2846,
    "start_time": "2022-08-25T09:55:17.038Z"
   },
   {
    "duration": 72195,
    "start_time": "2022-08-25T09:55:43.040Z"
   },
   {
    "duration": 5926,
    "start_time": "2022-08-25T09:56:55.238Z"
   },
   {
    "duration": 6,
    "start_time": "2022-08-25T09:57:16.232Z"
   },
   {
    "duration": 1429,
    "start_time": "2022-08-25T09:57:28.765Z"
   },
   {
    "duration": 52,
    "start_time": "2022-08-25T09:57:30.196Z"
   },
   {
    "duration": 14,
    "start_time": "2022-08-25T09:57:30.250Z"
   },
   {
    "duration": 20,
    "start_time": "2022-08-25T09:57:30.266Z"
   },
   {
    "duration": 7,
    "start_time": "2022-08-25T09:57:30.289Z"
   },
   {
    "duration": 17,
    "start_time": "2022-08-25T09:57:30.297Z"
   },
   {
    "duration": 15,
    "start_time": "2022-08-25T09:57:30.316Z"
   },
   {
    "duration": 11,
    "start_time": "2022-08-25T09:57:30.333Z"
   },
   {
    "duration": 17,
    "start_time": "2022-08-25T09:57:30.358Z"
   },
   {
    "duration": 13,
    "start_time": "2022-08-25T09:57:30.377Z"
   },
   {
    "duration": 9,
    "start_time": "2022-08-25T09:57:30.392Z"
   },
   {
    "duration": 20,
    "start_time": "2022-08-25T09:57:30.403Z"
   },
   {
    "duration": 41,
    "start_time": "2022-08-25T09:57:30.426Z"
   },
   {
    "duration": 200,
    "start_time": "2022-08-25T09:57:30.471Z"
   },
   {
    "duration": 15,
    "start_time": "2022-08-25T09:57:30.673Z"
   },
   {
    "duration": 214,
    "start_time": "2022-08-25T09:57:30.690Z"
   },
   {
    "duration": 33,
    "start_time": "2022-08-25T09:57:30.906Z"
   },
   {
    "duration": 139,
    "start_time": "2022-08-25T09:57:30.940Z"
   },
   {
    "duration": 190,
    "start_time": "2022-08-25T09:57:31.081Z"
   },
   {
    "duration": 52,
    "start_time": "2022-08-25T09:57:31.273Z"
   },
   {
    "duration": 204,
    "start_time": "2022-08-25T09:57:31.328Z"
   },
   {
    "duration": 181,
    "start_time": "2022-08-25T09:57:31.533Z"
   },
   {
    "duration": 131,
    "start_time": "2022-08-25T09:57:31.716Z"
   },
   {
    "duration": 206,
    "start_time": "2022-08-25T09:57:31.858Z"
   },
   {
    "duration": 18,
    "start_time": "2022-08-25T09:57:32.066Z"
   },
   {
    "duration": 19,
    "start_time": "2022-08-25T09:57:32.086Z"
   },
   {
    "duration": 31,
    "start_time": "2022-08-25T09:57:32.107Z"
   },
   {
    "duration": 134,
    "start_time": "2022-08-25T09:57:32.158Z"
   },
   {
    "duration": 17,
    "start_time": "2022-08-25T09:57:32.294Z"
   },
   {
    "duration": 4581,
    "start_time": "2022-08-25T09:57:32.313Z"
   },
   {
    "duration": 71770,
    "start_time": "2022-08-25T09:57:36.896Z"
   },
   {
    "duration": 2797,
    "start_time": "2022-08-25T09:58:48.668Z"
   },
   {
    "duration": 93,
    "start_time": "2022-08-25T09:58:51.466Z"
   },
   {
    "duration": 180,
    "start_time": "2022-08-25T09:58:51.561Z"
   },
   {
    "duration": 140,
    "start_time": "2022-08-25T09:58:51.742Z"
   },
   {
    "duration": 1754,
    "start_time": "2022-08-26T08:20:20.232Z"
   },
   {
    "duration": 186,
    "start_time": "2022-08-26T08:20:21.989Z"
   },
   {
    "duration": 17,
    "start_time": "2022-08-26T08:20:22.178Z"
   },
   {
    "duration": 15,
    "start_time": "2022-08-26T08:20:22.198Z"
   },
   {
    "duration": 13,
    "start_time": "2022-08-26T08:20:22.215Z"
   },
   {
    "duration": 14,
    "start_time": "2022-08-26T08:20:22.230Z"
   },
   {
    "duration": 9,
    "start_time": "2022-08-26T08:20:22.246Z"
   },
   {
    "duration": 36,
    "start_time": "2022-08-26T08:20:22.257Z"
   },
   {
    "duration": 22,
    "start_time": "2022-08-26T08:20:22.295Z"
   },
   {
    "duration": 17,
    "start_time": "2022-08-26T08:20:22.321Z"
   },
   {
    "duration": 8,
    "start_time": "2022-08-26T08:20:22.340Z"
   },
   {
    "duration": 19,
    "start_time": "2022-08-26T08:20:22.350Z"
   },
   {
    "duration": 34,
    "start_time": "2022-08-26T08:20:22.371Z"
   },
   {
    "duration": 141,
    "start_time": "2022-08-26T08:20:22.407Z"
   },
   {
    "duration": 16,
    "start_time": "2022-08-26T08:20:22.551Z"
   },
   {
    "duration": 205,
    "start_time": "2022-08-26T08:20:22.569Z"
   },
   {
    "duration": 46,
    "start_time": "2022-08-26T08:20:22.776Z"
   },
   {
    "duration": 127,
    "start_time": "2022-08-26T08:20:22.823Z"
   },
   {
    "duration": 195,
    "start_time": "2022-08-26T08:20:22.952Z"
   },
   {
    "duration": 43,
    "start_time": "2022-08-26T08:20:23.149Z"
   },
   {
    "duration": 139,
    "start_time": "2022-08-26T08:20:23.195Z"
   },
   {
    "duration": 261,
    "start_time": "2022-08-26T08:20:23.336Z"
   },
   {
    "duration": 142,
    "start_time": "2022-08-26T08:20:23.599Z"
   },
   {
    "duration": 195,
    "start_time": "2022-08-26T08:20:23.742Z"
   },
   {
    "duration": 17,
    "start_time": "2022-08-26T08:20:23.939Z"
   },
   {
    "duration": 37,
    "start_time": "2022-08-26T08:20:23.958Z"
   },
   {
    "duration": 26,
    "start_time": "2022-08-26T08:20:23.997Z"
   },
   {
    "duration": 137,
    "start_time": "2022-08-26T08:20:24.026Z"
   },
   {
    "duration": 28,
    "start_time": "2022-08-26T08:20:24.165Z"
   },
   {
    "duration": 4453,
    "start_time": "2022-08-26T08:20:24.195Z"
   },
   {
    "duration": 80759,
    "start_time": "2022-08-26T08:20:28.650Z"
   },
   {
    "duration": 3387,
    "start_time": "2022-08-26T08:21:49.410Z"
   },
   {
    "duration": 95,
    "start_time": "2022-08-26T08:21:52.799Z"
   },
   {
    "duration": 173,
    "start_time": "2022-08-26T08:21:52.896Z"
   },
   {
    "duration": 155,
    "start_time": "2022-08-26T08:21:53.071Z"
   },
   {
    "duration": 1384,
    "start_time": "2022-08-29T11:48:11.442Z"
   },
   {
    "duration": 106,
    "start_time": "2022-08-29T11:48:12.827Z"
   },
   {
    "duration": 11,
    "start_time": "2022-08-29T11:48:12.934Z"
   },
   {
    "duration": 11,
    "start_time": "2022-08-29T11:48:12.946Z"
   },
   {
    "duration": 12,
    "start_time": "2022-08-29T11:48:12.959Z"
   },
   {
    "duration": 10,
    "start_time": "2022-08-29T11:48:12.972Z"
   },
   {
    "duration": 15,
    "start_time": "2022-08-29T11:48:12.983Z"
   },
   {
    "duration": 4,
    "start_time": "2022-08-29T11:48:12.999Z"
   },
   {
    "duration": 12,
    "start_time": "2022-08-29T11:48:13.004Z"
   },
   {
    "duration": 9,
    "start_time": "2022-08-29T11:48:13.017Z"
   },
   {
    "duration": 5,
    "start_time": "2022-08-29T11:48:13.027Z"
   },
   {
    "duration": 7,
    "start_time": "2022-08-29T11:48:13.034Z"
   },
   {
    "duration": 20,
    "start_time": "2022-08-29T11:48:13.042Z"
   },
   {
    "duration": 133,
    "start_time": "2022-08-29T11:48:13.065Z"
   },
   {
    "duration": 13,
    "start_time": "2022-08-29T11:48:13.199Z"
   },
   {
    "duration": 163,
    "start_time": "2022-08-29T11:48:13.213Z"
   },
   {
    "duration": 33,
    "start_time": "2022-08-29T11:48:13.377Z"
   },
   {
    "duration": 100,
    "start_time": "2022-08-29T11:48:13.411Z"
   },
   {
    "duration": 137,
    "start_time": "2022-08-29T11:48:13.512Z"
   },
   {
    "duration": 25,
    "start_time": "2022-08-29T11:48:13.651Z"
   },
   {
    "duration": 155,
    "start_time": "2022-08-29T11:48:13.677Z"
   },
   {
    "duration": 131,
    "start_time": "2022-08-29T11:48:13.834Z"
   },
   {
    "duration": 113,
    "start_time": "2022-08-29T11:48:13.966Z"
   },
   {
    "duration": 155,
    "start_time": "2022-08-29T11:48:14.081Z"
   },
   {
    "duration": 14,
    "start_time": "2022-08-29T11:48:14.238Z"
   },
   {
    "duration": 16,
    "start_time": "2022-08-29T11:48:14.253Z"
   },
   {
    "duration": 40,
    "start_time": "2022-08-29T11:48:14.271Z"
   },
   {
    "duration": 109,
    "start_time": "2022-08-29T11:48:14.313Z"
   },
   {
    "duration": 16,
    "start_time": "2022-08-29T11:48:14.424Z"
   },
   {
    "duration": 4302,
    "start_time": "2022-08-29T11:48:14.442Z"
   },
   {
    "duration": 74858,
    "start_time": "2022-08-29T11:48:18.746Z"
   },
   {
    "duration": 2409,
    "start_time": "2022-08-29T11:49:33.605Z"
   },
   {
    "duration": 182,
    "start_time": "2022-08-29T11:49:36.016Z"
   },
   {
    "duration": 120,
    "start_time": "2022-08-29T11:49:36.200Z"
   },
   {
    "duration": 126,
    "start_time": "2022-08-29T11:49:36.321Z"
   },
   {
    "duration": 112,
    "start_time": "2022-08-29T11:51:02.622Z"
   },
   {
    "duration": 47874,
    "start_time": "2022-08-29T12:01:36.125Z"
   },
   {
    "duration": 133086,
    "start_time": "2022-08-29T12:02:45.032Z"
   },
   {
    "duration": 67371,
    "start_time": "2022-08-29T12:05:08.975Z"
   },
   {
    "duration": 1250,
    "start_time": "2022-08-29T12:06:57.308Z"
   },
   {
    "duration": 52,
    "start_time": "2022-08-29T12:06:58.559Z"
   },
   {
    "duration": 12,
    "start_time": "2022-08-29T12:06:58.612Z"
   },
   {
    "duration": 11,
    "start_time": "2022-08-29T12:06:58.625Z"
   },
   {
    "duration": 5,
    "start_time": "2022-08-29T12:06:58.638Z"
   },
   {
    "duration": 12,
    "start_time": "2022-08-29T12:06:58.644Z"
   },
   {
    "duration": 6,
    "start_time": "2022-08-29T12:06:58.657Z"
   },
   {
    "duration": 3,
    "start_time": "2022-08-29T12:06:58.664Z"
   },
   {
    "duration": 13,
    "start_time": "2022-08-29T12:06:58.698Z"
   },
   {
    "duration": 10,
    "start_time": "2022-08-29T12:06:58.713Z"
   },
   {
    "duration": 7,
    "start_time": "2022-08-29T12:06:58.724Z"
   },
   {
    "duration": 15,
    "start_time": "2022-08-29T12:06:58.733Z"
   },
   {
    "duration": 24,
    "start_time": "2022-08-29T12:06:58.749Z"
   },
   {
    "duration": 139,
    "start_time": "2022-08-29T12:06:58.775Z"
   },
   {
    "duration": 13,
    "start_time": "2022-08-29T12:06:58.915Z"
   },
   {
    "duration": 165,
    "start_time": "2022-08-29T12:06:58.930Z"
   },
   {
    "duration": 26,
    "start_time": "2022-08-29T12:06:59.098Z"
   },
   {
    "duration": 106,
    "start_time": "2022-08-29T12:06:59.125Z"
   },
   {
    "duration": 142,
    "start_time": "2022-08-29T12:06:59.233Z"
   },
   {
    "duration": 35,
    "start_time": "2022-08-29T12:06:59.376Z"
   },
   {
    "duration": 109,
    "start_time": "2022-08-29T12:06:59.413Z"
   },
   {
    "duration": 193,
    "start_time": "2022-08-29T12:06:59.523Z"
   },
   {
    "duration": 110,
    "start_time": "2022-08-29T12:06:59.717Z"
   },
   {
    "duration": 154,
    "start_time": "2022-08-29T12:06:59.829Z"
   },
   {
    "duration": 20,
    "start_time": "2022-08-29T12:06:59.985Z"
   },
   {
    "duration": 18,
    "start_time": "2022-08-29T12:07:00.006Z"
   },
   {
    "duration": 39,
    "start_time": "2022-08-29T12:07:00.026Z"
   },
   {
    "duration": 105,
    "start_time": "2022-08-29T12:07:00.069Z"
   },
   {
    "duration": 23,
    "start_time": "2022-08-29T12:07:00.176Z"
   },
   {
    "duration": 4499,
    "start_time": "2022-08-29T12:07:00.201Z"
   },
   {
    "duration": 68005,
    "start_time": "2022-08-29T12:07:04.702Z"
   },
   {
    "duration": 2317,
    "start_time": "2022-08-29T12:08:12.709Z"
   },
   {
    "duration": 74,
    "start_time": "2022-08-29T12:08:15.027Z"
   },
   {
    "duration": 219,
    "start_time": "2022-08-29T12:08:15.102Z"
   },
   {
    "duration": 136,
    "start_time": "2022-08-29T12:08:15.322Z"
   },
   {
    "duration": 2,
    "start_time": "2022-08-29T12:08:15.459Z"
   },
   {
    "duration": 74,
    "start_time": "2022-08-29T12:09:16.707Z"
   },
   {
    "duration": 1451,
    "start_time": "2022-08-29T12:09:27.395Z"
   },
   {
    "duration": 104,
    "start_time": "2022-08-29T12:09:28.847Z"
   },
   {
    "duration": 54,
    "start_time": "2022-08-29T12:09:28.952Z"
   },
   {
    "duration": 10,
    "start_time": "2022-08-29T12:09:29.008Z"
   },
   {
    "duration": 7,
    "start_time": "2022-08-29T12:09:29.021Z"
   },
   {
    "duration": 70,
    "start_time": "2022-08-29T12:09:29.029Z"
   },
   {
    "duration": 6,
    "start_time": "2022-08-29T12:09:29.101Z"
   },
   {
    "duration": 4,
    "start_time": "2022-08-29T12:09:29.108Z"
   },
   {
    "duration": 12,
    "start_time": "2022-08-29T12:09:29.113Z"
   },
   {
    "duration": 9,
    "start_time": "2022-08-29T12:09:29.126Z"
   },
   {
    "duration": 6,
    "start_time": "2022-08-29T12:09:29.136Z"
   },
   {
    "duration": 6,
    "start_time": "2022-08-29T12:09:29.198Z"
   },
   {
    "duration": 22,
    "start_time": "2022-08-29T12:09:29.205Z"
   },
   {
    "duration": 200,
    "start_time": "2022-08-29T12:09:29.230Z"
   },
   {
    "duration": 68,
    "start_time": "2022-08-29T12:09:29.431Z"
   },
   {
    "duration": 307,
    "start_time": "2022-08-29T12:09:29.501Z"
   },
   {
    "duration": 27,
    "start_time": "2022-08-29T12:09:29.810Z"
   },
   {
    "duration": 212,
    "start_time": "2022-08-29T12:09:29.838Z"
   },
   {
    "duration": 153,
    "start_time": "2022-08-29T12:09:30.052Z"
   },
   {
    "duration": 27,
    "start_time": "2022-08-29T12:09:30.207Z"
   },
   {
    "duration": 104,
    "start_time": "2022-08-29T12:09:30.235Z"
   },
   {
    "duration": 198,
    "start_time": "2022-08-29T12:09:30.340Z"
   },
   {
    "duration": 119,
    "start_time": "2022-08-29T12:09:30.540Z"
   },
   {
    "duration": 183,
    "start_time": "2022-08-29T12:09:30.660Z"
   },
   {
    "duration": 14,
    "start_time": "2022-08-29T12:09:30.845Z"
   },
   {
    "duration": 16,
    "start_time": "2022-08-29T12:09:30.860Z"
   },
   {
    "duration": 58,
    "start_time": "2022-08-29T12:09:30.877Z"
   },
   {
    "duration": 134,
    "start_time": "2022-08-29T12:09:30.936Z"
   },
   {
    "duration": 14,
    "start_time": "2022-08-29T12:09:31.071Z"
   },
   {
    "duration": 4284,
    "start_time": "2022-08-29T12:09:31.087Z"
   },
   {
    "duration": 9807,
    "start_time": "2022-08-29T12:09:35.372Z"
   },
   {
    "duration": 0,
    "start_time": "2022-08-29T12:09:45.181Z"
   },
   {
    "duration": 0,
    "start_time": "2022-08-29T12:09:45.182Z"
   },
   {
    "duration": 0,
    "start_time": "2022-08-29T12:09:45.183Z"
   },
   {
    "duration": 0,
    "start_time": "2022-08-29T12:09:45.183Z"
   },
   {
    "duration": 0,
    "start_time": "2022-08-29T12:09:45.184Z"
   },
   {
    "duration": 1493,
    "start_time": "2022-08-29T12:09:56.411Z"
   },
   {
    "duration": 0,
    "start_time": "2022-08-29T12:09:57.906Z"
   },
   {
    "duration": 0,
    "start_time": "2022-08-29T12:09:57.908Z"
   },
   {
    "duration": 0,
    "start_time": "2022-08-29T12:09:57.909Z"
   },
   {
    "duration": 0,
    "start_time": "2022-08-29T12:09:57.910Z"
   },
   {
    "duration": 0,
    "start_time": "2022-08-29T12:09:57.911Z"
   },
   {
    "duration": 0,
    "start_time": "2022-08-29T12:09:57.912Z"
   },
   {
    "duration": 0,
    "start_time": "2022-08-29T12:09:57.912Z"
   },
   {
    "duration": 0,
    "start_time": "2022-08-29T12:09:57.913Z"
   },
   {
    "duration": 0,
    "start_time": "2022-08-29T12:09:57.914Z"
   },
   {
    "duration": 0,
    "start_time": "2022-08-29T12:09:57.915Z"
   },
   {
    "duration": 0,
    "start_time": "2022-08-29T12:09:57.915Z"
   },
   {
    "duration": 0,
    "start_time": "2022-08-29T12:09:57.916Z"
   },
   {
    "duration": 0,
    "start_time": "2022-08-29T12:09:57.917Z"
   },
   {
    "duration": 0,
    "start_time": "2022-08-29T12:09:57.918Z"
   },
   {
    "duration": 0,
    "start_time": "2022-08-29T12:09:57.918Z"
   },
   {
    "duration": 0,
    "start_time": "2022-08-29T12:09:57.919Z"
   },
   {
    "duration": 0,
    "start_time": "2022-08-29T12:09:57.920Z"
   },
   {
    "duration": 0,
    "start_time": "2022-08-29T12:09:57.921Z"
   },
   {
    "duration": 0,
    "start_time": "2022-08-29T12:09:57.922Z"
   },
   {
    "duration": 0,
    "start_time": "2022-08-29T12:09:57.922Z"
   },
   {
    "duration": 0,
    "start_time": "2022-08-29T12:09:57.923Z"
   },
   {
    "duration": 0,
    "start_time": "2022-08-29T12:09:57.924Z"
   },
   {
    "duration": 0,
    "start_time": "2022-08-29T12:09:57.924Z"
   },
   {
    "duration": 0,
    "start_time": "2022-08-29T12:09:57.926Z"
   },
   {
    "duration": 0,
    "start_time": "2022-08-29T12:09:57.927Z"
   },
   {
    "duration": 0,
    "start_time": "2022-08-29T12:09:57.928Z"
   },
   {
    "duration": 0,
    "start_time": "2022-08-29T12:09:57.928Z"
   },
   {
    "duration": 0,
    "start_time": "2022-08-29T12:09:57.929Z"
   },
   {
    "duration": 0,
    "start_time": "2022-08-29T12:09:57.930Z"
   },
   {
    "duration": 0,
    "start_time": "2022-08-29T12:09:57.931Z"
   },
   {
    "duration": 0,
    "start_time": "2022-08-29T12:09:57.932Z"
   },
   {
    "duration": 0,
    "start_time": "2022-08-29T12:09:57.933Z"
   },
   {
    "duration": 0,
    "start_time": "2022-08-29T12:09:57.934Z"
   },
   {
    "duration": 0,
    "start_time": "2022-08-29T12:09:57.934Z"
   },
   {
    "duration": 0,
    "start_time": "2022-08-29T12:09:57.935Z"
   },
   {
    "duration": 1213,
    "start_time": "2022-08-29T12:10:08.245Z"
   },
   {
    "duration": 52,
    "start_time": "2022-08-29T12:10:09.460Z"
   },
   {
    "duration": 15,
    "start_time": "2022-08-29T12:10:09.514Z"
   },
   {
    "duration": 13,
    "start_time": "2022-08-29T12:10:09.531Z"
   },
   {
    "duration": 7,
    "start_time": "2022-08-29T12:10:09.546Z"
   },
   {
    "duration": 10,
    "start_time": "2022-08-29T12:10:09.555Z"
   },
   {
    "duration": 5,
    "start_time": "2022-08-29T12:10:09.566Z"
   },
   {
    "duration": 27,
    "start_time": "2022-08-29T12:10:09.573Z"
   },
   {
    "duration": 11,
    "start_time": "2022-08-29T12:10:09.601Z"
   },
   {
    "duration": 9,
    "start_time": "2022-08-29T12:10:09.613Z"
   },
   {
    "duration": 5,
    "start_time": "2022-08-29T12:10:09.623Z"
   },
   {
    "duration": 6,
    "start_time": "2022-08-29T12:10:09.629Z"
   },
   {
    "duration": 20,
    "start_time": "2022-08-29T12:10:09.636Z"
   },
   {
    "duration": 130,
    "start_time": "2022-08-29T12:10:09.658Z"
   },
   {
    "duration": 20,
    "start_time": "2022-08-29T12:10:09.789Z"
   },
   {
    "duration": 211,
    "start_time": "2022-08-29T12:10:09.811Z"
   },
   {
    "duration": 83,
    "start_time": "2022-08-29T12:10:10.023Z"
   },
   {
    "duration": 207,
    "start_time": "2022-08-29T12:10:10.108Z"
   },
   {
    "duration": 308,
    "start_time": "2022-08-29T12:10:10.317Z"
   },
   {
    "duration": 80,
    "start_time": "2022-08-29T12:10:10.627Z"
   },
   {
    "duration": 304,
    "start_time": "2022-08-29T12:10:10.709Z"
   },
   {
    "duration": 289,
    "start_time": "2022-08-29T12:10:11.014Z"
   },
   {
    "duration": 203,
    "start_time": "2022-08-29T12:10:11.304Z"
   },
   {
    "duration": 222,
    "start_time": "2022-08-29T12:10:11.509Z"
   },
   {
    "duration": 13,
    "start_time": "2022-08-29T12:10:11.733Z"
   },
   {
    "duration": 21,
    "start_time": "2022-08-29T12:10:11.748Z"
   },
   {
    "duration": 40,
    "start_time": "2022-08-29T12:10:11.770Z"
   },
   {
    "duration": 103,
    "start_time": "2022-08-29T12:10:11.811Z"
   },
   {
    "duration": 13,
    "start_time": "2022-08-29T12:10:11.915Z"
   },
   {
    "duration": 4300,
    "start_time": "2022-08-29T12:10:11.930Z"
   },
   {
    "duration": 1353,
    "start_time": "2022-08-29T12:12:12.945Z"
   },
   {
    "duration": 54,
    "start_time": "2022-08-29T12:12:14.300Z"
   },
   {
    "duration": 56,
    "start_time": "2022-08-29T12:12:14.355Z"
   },
   {
    "duration": 22,
    "start_time": "2022-08-29T12:12:14.413Z"
   },
   {
    "duration": 61,
    "start_time": "2022-08-29T12:12:14.437Z"
   },
   {
    "duration": 13,
    "start_time": "2022-08-29T12:12:14.501Z"
   },
   {
    "duration": 13,
    "start_time": "2022-08-29T12:12:14.516Z"
   },
   {
    "duration": 4,
    "start_time": "2022-08-29T12:12:14.531Z"
   },
   {
    "duration": 70,
    "start_time": "2022-08-29T12:12:14.537Z"
   },
   {
    "duration": 10,
    "start_time": "2022-08-29T12:12:14.609Z"
   },
   {
    "duration": 11,
    "start_time": "2022-08-29T12:12:14.621Z"
   },
   {
    "duration": 18,
    "start_time": "2022-08-29T12:12:14.633Z"
   },
   {
    "duration": 20,
    "start_time": "2022-08-29T12:12:14.699Z"
   },
   {
    "duration": 206,
    "start_time": "2022-08-29T12:12:14.721Z"
   },
   {
    "duration": 70,
    "start_time": "2022-08-29T12:12:14.928Z"
   },
   {
    "duration": 349,
    "start_time": "2022-08-29T12:12:15.000Z"
   },
   {
    "duration": 27,
    "start_time": "2022-08-29T12:12:15.398Z"
   },
   {
    "duration": 190,
    "start_time": "2022-08-29T12:12:15.426Z"
   },
   {
    "duration": 239,
    "start_time": "2022-08-29T12:12:15.617Z"
   },
   {
    "duration": 25,
    "start_time": "2022-08-29T12:12:15.857Z"
   },
   {
    "duration": 164,
    "start_time": "2022-08-29T12:12:15.883Z"
   },
   {
    "duration": 154,
    "start_time": "2022-08-29T12:12:16.048Z"
   },
   {
    "duration": 103,
    "start_time": "2022-08-29T12:12:16.204Z"
   },
   {
    "duration": 154,
    "start_time": "2022-08-29T12:12:16.308Z"
   },
   {
    "duration": 13,
    "start_time": "2022-08-29T12:12:16.463Z"
   },
   {
    "duration": 25,
    "start_time": "2022-08-29T12:12:16.478Z"
   },
   {
    "duration": 22,
    "start_time": "2022-08-29T12:12:16.504Z"
   },
   {
    "duration": 108,
    "start_time": "2022-08-29T12:12:16.527Z"
   },
   {
    "duration": 13,
    "start_time": "2022-08-29T12:12:16.637Z"
   },
   {
    "duration": 4234,
    "start_time": "2022-08-29T12:12:16.651Z"
   },
   {
    "duration": 146935,
    "start_time": "2022-08-29T12:12:20.886Z"
   },
   {
    "duration": 2089,
    "start_time": "2022-08-29T12:14:47.822Z"
   },
   {
    "duration": 85,
    "start_time": "2022-08-29T12:14:49.913Z"
   },
   {
    "duration": 212,
    "start_time": "2022-08-29T12:14:50.002Z"
   },
   {
    "duration": 128,
    "start_time": "2022-08-29T12:14:50.216Z"
   },
   {
    "duration": 2,
    "start_time": "2022-08-29T12:14:50.345Z"
   },
   {
    "duration": 132344,
    "start_time": "2022-08-29T12:19:00.632Z"
   },
   {
    "duration": 129,
    "start_time": "2022-08-29T12:21:36.197Z"
   },
   {
    "duration": 12,
    "start_time": "2022-08-29T12:21:45.784Z"
   },
   {
    "duration": 4250,
    "start_time": "2022-08-29T12:21:56.653Z"
   },
   {
    "duration": 5691,
    "start_time": "2022-08-29T12:22:08.694Z"
   },
   {
    "duration": 4248,
    "start_time": "2022-08-29T12:22:23.135Z"
   },
   {
    "duration": 13,
    "start_time": "2022-08-29T12:31:26.876Z"
   },
   {
    "duration": 20233,
    "start_time": "2022-08-29T12:31:32.286Z"
   },
   {
    "duration": 20158,
    "start_time": "2022-08-29T12:32:36.634Z"
   },
   {
    "duration": 38332,
    "start_time": "2022-08-29T12:33:08.034Z"
   },
   {
    "duration": 93185,
    "start_time": "2022-08-29T12:33:54.031Z"
   },
   {
    "duration": 68230,
    "start_time": "2022-08-29T12:39:13.596Z"
   },
   {
    "duration": 68637,
    "start_time": "2022-08-29T12:44:11.742Z"
   },
   {
    "duration": 2016,
    "start_time": "2022-08-29T12:52:10.182Z"
   },
   {
    "duration": 5,
    "start_time": "2022-08-29T12:52:39.572Z"
   },
   {
    "duration": 1299,
    "start_time": "2022-08-29T12:53:31.995Z"
   },
   {
    "duration": 58,
    "start_time": "2022-08-29T12:53:33.297Z"
   },
   {
    "duration": 12,
    "start_time": "2022-08-29T12:53:33.356Z"
   },
   {
    "duration": 10,
    "start_time": "2022-08-29T12:53:33.370Z"
   },
   {
    "duration": 13,
    "start_time": "2022-08-29T12:53:33.382Z"
   },
   {
    "duration": 14,
    "start_time": "2022-08-29T12:53:33.396Z"
   },
   {
    "duration": 5,
    "start_time": "2022-08-29T12:53:33.411Z"
   },
   {
    "duration": 4,
    "start_time": "2022-08-29T12:53:33.417Z"
   },
   {
    "duration": 10,
    "start_time": "2022-08-29T12:53:33.422Z"
   },
   {
    "duration": 9,
    "start_time": "2022-08-29T12:53:33.434Z"
   },
   {
    "duration": 5,
    "start_time": "2022-08-29T12:53:33.444Z"
   },
   {
    "duration": 7,
    "start_time": "2022-08-29T12:53:33.451Z"
   },
   {
    "duration": 50,
    "start_time": "2022-08-29T12:53:33.459Z"
   },
   {
    "duration": 113,
    "start_time": "2022-08-29T12:53:33.513Z"
   },
   {
    "duration": 14,
    "start_time": "2022-08-29T12:53:33.627Z"
   },
   {
    "duration": 165,
    "start_time": "2022-08-29T12:53:33.643Z"
   },
   {
    "duration": 32,
    "start_time": "2022-08-29T12:53:33.810Z"
   },
   {
    "duration": 111,
    "start_time": "2022-08-29T12:53:33.844Z"
   },
   {
    "duration": 149,
    "start_time": "2022-08-29T12:53:33.956Z"
   },
   {
    "duration": 26,
    "start_time": "2022-08-29T12:53:34.106Z"
   },
   {
    "duration": 155,
    "start_time": "2022-08-29T12:53:34.133Z"
   },
   {
    "duration": 161,
    "start_time": "2022-08-29T12:53:34.299Z"
   },
   {
    "duration": 139,
    "start_time": "2022-08-29T12:53:34.462Z"
   },
   {
    "duration": 156,
    "start_time": "2022-08-29T12:53:34.603Z"
   },
   {
    "duration": 13,
    "start_time": "2022-08-29T12:53:34.761Z"
   },
   {
    "duration": 24,
    "start_time": "2022-08-29T12:53:34.775Z"
   },
   {
    "duration": 22,
    "start_time": "2022-08-29T12:53:34.800Z"
   },
   {
    "duration": 115,
    "start_time": "2022-08-29T12:53:34.824Z"
   },
   {
    "duration": 16,
    "start_time": "2022-08-29T12:53:34.941Z"
   },
   {
    "duration": 4252,
    "start_time": "2022-08-29T12:53:34.959Z"
   },
   {
    "duration": 132614,
    "start_time": "2022-08-29T12:53:39.212Z"
   },
   {
    "duration": 2230,
    "start_time": "2022-08-29T12:55:51.827Z"
   },
   {
    "duration": 5,
    "start_time": "2022-08-29T12:55:54.099Z"
   },
   {
    "duration": 199,
    "start_time": "2022-08-29T12:55:54.105Z"
   },
   {
    "duration": 143,
    "start_time": "2022-08-29T12:55:54.305Z"
   },
   {
    "duration": 5039,
    "start_time": "2022-08-29T12:55:54.450Z"
   },
   {
    "duration": 68678,
    "start_time": "2022-08-29T12:55:59.490Z"
   },
   {
    "duration": 2128,
    "start_time": "2022-08-29T12:57:08.170Z"
   },
   {
    "duration": 5,
    "start_time": "2022-08-29T12:57:10.300Z"
   },
   {
    "duration": 118,
    "start_time": "2022-08-29T13:10:41.159Z"
   },
   {
    "duration": 1267,
    "start_time": "2022-08-29T13:10:45.691Z"
   },
   {
    "duration": 52,
    "start_time": "2022-08-29T13:10:46.960Z"
   },
   {
    "duration": 13,
    "start_time": "2022-08-29T13:10:47.013Z"
   },
   {
    "duration": 11,
    "start_time": "2022-08-29T13:10:47.028Z"
   },
   {
    "duration": 10,
    "start_time": "2022-08-29T13:10:47.041Z"
   },
   {
    "duration": 11,
    "start_time": "2022-08-29T13:10:47.053Z"
   },
   {
    "duration": 15,
    "start_time": "2022-08-29T13:10:47.065Z"
   },
   {
    "duration": 17,
    "start_time": "2022-08-29T13:10:47.082Z"
   },
   {
    "duration": 13,
    "start_time": "2022-08-29T13:10:47.100Z"
   },
   {
    "duration": 8,
    "start_time": "2022-08-29T13:10:47.114Z"
   },
   {
    "duration": 9,
    "start_time": "2022-08-29T13:10:47.123Z"
   },
   {
    "duration": 9,
    "start_time": "2022-08-29T13:10:47.134Z"
   },
   {
    "duration": 22,
    "start_time": "2022-08-29T13:10:47.145Z"
   },
   {
    "duration": 136,
    "start_time": "2022-08-29T13:10:47.169Z"
   },
   {
    "duration": 12,
    "start_time": "2022-08-29T13:10:47.307Z"
   },
   {
    "duration": 167,
    "start_time": "2022-08-29T13:10:47.321Z"
   },
   {
    "duration": 30,
    "start_time": "2022-08-29T13:10:47.489Z"
   },
   {
    "duration": 102,
    "start_time": "2022-08-29T13:10:47.521Z"
   },
   {
    "duration": 145,
    "start_time": "2022-08-29T13:10:47.624Z"
   },
   {
    "duration": 37,
    "start_time": "2022-08-29T13:10:47.770Z"
   },
   {
    "duration": 99,
    "start_time": "2022-08-29T13:10:47.809Z"
   },
   {
    "duration": 206,
    "start_time": "2022-08-29T13:10:47.909Z"
   },
   {
    "duration": 115,
    "start_time": "2022-08-29T13:10:48.117Z"
   },
   {
    "duration": 272,
    "start_time": "2022-08-29T13:10:48.233Z"
   },
   {
    "duration": 13,
    "start_time": "2022-08-29T13:10:48.506Z"
   },
   {
    "duration": 16,
    "start_time": "2022-08-29T13:10:48.520Z"
   },
   {
    "duration": 71,
    "start_time": "2022-08-29T13:10:48.537Z"
   },
   {
    "duration": 204,
    "start_time": "2022-08-29T13:10:48.610Z"
   },
   {
    "duration": 13,
    "start_time": "2022-08-29T13:10:48.815Z"
   },
   {
    "duration": 4923,
    "start_time": "2022-08-29T13:10:48.830Z"
   },
   {
    "duration": 133189,
    "start_time": "2022-08-29T13:10:53.754Z"
   },
   {
    "duration": 2505,
    "start_time": "2022-08-29T13:13:06.945Z"
   },
   {
    "duration": 48,
    "start_time": "2022-08-29T13:13:09.452Z"
   },
   {
    "duration": 205,
    "start_time": "2022-08-29T13:13:09.502Z"
   },
   {
    "duration": 121,
    "start_time": "2022-08-29T13:13:09.708Z"
   },
   {
    "duration": 4411,
    "start_time": "2022-08-29T13:13:09.831Z"
   },
   {
    "duration": 68618,
    "start_time": "2022-08-29T13:13:14.243Z"
   },
   {
    "duration": 2143,
    "start_time": "2022-08-29T13:14:22.863Z"
   },
   {
    "duration": 6,
    "start_time": "2022-08-29T13:14:25.097Z"
   },
   {
    "duration": 1183,
    "start_time": "2022-08-29T13:17:32.054Z"
   },
   {
    "duration": 0,
    "start_time": "2022-08-29T13:17:33.240Z"
   },
   {
    "duration": 0,
    "start_time": "2022-08-29T13:17:33.241Z"
   },
   {
    "duration": 0,
    "start_time": "2022-08-29T13:17:33.242Z"
   },
   {
    "duration": 0,
    "start_time": "2022-08-29T13:17:33.243Z"
   },
   {
    "duration": 0,
    "start_time": "2022-08-29T13:17:33.244Z"
   },
   {
    "duration": 0,
    "start_time": "2022-08-29T13:17:33.245Z"
   },
   {
    "duration": 0,
    "start_time": "2022-08-29T13:17:33.246Z"
   },
   {
    "duration": 0,
    "start_time": "2022-08-29T13:17:33.247Z"
   },
   {
    "duration": 0,
    "start_time": "2022-08-29T13:17:33.247Z"
   },
   {
    "duration": 0,
    "start_time": "2022-08-29T13:17:33.248Z"
   },
   {
    "duration": 0,
    "start_time": "2022-08-29T13:17:33.249Z"
   },
   {
    "duration": 0,
    "start_time": "2022-08-29T13:17:33.250Z"
   },
   {
    "duration": 0,
    "start_time": "2022-08-29T13:17:33.251Z"
   },
   {
    "duration": 0,
    "start_time": "2022-08-29T13:17:33.252Z"
   },
   {
    "duration": 0,
    "start_time": "2022-08-29T13:17:33.253Z"
   },
   {
    "duration": 0,
    "start_time": "2022-08-29T13:17:33.253Z"
   },
   {
    "duration": 1,
    "start_time": "2022-08-29T13:17:33.254Z"
   },
   {
    "duration": 0,
    "start_time": "2022-08-29T13:17:33.255Z"
   },
   {
    "duration": 0,
    "start_time": "2022-08-29T13:17:33.256Z"
   },
   {
    "duration": 0,
    "start_time": "2022-08-29T13:17:33.257Z"
   },
   {
    "duration": 0,
    "start_time": "2022-08-29T13:17:33.258Z"
   },
   {
    "duration": 0,
    "start_time": "2022-08-29T13:17:33.259Z"
   },
   {
    "duration": 0,
    "start_time": "2022-08-29T13:17:33.259Z"
   },
   {
    "duration": 0,
    "start_time": "2022-08-29T13:17:33.261Z"
   },
   {
    "duration": 0,
    "start_time": "2022-08-29T13:17:33.261Z"
   },
   {
    "duration": 0,
    "start_time": "2022-08-29T13:17:33.298Z"
   },
   {
    "duration": 0,
    "start_time": "2022-08-29T13:17:33.299Z"
   },
   {
    "duration": 0,
    "start_time": "2022-08-29T13:17:33.300Z"
   },
   {
    "duration": 0,
    "start_time": "2022-08-29T13:17:33.300Z"
   },
   {
    "duration": 0,
    "start_time": "2022-08-29T13:17:33.301Z"
   },
   {
    "duration": 0,
    "start_time": "2022-08-29T13:17:33.302Z"
   },
   {
    "duration": 0,
    "start_time": "2022-08-29T13:17:33.303Z"
   },
   {
    "duration": 0,
    "start_time": "2022-08-29T13:17:33.304Z"
   },
   {
    "duration": 0,
    "start_time": "2022-08-29T13:17:33.305Z"
   },
   {
    "duration": 0,
    "start_time": "2022-08-29T13:17:33.306Z"
   },
   {
    "duration": 0,
    "start_time": "2022-08-29T13:17:33.307Z"
   },
   {
    "duration": 0,
    "start_time": "2022-08-29T13:17:33.307Z"
   },
   {
    "duration": 0,
    "start_time": "2022-08-29T13:17:33.308Z"
   },
   {
    "duration": 1250,
    "start_time": "2022-08-29T13:30:15.426Z"
   },
   {
    "duration": 53,
    "start_time": "2022-08-29T13:30:16.677Z"
   },
   {
    "duration": 12,
    "start_time": "2022-08-29T13:30:16.732Z"
   },
   {
    "duration": 11,
    "start_time": "2022-08-29T13:30:16.746Z"
   },
   {
    "duration": 22,
    "start_time": "2022-08-29T13:30:16.759Z"
   },
   {
    "duration": 19,
    "start_time": "2022-08-29T13:30:16.783Z"
   },
   {
    "duration": 13,
    "start_time": "2022-08-29T13:30:16.804Z"
   },
   {
    "duration": 14,
    "start_time": "2022-08-29T13:30:16.819Z"
   },
   {
    "duration": 24,
    "start_time": "2022-08-29T13:30:16.835Z"
   },
   {
    "duration": 11,
    "start_time": "2022-08-29T13:30:16.861Z"
   },
   {
    "duration": 7,
    "start_time": "2022-08-29T13:30:16.874Z"
   },
   {
    "duration": 24,
    "start_time": "2022-08-29T13:30:16.883Z"
   },
   {
    "duration": 46,
    "start_time": "2022-08-29T13:30:16.908Z"
   },
   {
    "duration": 112,
    "start_time": "2022-08-29T13:30:16.958Z"
   },
   {
    "duration": 14,
    "start_time": "2022-08-29T13:30:17.071Z"
   },
   {
    "duration": 153,
    "start_time": "2022-08-29T13:30:17.099Z"
   },
   {
    "duration": 25,
    "start_time": "2022-08-29T13:30:17.254Z"
   },
   {
    "duration": 117,
    "start_time": "2022-08-29T13:30:17.281Z"
   },
   {
    "duration": 141,
    "start_time": "2022-08-29T13:30:17.399Z"
   },
   {
    "duration": 26,
    "start_time": "2022-08-29T13:30:17.542Z"
   },
   {
    "duration": 164,
    "start_time": "2022-08-29T13:30:17.569Z"
   },
   {
    "duration": 135,
    "start_time": "2022-08-29T13:30:17.734Z"
   },
   {
    "duration": 114,
    "start_time": "2022-08-29T13:30:17.871Z"
   },
   {
    "duration": 154,
    "start_time": "2022-08-29T13:30:17.987Z"
   },
   {
    "duration": 13,
    "start_time": "2022-08-29T13:30:18.143Z"
   },
   {
    "duration": 16,
    "start_time": "2022-08-29T13:30:18.157Z"
   },
   {
    "duration": 36,
    "start_time": "2022-08-29T13:30:18.175Z"
   },
   {
    "duration": 117,
    "start_time": "2022-08-29T13:30:18.212Z"
   },
   {
    "duration": 14,
    "start_time": "2022-08-29T13:30:18.330Z"
   },
   {
    "duration": 5167,
    "start_time": "2022-08-29T13:30:18.346Z"
   },
   {
    "duration": 132609,
    "start_time": "2022-08-29T13:30:23.515Z"
   },
   {
    "duration": 2275,
    "start_time": "2022-08-29T13:32:36.125Z"
   },
   {
    "duration": 5,
    "start_time": "2022-08-29T13:32:38.401Z"
   },
   {
    "duration": 197,
    "start_time": "2022-08-29T13:32:38.407Z"
   },
   {
    "duration": 130,
    "start_time": "2022-08-29T13:32:38.606Z"
   },
   {
    "duration": 5172,
    "start_time": "2022-08-29T13:32:38.737Z"
   },
   {
    "duration": 69693,
    "start_time": "2022-08-29T13:32:43.911Z"
   },
   {
    "duration": 2301,
    "start_time": "2022-08-29T13:33:53.605Z"
   },
   {
    "duration": 93,
    "start_time": "2022-08-29T13:33:55.908Z"
   },
   {
    "duration": 4,
    "start_time": "2022-08-29T13:37:56.578Z"
   },
   {
    "duration": 116,
    "start_time": "2022-08-29T13:45:13.148Z"
   },
   {
    "duration": 4,
    "start_time": "2022-08-29T13:45:28.958Z"
   },
   {
    "duration": 8,
    "start_time": "2022-08-29T13:45:34.371Z"
   },
   {
    "duration": 3,
    "start_time": "2022-08-29T13:45:45.846Z"
   },
   {
    "duration": 3,
    "start_time": "2022-08-29T13:46:11.819Z"
   },
   {
    "duration": 9,
    "start_time": "2022-08-29T13:47:21.139Z"
   },
   {
    "duration": 3,
    "start_time": "2022-08-29T13:47:21.688Z"
   },
   {
    "duration": 11,
    "start_time": "2022-08-29T13:47:24.862Z"
   },
   {
    "duration": 3,
    "start_time": "2022-08-29T13:47:25.336Z"
   },
   {
    "duration": 8,
    "start_time": "2022-08-29T13:47:28.221Z"
   },
   {
    "duration": 3,
    "start_time": "2022-08-29T13:47:28.637Z"
   },
   {
    "duration": 10,
    "start_time": "2022-08-29T13:47:39.496Z"
   },
   {
    "duration": 3,
    "start_time": "2022-08-29T13:47:40.329Z"
   },
   {
    "duration": 5711,
    "start_time": "2022-08-29T13:51:43.136Z"
   },
   {
    "duration": 47500,
    "start_time": "2022-08-29T13:52:40.715Z"
   },
   {
    "duration": 94035,
    "start_time": "2022-08-29T14:01:02.198Z"
   },
   {
    "duration": 69877,
    "start_time": "2022-08-29T14:02:49.979Z"
   },
   {
    "duration": 5345,
    "start_time": "2022-08-29T14:04:24.046Z"
   },
   {
    "duration": 71987,
    "start_time": "2022-08-29T14:04:39.011Z"
   },
   {
    "duration": 5626,
    "start_time": "2022-08-29T14:05:51.000Z"
   },
   {
    "duration": 100916,
    "start_time": "2022-08-29T14:05:56.629Z"
   },
   {
    "duration": 3660,
    "start_time": "2022-08-29T14:07:37.547Z"
   },
   {
    "duration": 95244,
    "start_time": "2022-08-29T14:09:00.329Z"
   },
   {
    "duration": 1311,
    "start_time": "2022-08-29T14:12:00.528Z"
   },
   {
    "duration": 56,
    "start_time": "2022-08-29T14:12:01.841Z"
   },
   {
    "duration": 16,
    "start_time": "2022-08-29T14:12:01.899Z"
   },
   {
    "duration": 24,
    "start_time": "2022-08-29T14:12:01.917Z"
   },
   {
    "duration": 13,
    "start_time": "2022-08-29T14:12:01.944Z"
   },
   {
    "duration": 22,
    "start_time": "2022-08-29T14:12:01.959Z"
   },
   {
    "duration": 21,
    "start_time": "2022-08-29T14:12:01.983Z"
   },
   {
    "duration": 11,
    "start_time": "2022-08-29T14:12:02.006Z"
   },
   {
    "duration": 26,
    "start_time": "2022-08-29T14:12:02.018Z"
   },
   {
    "duration": 24,
    "start_time": "2022-08-29T14:12:02.046Z"
   },
   {
    "duration": 9,
    "start_time": "2022-08-29T14:12:02.071Z"
   },
   {
    "duration": 13,
    "start_time": "2022-08-29T14:12:02.082Z"
   },
   {
    "duration": 29,
    "start_time": "2022-08-29T14:12:02.096Z"
   },
   {
    "duration": 118,
    "start_time": "2022-08-29T14:12:02.129Z"
   },
   {
    "duration": 14,
    "start_time": "2022-08-29T14:12:02.248Z"
   },
   {
    "duration": 165,
    "start_time": "2022-08-29T14:12:02.263Z"
   },
   {
    "duration": 26,
    "start_time": "2022-08-29T14:12:02.430Z"
   },
   {
    "duration": 112,
    "start_time": "2022-08-29T14:12:02.457Z"
   },
   {
    "duration": 145,
    "start_time": "2022-08-29T14:12:02.571Z"
   },
   {
    "duration": 28,
    "start_time": "2022-08-29T14:12:02.718Z"
   },
   {
    "duration": 164,
    "start_time": "2022-08-29T14:12:02.748Z"
   },
   {
    "duration": 137,
    "start_time": "2022-08-29T14:12:02.913Z"
   },
   {
    "duration": 120,
    "start_time": "2022-08-29T14:12:03.052Z"
   },
   {
    "duration": 164,
    "start_time": "2022-08-29T14:12:03.174Z"
   },
   {
    "duration": 15,
    "start_time": "2022-08-29T14:12:03.339Z"
   },
   {
    "duration": 15,
    "start_time": "2022-08-29T14:12:03.356Z"
   },
   {
    "duration": 40,
    "start_time": "2022-08-29T14:12:03.373Z"
   },
   {
    "duration": 104,
    "start_time": "2022-08-29T14:12:03.414Z"
   },
   {
    "duration": 13,
    "start_time": "2022-08-29T14:12:03.520Z"
   },
   {
    "duration": 4372,
    "start_time": "2022-08-29T14:12:03.535Z"
   },
   {
    "duration": 133613,
    "start_time": "2022-08-29T14:12:07.908Z"
   },
   {
    "duration": 2076,
    "start_time": "2022-08-29T14:14:21.523Z"
   },
   {
    "duration": 4,
    "start_time": "2022-08-29T14:14:23.602Z"
   },
   {
    "duration": 207,
    "start_time": "2022-08-29T14:14:23.608Z"
   },
   {
    "duration": 130,
    "start_time": "2022-08-29T14:14:23.817Z"
   },
   {
    "duration": 4237,
    "start_time": "2022-08-29T14:14:23.948Z"
   },
   {
    "duration": 69402,
    "start_time": "2022-08-29T14:14:28.186Z"
   },
   {
    "duration": 1933,
    "start_time": "2022-08-29T14:15:37.590Z"
   },
   {
    "duration": 76,
    "start_time": "2022-08-29T14:15:39.524Z"
   },
   {
    "duration": 97,
    "start_time": "2022-08-29T14:15:39.602Z"
   },
   {
    "duration": 8,
    "start_time": "2022-08-29T14:15:39.703Z"
   },
   {
    "duration": 3,
    "start_time": "2022-08-29T14:15:39.713Z"
   },
   {
    "duration": 5685,
    "start_time": "2022-08-29T14:15:39.717Z"
   },
   {
    "duration": 95476,
    "start_time": "2022-08-29T14:15:45.404Z"
   },
   {
    "duration": 2716,
    "start_time": "2022-08-29T14:17:20.882Z"
   },
   {
    "duration": 6,
    "start_time": "2022-08-29T14:17:23.600Z"
   },
   {
    "duration": 1327,
    "start_time": "2022-08-29T14:28:51.906Z"
   },
   {
    "duration": 0,
    "start_time": "2022-08-29T14:28:53.236Z"
   },
   {
    "duration": 0,
    "start_time": "2022-08-29T14:28:53.237Z"
   },
   {
    "duration": 0,
    "start_time": "2022-08-29T14:28:53.238Z"
   },
   {
    "duration": 0,
    "start_time": "2022-08-29T14:28:53.239Z"
   },
   {
    "duration": 0,
    "start_time": "2022-08-29T14:28:53.239Z"
   },
   {
    "duration": 0,
    "start_time": "2022-08-29T14:28:53.240Z"
   },
   {
    "duration": 0,
    "start_time": "2022-08-29T14:28:53.241Z"
   },
   {
    "duration": 0,
    "start_time": "2022-08-29T14:28:53.242Z"
   },
   {
    "duration": 0,
    "start_time": "2022-08-29T14:28:53.243Z"
   },
   {
    "duration": 0,
    "start_time": "2022-08-29T14:28:53.244Z"
   },
   {
    "duration": 0,
    "start_time": "2022-08-29T14:28:53.245Z"
   },
   {
    "duration": 0,
    "start_time": "2022-08-29T14:28:53.246Z"
   },
   {
    "duration": 0,
    "start_time": "2022-08-29T14:28:53.247Z"
   },
   {
    "duration": 0,
    "start_time": "2022-08-29T14:28:53.247Z"
   },
   {
    "duration": 0,
    "start_time": "2022-08-29T14:28:53.248Z"
   },
   {
    "duration": 0,
    "start_time": "2022-08-29T14:28:53.249Z"
   },
   {
    "duration": 0,
    "start_time": "2022-08-29T14:28:53.250Z"
   },
   {
    "duration": 0,
    "start_time": "2022-08-29T14:28:53.251Z"
   },
   {
    "duration": 0,
    "start_time": "2022-08-29T14:28:53.252Z"
   },
   {
    "duration": 0,
    "start_time": "2022-08-29T14:28:53.253Z"
   },
   {
    "duration": 0,
    "start_time": "2022-08-29T14:28:53.254Z"
   },
   {
    "duration": 0,
    "start_time": "2022-08-29T14:28:53.255Z"
   },
   {
    "duration": 0,
    "start_time": "2022-08-29T14:28:53.255Z"
   },
   {
    "duration": 0,
    "start_time": "2022-08-29T14:28:53.256Z"
   },
   {
    "duration": 0,
    "start_time": "2022-08-29T14:28:53.257Z"
   },
   {
    "duration": 0,
    "start_time": "2022-08-29T14:28:53.258Z"
   },
   {
    "duration": 0,
    "start_time": "2022-08-29T14:28:53.259Z"
   },
   {
    "duration": 0,
    "start_time": "2022-08-29T14:28:53.260Z"
   },
   {
    "duration": 1,
    "start_time": "2022-08-29T14:28:53.260Z"
   },
   {
    "duration": 0,
    "start_time": "2022-08-29T14:28:53.261Z"
   },
   {
    "duration": 0,
    "start_time": "2022-08-29T14:28:53.262Z"
   },
   {
    "duration": 0,
    "start_time": "2022-08-29T14:28:53.263Z"
   },
   {
    "duration": 0,
    "start_time": "2022-08-29T14:28:53.264Z"
   },
   {
    "duration": 0,
    "start_time": "2022-08-29T14:28:53.264Z"
   },
   {
    "duration": 0,
    "start_time": "2022-08-29T14:28:53.265Z"
   },
   {
    "duration": 0,
    "start_time": "2022-08-29T14:28:53.266Z"
   },
   {
    "duration": 0,
    "start_time": "2022-08-29T14:28:53.267Z"
   },
   {
    "duration": 0,
    "start_time": "2022-08-29T14:28:53.268Z"
   },
   {
    "duration": 0,
    "start_time": "2022-08-29T14:28:53.269Z"
   },
   {
    "duration": 0,
    "start_time": "2022-08-29T14:28:53.299Z"
   },
   {
    "duration": 0,
    "start_time": "2022-08-29T14:28:53.300Z"
   },
   {
    "duration": 0,
    "start_time": "2022-08-29T14:28:53.301Z"
   },
   {
    "duration": 0,
    "start_time": "2022-08-29T14:28:53.302Z"
   },
   {
    "duration": 0,
    "start_time": "2022-08-29T14:28:53.302Z"
   },
   {
    "duration": 0,
    "start_time": "2022-08-29T14:28:53.303Z"
   },
   {
    "duration": 1298,
    "start_time": "2022-08-29T14:28:58.087Z"
   },
   {
    "duration": 52,
    "start_time": "2022-08-29T14:28:59.387Z"
   },
   {
    "duration": 13,
    "start_time": "2022-08-29T14:28:59.440Z"
   },
   {
    "duration": 12,
    "start_time": "2022-08-29T14:28:59.455Z"
   },
   {
    "duration": 16,
    "start_time": "2022-08-29T14:28:59.469Z"
   },
   {
    "duration": 12,
    "start_time": "2022-08-29T14:28:59.487Z"
   },
   {
    "duration": 7,
    "start_time": "2022-08-29T14:28:59.500Z"
   },
   {
    "duration": 5,
    "start_time": "2022-08-29T14:28:59.509Z"
   },
   {
    "duration": 11,
    "start_time": "2022-08-29T14:28:59.516Z"
   },
   {
    "duration": 14,
    "start_time": "2022-08-29T14:28:59.528Z"
   },
   {
    "duration": 5,
    "start_time": "2022-08-29T14:28:59.543Z"
   },
   {
    "duration": 13,
    "start_time": "2022-08-29T14:28:59.549Z"
   },
   {
    "duration": 40,
    "start_time": "2022-08-29T14:28:59.563Z"
   },
   {
    "duration": 120,
    "start_time": "2022-08-29T14:28:59.607Z"
   },
   {
    "duration": 14,
    "start_time": "2022-08-29T14:28:59.729Z"
   },
   {
    "duration": 167,
    "start_time": "2022-08-29T14:28:59.745Z"
   },
   {
    "duration": 27,
    "start_time": "2022-08-29T14:28:59.913Z"
   },
   {
    "duration": 117,
    "start_time": "2022-08-29T14:28:59.942Z"
   },
   {
    "duration": 194,
    "start_time": "2022-08-29T14:29:00.061Z"
   },
   {
    "duration": 26,
    "start_time": "2022-08-29T14:29:00.257Z"
   },
   {
    "duration": 172,
    "start_time": "2022-08-29T14:29:00.284Z"
   },
   {
    "duration": 142,
    "start_time": "2022-08-29T14:29:00.458Z"
   },
   {
    "duration": 110,
    "start_time": "2022-08-29T14:29:00.601Z"
   },
   {
    "duration": 158,
    "start_time": "2022-08-29T14:29:00.712Z"
   },
   {
    "duration": 14,
    "start_time": "2022-08-29T14:29:00.871Z"
   },
   {
    "duration": 42,
    "start_time": "2022-08-29T14:29:00.886Z"
   },
   {
    "duration": 29,
    "start_time": "2022-08-29T14:29:00.930Z"
   },
   {
    "duration": 96,
    "start_time": "2022-08-29T14:29:00.960Z"
   },
   {
    "duration": 13,
    "start_time": "2022-08-29T14:29:01.058Z"
   },
   {
    "duration": 5326,
    "start_time": "2022-08-29T14:29:01.073Z"
   },
   {
    "duration": 131738,
    "start_time": "2022-08-29T14:29:06.401Z"
   },
   {
    "duration": 2361,
    "start_time": "2022-08-29T14:31:18.141Z"
   },
   {
    "duration": 95,
    "start_time": "2022-08-29T14:31:20.504Z"
   },
   {
    "duration": 113,
    "start_time": "2022-08-29T14:31:20.600Z"
   },
   {
    "duration": 128,
    "start_time": "2022-08-29T14:31:20.714Z"
   },
   {
    "duration": 4219,
    "start_time": "2022-08-29T14:31:20.844Z"
   },
   {
    "duration": 68141,
    "start_time": "2022-08-29T14:31:25.064Z"
   },
   {
    "duration": 2492,
    "start_time": "2022-08-29T14:32:33.207Z"
   },
   {
    "duration": 6,
    "start_time": "2022-08-29T14:32:35.701Z"
   },
   {
    "duration": 11,
    "start_time": "2022-08-29T14:32:35.799Z"
   },
   {
    "duration": 17,
    "start_time": "2022-08-29T14:32:35.813Z"
   },
   {
    "duration": 3,
    "start_time": "2022-08-29T14:32:35.831Z"
   },
   {
    "duration": 5541,
    "start_time": "2022-08-29T14:32:35.835Z"
   },
   {
    "duration": 96835,
    "start_time": "2022-08-29T14:32:41.378Z"
   },
   {
    "duration": 2793,
    "start_time": "2022-08-29T14:34:18.214Z"
   },
   {
    "duration": 91,
    "start_time": "2022-08-29T14:34:21.008Z"
   },
   {
    "duration": 2817,
    "start_time": "2022-08-29T14:35:52.585Z"
   },
   {
    "duration": 2698,
    "start_time": "2022-08-29T14:37:33.409Z"
   },
   {
    "duration": 10,
    "start_time": "2022-08-29T14:40:43.717Z"
   },
   {
    "duration": 110,
    "start_time": "2022-08-29T14:41:12.549Z"
   },
   {
    "duration": 10,
    "start_time": "2022-08-29T14:41:45.187Z"
   },
   {
    "duration": 3,
    "start_time": "2022-08-29T14:41:45.525Z"
   },
   {
    "duration": 13,
    "start_time": "2022-08-29T14:43:11.228Z"
   },
   {
    "duration": 1981,
    "start_time": "2022-08-29T14:43:25.420Z"
   },
   {
    "duration": 12,
    "start_time": "2022-08-29T14:44:39.352Z"
   },
   {
    "duration": 52063,
    "start_time": "2022-08-29T14:44:50.175Z"
   },
   {
    "duration": 25482,
    "start_time": "2022-08-29T14:45:59.333Z"
   },
   {
    "duration": 38011,
    "start_time": "2022-08-29T14:46:41.898Z"
   },
   {
    "duration": 33324,
    "start_time": "2022-08-29T14:47:28.587Z"
   },
   {
    "duration": 38187,
    "start_time": "2022-08-29T14:48:32.279Z"
   },
   {
    "duration": 25401,
    "start_time": "2022-08-29T14:49:20.377Z"
   },
   {
    "duration": 33351,
    "start_time": "2022-08-29T14:49:49.843Z"
   },
   {
    "duration": 13,
    "start_time": "2022-08-29T14:50:41.917Z"
   },
   {
    "duration": 9,
    "start_time": "2022-08-29T14:50:56.853Z"
   },
   {
    "duration": 3,
    "start_time": "2022-08-29T14:51:00.091Z"
   },
   {
    "duration": 66637,
    "start_time": "2022-08-29T14:51:02.700Z"
   },
   {
    "duration": 102083,
    "start_time": "2022-08-29T14:52:26.362Z"
   },
   {
    "duration": 26025,
    "start_time": "2022-08-29T14:54:36.205Z"
   },
   {
    "duration": 36490,
    "start_time": "2022-08-29T14:55:17.097Z"
   },
   {
    "duration": 1853,
    "start_time": "2022-08-29T14:56:32.947Z"
   },
   {
    "duration": 1255,
    "start_time": "2022-08-29T14:57:24.616Z"
   },
   {
    "duration": 52,
    "start_time": "2022-08-29T14:57:25.873Z"
   },
   {
    "duration": 12,
    "start_time": "2022-08-29T14:57:25.927Z"
   },
   {
    "duration": 12,
    "start_time": "2022-08-29T14:57:25.940Z"
   },
   {
    "duration": 7,
    "start_time": "2022-08-29T14:57:25.955Z"
   },
   {
    "duration": 37,
    "start_time": "2022-08-29T14:57:25.964Z"
   },
   {
    "duration": 6,
    "start_time": "2022-08-29T14:57:26.003Z"
   },
   {
    "duration": 4,
    "start_time": "2022-08-29T14:57:26.010Z"
   },
   {
    "duration": 14,
    "start_time": "2022-08-29T14:57:26.016Z"
   },
   {
    "duration": 9,
    "start_time": "2022-08-29T14:57:26.032Z"
   },
   {
    "duration": 5,
    "start_time": "2022-08-29T14:57:26.042Z"
   },
   {
    "duration": 6,
    "start_time": "2022-08-29T14:57:26.049Z"
   },
   {
    "duration": 53,
    "start_time": "2022-08-29T14:57:26.057Z"
   },
   {
    "duration": 115,
    "start_time": "2022-08-29T14:57:26.113Z"
   },
   {
    "duration": 13,
    "start_time": "2022-08-29T14:57:26.230Z"
   },
   {
    "duration": 162,
    "start_time": "2022-08-29T14:57:26.245Z"
   },
   {
    "duration": 25,
    "start_time": "2022-08-29T14:57:26.409Z"
   },
   {
    "duration": 109,
    "start_time": "2022-08-29T14:57:26.436Z"
   },
   {
    "duration": 143,
    "start_time": "2022-08-29T14:57:26.547Z"
   },
   {
    "duration": 31,
    "start_time": "2022-08-29T14:57:26.691Z"
   },
   {
    "duration": 155,
    "start_time": "2022-08-29T14:57:26.723Z"
   },
   {
    "duration": 143,
    "start_time": "2022-08-29T14:57:26.879Z"
   },
   {
    "duration": 110,
    "start_time": "2022-08-29T14:57:27.023Z"
   },
   {
    "duration": 155,
    "start_time": "2022-08-29T14:57:27.134Z"
   },
   {
    "duration": 16,
    "start_time": "2022-08-29T14:57:27.290Z"
   },
   {
    "duration": 16,
    "start_time": "2022-08-29T14:57:27.307Z"
   },
   {
    "duration": 22,
    "start_time": "2022-08-29T14:57:27.324Z"
   },
   {
    "duration": 126,
    "start_time": "2022-08-29T14:57:27.347Z"
   },
   {
    "duration": 14,
    "start_time": "2022-08-29T14:57:27.475Z"
   },
   {
    "duration": 4265,
    "start_time": "2022-08-29T14:57:27.498Z"
   },
   {
    "duration": 132980,
    "start_time": "2022-08-29T14:57:31.764Z"
   },
   {
    "duration": 2457,
    "start_time": "2022-08-29T14:59:44.745Z"
   },
   {
    "duration": 7,
    "start_time": "2022-08-29T14:59:47.204Z"
   },
   {
    "duration": 195,
    "start_time": "2022-08-29T14:59:47.212Z"
   },
   {
    "duration": 125,
    "start_time": "2022-08-29T14:59:47.408Z"
   },
   {
    "duration": 4240,
    "start_time": "2022-08-29T14:59:47.535Z"
   },
   {
    "duration": 69551,
    "start_time": "2022-08-29T14:59:51.777Z"
   },
   {
    "duration": 2669,
    "start_time": "2022-08-29T15:01:01.330Z"
   },
   {
    "duration": 11,
    "start_time": "2022-08-29T15:01:04.001Z"
   },
   {
    "duration": 8,
    "start_time": "2022-08-29T15:01:04.098Z"
   },
   {
    "duration": 14,
    "start_time": "2022-08-29T15:01:04.111Z"
   },
   {
    "duration": 10,
    "start_time": "2022-08-29T15:01:04.127Z"
   },
   {
    "duration": 5753,
    "start_time": "2022-08-29T15:01:04.139Z"
   },
   {
    "duration": 102496,
    "start_time": "2022-08-29T15:01:09.899Z"
   },
   {
    "duration": 3007,
    "start_time": "2022-08-29T15:02:52.398Z"
   },
   {
    "duration": 95,
    "start_time": "2022-08-29T15:02:55.406Z"
   },
   {
    "duration": 13,
    "start_time": "2022-08-29T15:02:55.502Z"
   },
   {
    "duration": 8,
    "start_time": "2022-08-29T15:02:55.516Z"
   },
   {
    "duration": 2050,
    "start_time": "2022-08-29T15:02:55.525Z"
   },
   {
    "duration": 33259,
    "start_time": "2022-08-29T15:02:57.577Z"
   },
   {
    "duration": 1963,
    "start_time": "2022-08-29T15:03:30.837Z"
   },
   {
    "duration": 7,
    "start_time": "2022-08-29T15:12:27.118Z"
   },
   {
    "duration": 7,
    "start_time": "2022-08-29T15:12:47.141Z"
   },
   {
    "duration": 7,
    "start_time": "2022-08-29T15:12:55.870Z"
   },
   {
    "duration": 7,
    "start_time": "2022-08-29T15:13:07.095Z"
   },
   {
    "duration": 4394,
    "start_time": "2022-08-29T15:13:13.781Z"
   },
   {
    "duration": 136904,
    "start_time": "2022-08-29T15:13:20.229Z"
   },
   {
    "duration": 2367,
    "start_time": "2022-08-29T15:15:37.135Z"
   },
   {
    "duration": 4,
    "start_time": "2022-08-29T15:16:34.671Z"
   },
   {
    "duration": 60,
    "start_time": "2022-08-29T15:16:36.968Z"
   },
   {
    "duration": 5,
    "start_time": "2022-08-29T15:17:52.669Z"
   },
   {
    "duration": 27,
    "start_time": "2022-08-29T15:18:08.479Z"
   },
   {
    "duration": 66,
    "start_time": "2022-08-29T15:18:10.721Z"
   },
   {
    "duration": 8,
    "start_time": "2022-08-29T15:18:11.300Z"
   },
   {
    "duration": 7,
    "start_time": "2022-08-29T15:19:54.261Z"
   },
   {
    "duration": 55,
    "start_time": "2022-08-29T15:19:54.751Z"
   },
   {
    "duration": 58,
    "start_time": "2022-08-29T15:19:55.295Z"
   },
   {
    "duration": 9,
    "start_time": "2022-08-29T15:19:55.783Z"
   },
   {
    "duration": 27,
    "start_time": "2022-08-29T15:19:56.209Z"
   },
   {
    "duration": 9,
    "start_time": "2022-08-29T15:20:33.130Z"
   },
   {
    "duration": 108,
    "start_time": "2022-08-29T15:21:57.071Z"
   },
   {
    "duration": 115,
    "start_time": "2022-08-29T15:22:07.840Z"
   },
   {
    "duration": 116,
    "start_time": "2022-08-29T15:22:41.261Z"
   },
   {
    "duration": 57,
    "start_time": "2022-08-29T15:23:17.487Z"
   },
   {
    "duration": 5,
    "start_time": "2022-08-29T15:23:36.905Z"
   },
   {
    "duration": 55,
    "start_time": "2022-08-29T15:23:37.641Z"
   },
   {
    "duration": 23,
    "start_time": "2022-08-29T15:24:24.408Z"
   },
   {
    "duration": 54,
    "start_time": "2022-08-29T15:24:24.755Z"
   },
   {
    "duration": 1375,
    "start_time": "2022-08-29T15:24:46.902Z"
   },
   {
    "duration": 53,
    "start_time": "2022-08-29T15:24:48.279Z"
   },
   {
    "duration": 13,
    "start_time": "2022-08-29T15:24:48.333Z"
   },
   {
    "duration": 12,
    "start_time": "2022-08-29T15:24:48.347Z"
   },
   {
    "duration": 6,
    "start_time": "2022-08-29T15:24:48.360Z"
   },
   {
    "duration": 12,
    "start_time": "2022-08-29T15:24:48.367Z"
   },
   {
    "duration": 24,
    "start_time": "2022-08-29T15:24:48.380Z"
   },
   {
    "duration": 5,
    "start_time": "2022-08-29T15:24:48.405Z"
   },
   {
    "duration": 11,
    "start_time": "2022-08-29T15:24:48.411Z"
   },
   {
    "duration": 10,
    "start_time": "2022-08-29T15:24:48.424Z"
   },
   {
    "duration": 6,
    "start_time": "2022-08-29T15:24:48.435Z"
   },
   {
    "duration": 6,
    "start_time": "2022-08-29T15:24:48.442Z"
   },
   {
    "duration": 54,
    "start_time": "2022-08-29T15:24:48.449Z"
   },
   {
    "duration": 108,
    "start_time": "2022-08-29T15:24:48.506Z"
   },
   {
    "duration": 14,
    "start_time": "2022-08-29T15:24:48.615Z"
   },
   {
    "duration": 162,
    "start_time": "2022-08-29T15:24:48.630Z"
   },
   {
    "duration": 29,
    "start_time": "2022-08-29T15:24:48.794Z"
   },
   {
    "duration": 113,
    "start_time": "2022-08-29T15:24:48.824Z"
   },
   {
    "duration": 151,
    "start_time": "2022-08-29T15:24:48.939Z"
   },
   {
    "duration": 32,
    "start_time": "2022-08-29T15:24:49.091Z"
   },
   {
    "duration": 162,
    "start_time": "2022-08-29T15:24:49.125Z"
   },
   {
    "duration": 138,
    "start_time": "2022-08-29T15:24:49.289Z"
   },
   {
    "duration": 115,
    "start_time": "2022-08-29T15:24:49.429Z"
   },
   {
    "duration": 146,
    "start_time": "2022-08-29T15:24:49.546Z"
   },
   {
    "duration": 22,
    "start_time": "2022-08-29T15:24:49.694Z"
   },
   {
    "duration": 16,
    "start_time": "2022-08-29T15:24:49.717Z"
   },
   {
    "duration": 23,
    "start_time": "2022-08-29T15:24:49.735Z"
   },
   {
    "duration": 124,
    "start_time": "2022-08-29T15:24:49.759Z"
   },
   {
    "duration": 23,
    "start_time": "2022-08-29T15:24:49.885Z"
   },
   {
    "duration": 4276,
    "start_time": "2022-08-29T15:24:49.909Z"
   },
   {
    "duration": 131624,
    "start_time": "2022-08-29T15:24:54.186Z"
   },
   {
    "duration": 2119,
    "start_time": "2022-08-29T15:27:05.812Z"
   },
   {
    "duration": 5,
    "start_time": "2022-08-29T15:27:07.999Z"
   },
   {
    "duration": 222,
    "start_time": "2022-08-29T15:27:08.006Z"
   },
   {
    "duration": 122,
    "start_time": "2022-08-29T15:27:08.229Z"
   },
   {
    "duration": 4218,
    "start_time": "2022-08-29T15:27:08.353Z"
   },
   {
    "duration": 70094,
    "start_time": "2022-08-29T15:27:12.573Z"
   },
   {
    "duration": 2733,
    "start_time": "2022-08-29T15:28:22.668Z"
   },
   {
    "duration": 95,
    "start_time": "2022-08-29T15:28:25.404Z"
   },
   {
    "duration": 6,
    "start_time": "2022-08-29T15:28:25.501Z"
   },
   {
    "duration": 9,
    "start_time": "2022-08-29T15:28:25.510Z"
   },
   {
    "duration": 3,
    "start_time": "2022-08-29T15:28:25.521Z"
   },
   {
    "duration": 5525,
    "start_time": "2022-08-29T15:28:25.526Z"
   },
   {
    "duration": 103308,
    "start_time": "2022-08-29T15:28:31.052Z"
   },
   {
    "duration": 3138,
    "start_time": "2022-08-29T15:30:14.361Z"
   },
   {
    "duration": 5,
    "start_time": "2022-08-29T15:30:17.501Z"
   },
   {
    "duration": 98,
    "start_time": "2022-08-29T15:30:17.507Z"
   },
   {
    "duration": 3,
    "start_time": "2022-08-29T15:30:17.606Z"
   },
   {
    "duration": 2060,
    "start_time": "2022-08-29T15:30:17.611Z"
   },
   {
    "duration": 33552,
    "start_time": "2022-08-29T15:30:19.672Z"
   },
   {
    "duration": 3577,
    "start_time": "2022-08-29T15:30:53.225Z"
   },
   {
    "duration": 95,
    "start_time": "2022-08-29T15:30:56.804Z"
   },
   {
    "duration": 62,
    "start_time": "2022-08-29T15:30:56.901Z"
   },
   {
    "duration": 71,
    "start_time": "2022-08-29T15:30:56.965Z"
   },
   {
    "duration": 68,
    "start_time": "2022-08-29T15:30:57.038Z"
   },
   {
    "duration": 25,
    "start_time": "2022-08-29T15:30:57.108Z"
   },
   {
    "duration": 128,
    "start_time": "2022-08-29T15:32:34.582Z"
   },
   {
    "duration": 8,
    "start_time": "2022-08-29T15:32:35.014Z"
   },
   {
    "duration": 20,
    "start_time": "2022-08-29T15:33:34.219Z"
   },
   {
    "duration": 20,
    "start_time": "2022-08-29T15:33:46.870Z"
   },
   {
    "duration": 6,
    "start_time": "2022-08-29T15:33:59.485Z"
   },
   {
    "duration": 56,
    "start_time": "2022-08-29T15:34:02.268Z"
   },
   {
    "duration": 11,
    "start_time": "2022-08-29T15:34:26.125Z"
   },
   {
    "duration": 58,
    "start_time": "2022-08-29T15:34:37.507Z"
   },
   {
    "duration": 108,
    "start_time": "2022-08-29T15:36:16.806Z"
   },
   {
    "duration": 1453,
    "start_time": "2022-08-30T06:07:13.768Z"
   },
   {
    "duration": 390,
    "start_time": "2022-08-30T06:07:15.223Z"
   },
   {
    "duration": 13,
    "start_time": "2022-08-30T06:07:15.615Z"
   },
   {
    "duration": 13,
    "start_time": "2022-08-30T06:07:15.630Z"
   },
   {
    "duration": 7,
    "start_time": "2022-08-30T06:07:15.644Z"
   },
   {
    "duration": 11,
    "start_time": "2022-08-30T06:07:15.652Z"
   },
   {
    "duration": 7,
    "start_time": "2022-08-30T06:07:15.664Z"
   },
   {
    "duration": 5,
    "start_time": "2022-08-30T06:07:15.672Z"
   },
   {
    "duration": 11,
    "start_time": "2022-08-30T06:07:15.679Z"
   },
   {
    "duration": 11,
    "start_time": "2022-08-30T06:07:15.692Z"
   },
   {
    "duration": 6,
    "start_time": "2022-08-30T06:07:15.705Z"
   },
   {
    "duration": 7,
    "start_time": "2022-08-30T06:07:15.713Z"
   },
   {
    "duration": 50,
    "start_time": "2022-08-30T06:07:15.721Z"
   },
   {
    "duration": 120,
    "start_time": "2022-08-30T06:07:15.775Z"
   },
   {
    "duration": 14,
    "start_time": "2022-08-30T06:07:15.897Z"
   },
   {
    "duration": 188,
    "start_time": "2022-08-30T06:07:15.912Z"
   },
   {
    "duration": 33,
    "start_time": "2022-08-30T06:07:16.101Z"
   },
   {
    "duration": 113,
    "start_time": "2022-08-30T06:07:16.136Z"
   },
   {
    "duration": 165,
    "start_time": "2022-08-30T06:07:16.251Z"
   },
   {
    "duration": 30,
    "start_time": "2022-08-30T06:07:16.418Z"
   },
   {
    "duration": 221,
    "start_time": "2022-08-30T06:07:16.449Z"
   },
   {
    "duration": 172,
    "start_time": "2022-08-30T06:07:16.672Z"
   },
   {
    "duration": 113,
    "start_time": "2022-08-30T06:07:16.846Z"
   },
   {
    "duration": 164,
    "start_time": "2022-08-30T06:07:16.960Z"
   },
   {
    "duration": 16,
    "start_time": "2022-08-30T06:07:17.125Z"
   },
   {
    "duration": 29,
    "start_time": "2022-08-30T06:07:17.142Z"
   },
   {
    "duration": 23,
    "start_time": "2022-08-30T06:07:17.172Z"
   },
   {
    "duration": 119,
    "start_time": "2022-08-30T06:07:17.196Z"
   },
   {
    "duration": 14,
    "start_time": "2022-08-30T06:07:17.317Z"
   },
   {
    "duration": 4061,
    "start_time": "2022-08-30T06:07:17.332Z"
   },
   {
    "duration": 126142,
    "start_time": "2022-08-30T06:07:21.394Z"
   },
   {
    "duration": 2631,
    "start_time": "2022-08-30T06:09:27.538Z"
   },
   {
    "duration": 98,
    "start_time": "2022-08-30T06:09:30.171Z"
   },
   {
    "duration": 136,
    "start_time": "2022-08-30T06:09:30.271Z"
   },
   {
    "duration": 143,
    "start_time": "2022-08-30T06:09:30.409Z"
   },
   {
    "duration": 4741,
    "start_time": "2022-08-30T06:09:30.554Z"
   },
   {
    "duration": 66229,
    "start_time": "2022-08-30T06:09:35.296Z"
   },
   {
    "duration": 2641,
    "start_time": "2022-08-30T06:10:41.528Z"
   },
   {
    "duration": 6,
    "start_time": "2022-08-30T06:10:44.170Z"
   },
   {
    "duration": 5,
    "start_time": "2022-08-30T06:10:44.268Z"
   },
   {
    "duration": 10,
    "start_time": "2022-08-30T06:10:44.277Z"
   },
   {
    "duration": 3,
    "start_time": "2022-08-30T06:10:44.288Z"
   },
   {
    "duration": 5095,
    "start_time": "2022-08-30T06:10:44.293Z"
   },
   {
    "duration": 95872,
    "start_time": "2022-08-30T06:10:49.389Z"
   },
   {
    "duration": 3907,
    "start_time": "2022-08-30T06:12:25.268Z"
   },
   {
    "duration": 92,
    "start_time": "2022-08-30T06:12:29.177Z"
   },
   {
    "duration": 14,
    "start_time": "2022-08-30T06:12:29.271Z"
   },
   {
    "duration": 3,
    "start_time": "2022-08-30T06:12:29.286Z"
   },
   {
    "duration": 2094,
    "start_time": "2022-08-30T06:12:29.291Z"
   },
   {
    "duration": 33161,
    "start_time": "2022-08-30T06:12:31.387Z"
   },
   {
    "duration": 1826,
    "start_time": "2022-08-30T06:13:04.550Z"
   },
   {
    "duration": 93,
    "start_time": "2022-08-30T06:13:06.378Z"
   },
   {
    "duration": 152,
    "start_time": "2022-08-30T06:13:06.475Z"
   },
   {
    "duration": 96,
    "start_time": "2022-08-30T06:13:06.629Z"
   },
   {
    "duration": 89,
    "start_time": "2022-08-30T06:13:06.727Z"
   },
   {
    "duration": 51,
    "start_time": "2022-08-30T06:13:06.818Z"
   },
   {
    "duration": 157,
    "start_time": "2022-08-30T06:13:06.871Z"
   },
   {
    "duration": 55,
    "start_time": "2022-08-30T07:33:36.797Z"
   },
   {
    "duration": 38,
    "start_time": "2022-08-30T07:34:01.551Z"
   },
   {
    "duration": 6,
    "start_time": "2022-08-30T07:34:12.058Z"
   },
   {
    "duration": 64,
    "start_time": "2022-08-30T07:34:25.038Z"
   },
   {
    "duration": 99,
    "start_time": "2022-08-30T07:34:41.942Z"
   },
   {
    "duration": 31,
    "start_time": "2022-08-30T07:34:54.027Z"
   },
   {
    "duration": 61,
    "start_time": "2022-08-30T07:35:09.433Z"
   },
   {
    "duration": 4,
    "start_time": "2022-08-30T07:35:33.658Z"
   },
   {
    "duration": 1296,
    "start_time": "2022-08-30T07:37:32.394Z"
   },
   {
    "duration": 51,
    "start_time": "2022-08-30T07:37:33.692Z"
   },
   {
    "duration": 15,
    "start_time": "2022-08-30T07:37:33.744Z"
   },
   {
    "duration": 12,
    "start_time": "2022-08-30T07:37:33.760Z"
   },
   {
    "duration": 6,
    "start_time": "2022-08-30T07:37:33.774Z"
   },
   {
    "duration": 12,
    "start_time": "2022-08-30T07:37:33.781Z"
   },
   {
    "duration": 9,
    "start_time": "2022-08-30T07:37:33.794Z"
   },
   {
    "duration": 11,
    "start_time": "2022-08-30T07:37:33.805Z"
   },
   {
    "duration": 18,
    "start_time": "2022-08-30T07:37:33.817Z"
   },
   {
    "duration": 10,
    "start_time": "2022-08-30T07:37:33.837Z"
   },
   {
    "duration": 7,
    "start_time": "2022-08-30T07:37:33.868Z"
   },
   {
    "duration": 8,
    "start_time": "2022-08-30T07:37:33.876Z"
   },
   {
    "duration": 23,
    "start_time": "2022-08-30T07:37:33.885Z"
   },
   {
    "duration": 126,
    "start_time": "2022-08-30T07:37:33.911Z"
   },
   {
    "duration": 14,
    "start_time": "2022-08-30T07:37:34.038Z"
   },
   {
    "duration": 179,
    "start_time": "2022-08-30T07:37:34.068Z"
   },
   {
    "duration": 34,
    "start_time": "2022-08-30T07:37:34.249Z"
   },
   {
    "duration": 108,
    "start_time": "2022-08-30T07:37:34.284Z"
   },
   {
    "duration": 159,
    "start_time": "2022-08-30T07:37:34.394Z"
   },
   {
    "duration": 39,
    "start_time": "2022-08-30T07:37:34.554Z"
   },
   {
    "duration": 175,
    "start_time": "2022-08-30T07:37:34.595Z"
   },
   {
    "duration": 150,
    "start_time": "2022-08-30T07:37:34.772Z"
   },
   {
    "duration": 120,
    "start_time": "2022-08-30T07:37:34.923Z"
   },
   {
    "duration": 182,
    "start_time": "2022-08-30T07:37:35.045Z"
   },
   {
    "duration": 16,
    "start_time": "2022-08-30T07:37:35.228Z"
   },
   {
    "duration": 28,
    "start_time": "2022-08-30T07:37:35.245Z"
   },
   {
    "duration": 23,
    "start_time": "2022-08-30T07:37:35.275Z"
   },
   {
    "duration": 121,
    "start_time": "2022-08-30T07:37:35.299Z"
   },
   {
    "duration": 15,
    "start_time": "2022-08-30T07:37:35.422Z"
   },
   {
    "duration": 4064,
    "start_time": "2022-08-30T07:37:35.439Z"
   },
   {
    "duration": 2,
    "start_time": "2022-08-30T07:37:39.505Z"
   },
   {
    "duration": 128016,
    "start_time": "2022-08-30T07:37:39.509Z"
   },
   {
    "duration": 2,
    "start_time": "2022-08-30T07:39:47.526Z"
   },
   {
    "duration": 2943,
    "start_time": "2022-08-30T07:39:47.530Z"
   },
   {
    "duration": 2,
    "start_time": "2022-08-30T07:39:50.475Z"
   },
   {
    "duration": 142,
    "start_time": "2022-08-30T07:39:50.569Z"
   },
   {
    "duration": 0,
    "start_time": "2022-08-30T07:39:50.713Z"
   },
   {
    "duration": 0,
    "start_time": "2022-08-30T07:39:50.714Z"
   },
   {
    "duration": 0,
    "start_time": "2022-08-30T07:39:50.715Z"
   },
   {
    "duration": 0,
    "start_time": "2022-08-30T07:39:50.716Z"
   },
   {
    "duration": 0,
    "start_time": "2022-08-30T07:39:50.718Z"
   },
   {
    "duration": 0,
    "start_time": "2022-08-30T07:39:50.719Z"
   },
   {
    "duration": 0,
    "start_time": "2022-08-30T07:39:50.719Z"
   },
   {
    "duration": 0,
    "start_time": "2022-08-30T07:39:50.720Z"
   },
   {
    "duration": 0,
    "start_time": "2022-08-30T07:39:50.721Z"
   },
   {
    "duration": 0,
    "start_time": "2022-08-30T07:39:50.722Z"
   },
   {
    "duration": 0,
    "start_time": "2022-08-30T07:39:50.723Z"
   },
   {
    "duration": 0,
    "start_time": "2022-08-30T07:39:50.724Z"
   },
   {
    "duration": 0,
    "start_time": "2022-08-30T07:39:50.725Z"
   },
   {
    "duration": 0,
    "start_time": "2022-08-30T07:39:50.726Z"
   },
   {
    "duration": 0,
    "start_time": "2022-08-30T07:39:50.726Z"
   },
   {
    "duration": 0,
    "start_time": "2022-08-30T07:39:50.727Z"
   },
   {
    "duration": 0,
    "start_time": "2022-08-30T07:39:50.728Z"
   },
   {
    "duration": 0,
    "start_time": "2022-08-30T07:39:50.729Z"
   },
   {
    "duration": 0,
    "start_time": "2022-08-30T07:39:50.730Z"
   },
   {
    "duration": 0,
    "start_time": "2022-08-30T07:39:50.731Z"
   },
   {
    "duration": 1,
    "start_time": "2022-08-30T07:39:50.731Z"
   },
   {
    "duration": 0,
    "start_time": "2022-08-30T07:39:50.768Z"
   },
   {
    "duration": 0,
    "start_time": "2022-08-30T07:39:50.769Z"
   },
   {
    "duration": 0,
    "start_time": "2022-08-30T07:39:50.770Z"
   },
   {
    "duration": 0,
    "start_time": "2022-08-30T07:39:50.771Z"
   },
   {
    "duration": 0,
    "start_time": "2022-08-30T07:39:50.772Z"
   },
   {
    "duration": 0,
    "start_time": "2022-08-30T07:39:50.773Z"
   },
   {
    "duration": 0,
    "start_time": "2022-08-30T07:39:50.774Z"
   },
   {
    "duration": 0,
    "start_time": "2022-08-30T07:39:50.775Z"
   },
   {
    "duration": 0,
    "start_time": "2022-08-30T07:39:50.776Z"
   },
   {
    "duration": 0,
    "start_time": "2022-08-30T07:39:50.777Z"
   },
   {
    "duration": 0,
    "start_time": "2022-08-30T07:39:50.778Z"
   },
   {
    "duration": 0,
    "start_time": "2022-08-30T07:39:50.779Z"
   },
   {
    "duration": 0,
    "start_time": "2022-08-30T07:39:50.780Z"
   },
   {
    "duration": 4,
    "start_time": "2022-08-30T07:40:08.801Z"
   },
   {
    "duration": 5,
    "start_time": "2022-08-30T07:40:13.041Z"
   },
   {
    "duration": 1375,
    "start_time": "2022-08-30T07:40:44.615Z"
   },
   {
    "duration": 53,
    "start_time": "2022-08-30T07:40:45.992Z"
   },
   {
    "duration": 14,
    "start_time": "2022-08-30T07:40:46.046Z"
   },
   {
    "duration": 12,
    "start_time": "2022-08-30T07:40:46.061Z"
   },
   {
    "duration": 6,
    "start_time": "2022-08-30T07:40:46.075Z"
   },
   {
    "duration": 15,
    "start_time": "2022-08-30T07:40:46.082Z"
   },
   {
    "duration": 6,
    "start_time": "2022-08-30T07:40:46.099Z"
   },
   {
    "duration": 5,
    "start_time": "2022-08-30T07:40:46.106Z"
   },
   {
    "duration": 13,
    "start_time": "2022-08-30T07:40:46.113Z"
   },
   {
    "duration": 9,
    "start_time": "2022-08-30T07:40:46.128Z"
   },
   {
    "duration": 32,
    "start_time": "2022-08-30T07:40:46.139Z"
   },
   {
    "duration": 11,
    "start_time": "2022-08-30T07:40:46.173Z"
   },
   {
    "duration": 24,
    "start_time": "2022-08-30T07:40:46.186Z"
   },
   {
    "duration": 128,
    "start_time": "2022-08-30T07:40:46.214Z"
   },
   {
    "duration": 15,
    "start_time": "2022-08-30T07:40:46.343Z"
   },
   {
    "duration": 201,
    "start_time": "2022-08-30T07:40:46.359Z"
   },
   {
    "duration": 46,
    "start_time": "2022-08-30T07:40:46.562Z"
   },
   {
    "duration": 159,
    "start_time": "2022-08-30T07:40:46.610Z"
   },
   {
    "duration": 165,
    "start_time": "2022-08-30T07:40:46.771Z"
   },
   {
    "duration": 43,
    "start_time": "2022-08-30T07:40:46.938Z"
   },
   {
    "duration": 191,
    "start_time": "2022-08-30T07:40:46.983Z"
   },
   {
    "duration": 155,
    "start_time": "2022-08-30T07:40:47.175Z"
   },
   {
    "duration": 120,
    "start_time": "2022-08-30T07:40:47.331Z"
   },
   {
    "duration": 179,
    "start_time": "2022-08-30T07:40:47.452Z"
   },
   {
    "duration": 16,
    "start_time": "2022-08-30T07:40:47.632Z"
   },
   {
    "duration": 32,
    "start_time": "2022-08-30T07:40:47.649Z"
   },
   {
    "duration": 25,
    "start_time": "2022-08-30T07:40:47.682Z"
   },
   {
    "duration": 128,
    "start_time": "2022-08-30T07:40:47.708Z"
   },
   {
    "duration": 15,
    "start_time": "2022-08-30T07:40:47.838Z"
   },
   {
    "duration": 4750,
    "start_time": "2022-08-30T07:40:47.867Z"
   },
   {
    "duration": 3,
    "start_time": "2022-08-30T07:40:52.618Z"
   },
   {
    "duration": 124951,
    "start_time": "2022-08-30T07:40:52.622Z"
   },
   {
    "duration": 3,
    "start_time": "2022-08-30T07:42:57.575Z"
   },
   {
    "duration": 2688,
    "start_time": "2022-08-30T07:42:57.580Z"
   },
   {
    "duration": 3,
    "start_time": "2022-08-30T07:43:00.270Z"
   },
   {
    "duration": 103,
    "start_time": "2022-08-30T07:43:00.275Z"
   },
   {
    "duration": 9,
    "start_time": "2022-08-30T07:43:00.379Z"
   },
   {
    "duration": 142,
    "start_time": "2022-08-30T07:43:00.389Z"
   },
   {
    "duration": 152,
    "start_time": "2022-08-30T07:43:00.532Z"
   },
   {
    "duration": 4007,
    "start_time": "2022-08-30T07:43:00.686Z"
   },
   {
    "duration": 8,
    "start_time": "2022-08-30T07:43:04.697Z"
   },
   {
    "duration": 67239,
    "start_time": "2022-08-30T07:43:04.707Z"
   },
   {
    "duration": 3,
    "start_time": "2022-08-30T07:44:11.948Z"
   },
   {
    "duration": 2501,
    "start_time": "2022-08-30T07:44:11.968Z"
   },
   {
    "duration": 94,
    "start_time": "2022-08-30T07:44:14.473Z"
   },
   {
    "duration": 7,
    "start_time": "2022-08-30T07:44:14.570Z"
   },
   {
    "duration": 9,
    "start_time": "2022-08-30T07:44:14.579Z"
   },
   {
    "duration": 12,
    "start_time": "2022-08-30T07:44:14.589Z"
   },
   {
    "duration": 3,
    "start_time": "2022-08-30T07:44:14.603Z"
   },
   {
    "duration": 5404,
    "start_time": "2022-08-30T07:44:14.608Z"
   },
   {
    "duration": 3,
    "start_time": "2022-08-30T07:44:20.013Z"
   },
   {
    "duration": 97222,
    "start_time": "2022-08-30T07:44:20.018Z"
   },
   {
    "duration": 3,
    "start_time": "2022-08-30T07:45:57.241Z"
   },
   {
    "duration": 3225,
    "start_time": "2022-08-30T07:45:57.246Z"
   },
   {
    "duration": 94,
    "start_time": "2022-08-30T07:46:00.473Z"
   },
   {
    "duration": 19,
    "start_time": "2022-08-30T07:46:00.569Z"
   },
   {
    "duration": 32,
    "start_time": "2022-08-30T07:46:00.591Z"
   },
   {
    "duration": 46,
    "start_time": "2022-08-30T07:46:00.625Z"
   },
   {
    "duration": 2202,
    "start_time": "2022-08-30T07:46:00.673Z"
   },
   {
    "duration": 3,
    "start_time": "2022-08-30T07:46:02.877Z"
   },
   {
    "duration": 33178,
    "start_time": "2022-08-30T07:46:02.882Z"
   },
   {
    "duration": 2,
    "start_time": "2022-08-30T07:46:36.067Z"
   },
   {
    "duration": 2099,
    "start_time": "2022-08-30T07:46:36.071Z"
   },
   {
    "duration": 5,
    "start_time": "2022-08-30T07:46:38.172Z"
   },
   {
    "duration": 6,
    "start_time": "2022-08-30T07:46:38.268Z"
   },
   {
    "duration": 57,
    "start_time": "2022-08-30T07:46:38.275Z"
   },
   {
    "duration": 68,
    "start_time": "2022-08-30T07:46:38.333Z"
   },
   {
    "duration": 66,
    "start_time": "2022-08-30T07:46:38.403Z"
   },
   {
    "duration": 27,
    "start_time": "2022-08-30T07:46:38.470Z"
   },
   {
    "duration": 146,
    "start_time": "2022-08-30T07:46:38.499Z"
   },
   {
    "duration": 68,
    "start_time": "2022-08-30T07:48:01.257Z"
   },
   {
    "duration": 73,
    "start_time": "2022-08-30T07:48:32.479Z"
   },
   {
    "duration": 77,
    "start_time": "2022-08-30T07:49:47.852Z"
   },
   {
    "duration": 63,
    "start_time": "2022-08-30T07:50:00.544Z"
   },
   {
    "duration": 59,
    "start_time": "2022-08-30T07:51:13.424Z"
   },
   {
    "duration": 62,
    "start_time": "2022-08-30T07:51:57.491Z"
   },
   {
    "duration": 58,
    "start_time": "2022-08-30T07:52:13.262Z"
   },
   {
    "duration": 60,
    "start_time": "2022-08-30T07:53:11.187Z"
   },
   {
    "duration": 100,
    "start_time": "2022-08-30T07:53:29.799Z"
   },
   {
    "duration": 59,
    "start_time": "2022-08-30T07:53:38.452Z"
   },
   {
    "duration": 59,
    "start_time": "2022-08-30T07:53:48.302Z"
   },
   {
    "duration": 29,
    "start_time": "2022-08-30T07:54:26.072Z"
   },
   {
    "duration": 179,
    "start_time": "2022-08-30T07:58:23.102Z"
   },
   {
    "duration": 11,
    "start_time": "2022-08-30T07:58:29.098Z"
   },
   {
    "duration": 13,
    "start_time": "2022-08-30T07:58:40.131Z"
   },
   {
    "duration": 183,
    "start_time": "2022-08-30T07:58:43.567Z"
   },
   {
    "duration": 177,
    "start_time": "2022-08-30T08:00:19.730Z"
   },
   {
    "duration": 114,
    "start_time": "2022-08-30T08:00:37.410Z"
   },
   {
    "duration": 113,
    "start_time": "2022-08-30T08:10:40.178Z"
   },
   {
    "duration": 122,
    "start_time": "2022-08-30T08:11:11.508Z"
   },
   {
    "duration": 61,
    "start_time": "2022-08-30T08:11:41.178Z"
   },
   {
    "duration": 61,
    "start_time": "2022-08-30T08:11:48.092Z"
   },
   {
    "duration": 30,
    "start_time": "2022-08-30T08:11:55.178Z"
   },
   {
    "duration": 111,
    "start_time": "2022-08-30T08:12:15.108Z"
   },
   {
    "duration": 193,
    "start_time": "2022-08-30T08:12:40.549Z"
   },
   {
    "duration": 186,
    "start_time": "2022-08-30T08:13:42.969Z"
   },
   {
    "duration": 176,
    "start_time": "2022-08-30T08:14:28.758Z"
   },
   {
    "duration": 170,
    "start_time": "2022-08-30T08:14:50.047Z"
   },
   {
    "duration": 178,
    "start_time": "2022-08-30T08:15:09.818Z"
   },
   {
    "duration": 194,
    "start_time": "2022-08-30T08:15:18.909Z"
   },
   {
    "duration": 71,
    "start_time": "2022-08-30T08:16:53.588Z"
   },
   {
    "duration": 63,
    "start_time": "2022-08-30T08:17:05.586Z"
   },
   {
    "duration": 62,
    "start_time": "2022-08-30T08:17:11.413Z"
   },
   {
    "duration": 29,
    "start_time": "2022-08-30T08:17:16.167Z"
   },
   {
    "duration": 199,
    "start_time": "2022-08-30T08:17:23.036Z"
   },
   {
    "duration": 199,
    "start_time": "2022-08-30T08:31:49.588Z"
   },
   {
    "duration": 140,
    "start_time": "2022-08-30T08:43:07.653Z"
   },
   {
    "duration": 108,
    "start_time": "2022-08-30T08:43:16.750Z"
   },
   {
    "duration": 145,
    "start_time": "2022-08-30T08:43:21.376Z"
   },
   {
    "duration": 141,
    "start_time": "2022-08-30T08:44:05.929Z"
   },
   {
    "duration": 98,
    "start_time": "2022-08-30T08:48:39.589Z"
   },
   {
    "duration": 97,
    "start_time": "2022-08-30T08:48:47.005Z"
   },
   {
    "duration": 111,
    "start_time": "2022-08-30T08:49:31.533Z"
   },
   {
    "duration": 107,
    "start_time": "2022-08-30T08:50:00.309Z"
   },
   {
    "duration": 117,
    "start_time": "2022-08-30T08:50:09.652Z"
   },
   {
    "duration": 109,
    "start_time": "2022-08-30T08:50:19.301Z"
   },
   {
    "duration": 115,
    "start_time": "2022-08-30T08:50:31.897Z"
   },
   {
    "duration": 113,
    "start_time": "2022-08-30T08:50:52.397Z"
   },
   {
    "duration": 111,
    "start_time": "2022-08-30T08:50:58.304Z"
   },
   {
    "duration": 124,
    "start_time": "2022-08-30T08:51:25.038Z"
   },
   {
    "duration": 138,
    "start_time": "2022-08-30T08:51:32.132Z"
   },
   {
    "duration": 159,
    "start_time": "2022-08-30T08:51:58.228Z"
   },
   {
    "duration": 128,
    "start_time": "2022-08-30T08:52:30.805Z"
   },
   {
    "duration": 145,
    "start_time": "2022-08-30T08:52:34.437Z"
   },
   {
    "duration": 147,
    "start_time": "2022-08-30T08:52:45.988Z"
   },
   {
    "duration": 251,
    "start_time": "2022-08-30T08:53:42.726Z"
   },
   {
    "duration": 130,
    "start_time": "2022-08-30T09:05:44.847Z"
   },
   {
    "duration": 15,
    "start_time": "2022-08-30T09:20:49.157Z"
   },
   {
    "duration": 1350,
    "start_time": "2022-08-30T09:28:16.855Z"
   },
   {
    "duration": 50,
    "start_time": "2022-08-30T09:28:18.207Z"
   },
   {
    "duration": 14,
    "start_time": "2022-08-30T09:28:18.258Z"
   },
   {
    "duration": 13,
    "start_time": "2022-08-30T09:28:18.274Z"
   },
   {
    "duration": 6,
    "start_time": "2022-08-30T09:28:18.290Z"
   },
   {
    "duration": 13,
    "start_time": "2022-08-30T09:28:18.298Z"
   },
   {
    "duration": 6,
    "start_time": "2022-08-30T09:28:18.312Z"
   },
   {
    "duration": 4,
    "start_time": "2022-08-30T09:28:18.319Z"
   },
   {
    "duration": 50,
    "start_time": "2022-08-30T09:28:18.324Z"
   },
   {
    "duration": 9,
    "start_time": "2022-08-30T09:28:18.376Z"
   },
   {
    "duration": 5,
    "start_time": "2022-08-30T09:28:18.387Z"
   },
   {
    "duration": 8,
    "start_time": "2022-08-30T09:28:18.393Z"
   },
   {
    "duration": 24,
    "start_time": "2022-08-30T09:28:18.402Z"
   },
   {
    "duration": 151,
    "start_time": "2022-08-30T09:28:18.429Z"
   },
   {
    "duration": 14,
    "start_time": "2022-08-30T09:28:18.581Z"
   },
   {
    "duration": 186,
    "start_time": "2022-08-30T09:28:18.597Z"
   },
   {
    "duration": 33,
    "start_time": "2022-08-30T09:28:18.785Z"
   },
   {
    "duration": 126,
    "start_time": "2022-08-30T09:28:18.819Z"
   },
   {
    "duration": 167,
    "start_time": "2022-08-30T09:28:18.947Z"
   },
   {
    "duration": 33,
    "start_time": "2022-08-30T09:28:19.116Z"
   },
   {
    "duration": 185,
    "start_time": "2022-08-30T09:28:19.150Z"
   },
   {
    "duration": 180,
    "start_time": "2022-08-30T09:28:19.338Z"
   },
   {
    "duration": 136,
    "start_time": "2022-08-30T09:28:19.520Z"
   },
   {
    "duration": 184,
    "start_time": "2022-08-30T09:28:19.658Z"
   },
   {
    "duration": 28,
    "start_time": "2022-08-30T09:28:19.843Z"
   },
   {
    "duration": 21,
    "start_time": "2022-08-30T09:28:19.872Z"
   },
   {
    "duration": 25,
    "start_time": "2022-08-30T09:28:19.895Z"
   },
   {
    "duration": 137,
    "start_time": "2022-08-30T09:28:19.922Z"
   },
   {
    "duration": 15,
    "start_time": "2022-08-30T09:28:20.068Z"
   },
   {
    "duration": 3998,
    "start_time": "2022-08-30T09:28:20.085Z"
   },
   {
    "duration": 2,
    "start_time": "2022-08-30T09:28:24.085Z"
   },
   {
    "duration": 131037,
    "start_time": "2022-08-30T09:28:24.089Z"
   },
   {
    "duration": 3,
    "start_time": "2022-08-30T09:30:35.127Z"
   },
   {
    "duration": 2840,
    "start_time": "2022-08-30T09:30:35.132Z"
   },
   {
    "duration": 92,
    "start_time": "2022-08-30T09:30:37.977Z"
   },
   {
    "duration": 62,
    "start_time": "2022-08-30T09:30:38.071Z"
   },
   {
    "duration": 141,
    "start_time": "2022-08-30T09:30:38.134Z"
   },
   {
    "duration": 146,
    "start_time": "2022-08-30T09:30:38.277Z"
   },
   {
    "duration": 3946,
    "start_time": "2022-08-30T09:30:38.425Z"
   },
   {
    "duration": 3,
    "start_time": "2022-08-30T09:30:42.373Z"
   },
   {
    "duration": 65442,
    "start_time": "2022-08-30T09:30:42.379Z"
   },
   {
    "duration": 2,
    "start_time": "2022-08-30T09:31:47.823Z"
   },
   {
    "duration": 2245,
    "start_time": "2022-08-30T09:31:47.827Z"
   },
   {
    "duration": 91,
    "start_time": "2022-08-30T09:31:50.077Z"
   },
   {
    "duration": 66,
    "start_time": "2022-08-30T09:31:50.170Z"
   },
   {
    "duration": 4,
    "start_time": "2022-08-30T09:31:50.237Z"
   },
   {
    "duration": 28,
    "start_time": "2022-08-30T09:31:50.243Z"
   },
   {
    "duration": 3,
    "start_time": "2022-08-30T09:31:50.273Z"
   },
   {
    "duration": 5156,
    "start_time": "2022-08-30T09:31:50.278Z"
   },
   {
    "duration": 3,
    "start_time": "2022-08-30T09:31:55.435Z"
   },
   {
    "duration": 99329,
    "start_time": "2022-08-30T09:31:55.439Z"
   },
   {
    "duration": 3,
    "start_time": "2022-08-30T09:33:34.769Z"
   },
   {
    "duration": 2802,
    "start_time": "2022-08-30T09:33:34.774Z"
   },
   {
    "duration": 88,
    "start_time": "2022-08-30T09:33:37.581Z"
   },
   {
    "duration": 68,
    "start_time": "2022-08-30T09:33:37.670Z"
   },
   {
    "duration": 3,
    "start_time": "2022-08-30T09:33:37.740Z"
   },
   {
    "duration": 22,
    "start_time": "2022-08-30T09:33:37.745Z"
   },
   {
    "duration": 3,
    "start_time": "2022-08-30T09:33:37.769Z"
   },
   {
    "duration": 1964,
    "start_time": "2022-08-30T09:33:37.773Z"
   },
   {
    "duration": 2,
    "start_time": "2022-08-30T09:33:39.739Z"
   },
   {
    "duration": 34370,
    "start_time": "2022-08-30T09:33:39.743Z"
   },
   {
    "duration": 3,
    "start_time": "2022-08-30T09:34:14.116Z"
   },
   {
    "duration": 1951,
    "start_time": "2022-08-30T09:34:14.128Z"
   },
   {
    "duration": 87,
    "start_time": "2022-08-30T09:34:16.082Z"
   },
   {
    "duration": 124,
    "start_time": "2022-08-30T09:34:16.171Z"
   },
   {
    "duration": 188,
    "start_time": "2022-08-30T09:34:16.297Z"
   },
   {
    "duration": 167,
    "start_time": "2022-08-30T09:34:16.487Z"
   },
   {
    "duration": 198,
    "start_time": "2022-08-30T09:34:16.657Z"
   },
   {
    "duration": 55,
    "start_time": "2022-09-01T13:37:02.395Z"
   },
   {
    "duration": 1493,
    "start_time": "2022-09-01T13:37:07.744Z"
   },
   {
    "duration": 97,
    "start_time": "2022-09-01T13:37:09.239Z"
   },
   {
    "duration": 14,
    "start_time": "2022-09-01T13:37:09.337Z"
   },
   {
    "duration": 13,
    "start_time": "2022-09-01T13:37:09.353Z"
   },
   {
    "duration": 7,
    "start_time": "2022-09-01T13:37:09.368Z"
   },
   {
    "duration": 17,
    "start_time": "2022-09-01T13:37:09.376Z"
   },
   {
    "duration": 6,
    "start_time": "2022-09-01T13:37:09.394Z"
   },
   {
    "duration": 4,
    "start_time": "2022-09-01T13:37:09.401Z"
   },
   {
    "duration": 12,
    "start_time": "2022-09-01T13:37:09.406Z"
   },
   {
    "duration": 10,
    "start_time": "2022-09-01T13:37:09.419Z"
   },
   {
    "duration": 6,
    "start_time": "2022-09-01T13:37:09.430Z"
   },
   {
    "duration": 9,
    "start_time": "2022-09-01T13:37:09.438Z"
   },
   {
    "duration": 55,
    "start_time": "2022-09-01T13:37:09.448Z"
   },
   {
    "duration": 120,
    "start_time": "2022-09-01T13:37:09.506Z"
   },
   {
    "duration": 14,
    "start_time": "2022-09-01T13:37:09.628Z"
   },
   {
    "duration": 183,
    "start_time": "2022-09-01T13:37:09.644Z"
   },
   {
    "duration": 32,
    "start_time": "2022-09-01T13:37:09.829Z"
   },
   {
    "duration": 124,
    "start_time": "2022-09-01T13:37:09.863Z"
   },
   {
    "duration": 170,
    "start_time": "2022-09-01T13:37:09.988Z"
   },
   {
    "duration": 45,
    "start_time": "2022-09-01T13:37:10.160Z"
   },
   {
    "duration": 185,
    "start_time": "2022-09-01T13:37:10.207Z"
   },
   {
    "duration": 157,
    "start_time": "2022-09-01T13:37:10.393Z"
   },
   {
    "duration": 119,
    "start_time": "2022-09-01T13:37:10.551Z"
   },
   {
    "duration": 188,
    "start_time": "2022-09-01T13:37:10.671Z"
   },
   {
    "duration": 16,
    "start_time": "2022-09-01T13:37:10.860Z"
   },
   {
    "duration": 27,
    "start_time": "2022-09-01T13:37:10.877Z"
   },
   {
    "duration": 27,
    "start_time": "2022-09-01T13:37:10.906Z"
   },
   {
    "duration": 129,
    "start_time": "2022-09-01T13:37:10.935Z"
   },
   {
    "duration": 23,
    "start_time": "2022-09-01T13:37:11.066Z"
   },
   {
    "duration": 3938,
    "start_time": "2022-09-01T13:37:11.091Z"
   },
   {
    "duration": 3,
    "start_time": "2022-09-01T13:37:15.030Z"
   },
   {
    "duration": 126921,
    "start_time": "2022-09-01T13:37:15.034Z"
   },
   {
    "duration": 3,
    "start_time": "2022-09-01T13:39:21.957Z"
   },
   {
    "duration": 3532,
    "start_time": "2022-09-01T13:39:21.961Z"
   },
   {
    "duration": 91,
    "start_time": "2022-09-01T13:39:25.496Z"
   },
   {
    "duration": 59,
    "start_time": "2022-09-01T13:39:25.589Z"
   },
   {
    "duration": 145,
    "start_time": "2022-09-01T13:39:25.688Z"
   },
   {
    "duration": 153,
    "start_time": "2022-09-01T13:39:25.834Z"
   },
   {
    "duration": 3969,
    "start_time": "2022-09-01T13:39:25.988Z"
   },
   {
    "duration": 2,
    "start_time": "2022-09-01T13:39:29.959Z"
   },
   {
    "duration": 65542,
    "start_time": "2022-09-01T13:39:29.966Z"
   },
   {
    "duration": 3,
    "start_time": "2022-09-01T13:40:35.510Z"
   },
   {
    "duration": 2980,
    "start_time": "2022-09-01T13:40:35.515Z"
   },
   {
    "duration": 92,
    "start_time": "2022-09-01T13:40:38.497Z"
   },
   {
    "duration": 158,
    "start_time": "2022-09-01T13:40:38.591Z"
   },
   {
    "duration": 3,
    "start_time": "2022-09-01T13:40:38.751Z"
   },
   {
    "duration": 11,
    "start_time": "2022-09-01T13:40:38.756Z"
   },
   {
    "duration": 7,
    "start_time": "2022-09-01T13:40:38.769Z"
   },
   {
    "duration": 5054,
    "start_time": "2022-09-01T13:40:38.788Z"
   },
   {
    "duration": 2,
    "start_time": "2022-09-01T13:40:43.844Z"
   },
   {
    "duration": 96520,
    "start_time": "2022-09-01T13:40:43.847Z"
   },
   {
    "duration": 2,
    "start_time": "2022-09-01T13:42:20.369Z"
   },
   {
    "duration": 3615,
    "start_time": "2022-09-01T13:42:20.373Z"
   },
   {
    "duration": 3,
    "start_time": "2022-09-01T13:42:23.990Z"
   },
   {
    "duration": 161,
    "start_time": "2022-09-01T13:42:23.995Z"
   },
   {
    "duration": 4,
    "start_time": "2022-09-01T13:42:24.157Z"
   },
   {
    "duration": 15,
    "start_time": "2022-09-01T13:42:24.163Z"
   },
   {
    "duration": 9,
    "start_time": "2022-09-01T13:42:24.179Z"
   },
   {
    "duration": 2001,
    "start_time": "2022-09-01T13:42:24.189Z"
   },
   {
    "duration": 3,
    "start_time": "2022-09-01T13:42:26.192Z"
   },
   {
    "duration": 33776,
    "start_time": "2022-09-01T13:42:26.197Z"
   },
   {
    "duration": 3,
    "start_time": "2022-09-01T13:42:59.974Z"
   },
   {
    "duration": 2511,
    "start_time": "2022-09-01T13:42:59.987Z"
   },
   {
    "duration": 3,
    "start_time": "2022-09-01T13:43:02.588Z"
   },
   {
    "duration": 137,
    "start_time": "2022-09-01T13:43:02.593Z"
   },
   {
    "duration": 197,
    "start_time": "2022-09-01T13:43:02.732Z"
   },
   {
    "duration": 139,
    "start_time": "2022-09-01T13:43:02.930Z"
   },
   {
    "duration": 176,
    "start_time": "2022-09-01T13:43:03.071Z"
   },
   {
    "duration": 19,
    "start_time": "2022-09-01T13:43:03.249Z"
   },
   {
    "duration": 269,
    "start_time": "2022-09-01T13:47:54.546Z"
   },
   {
    "duration": 109,
    "start_time": "2022-09-01T13:48:04.540Z"
   },
   {
    "duration": 9,
    "start_time": "2022-09-01T13:48:30.532Z"
   },
   {
    "duration": 9,
    "start_time": "2022-09-01T13:48:52.351Z"
   },
   {
    "duration": 108,
    "start_time": "2022-09-01T13:48:56.514Z"
   },
   {
    "duration": 10,
    "start_time": "2022-09-01T13:51:26.751Z"
   },
   {
    "duration": 25,
    "start_time": "2022-09-01T13:51:43.999Z"
   },
   {
    "duration": 25,
    "start_time": "2022-09-01T13:51:58.094Z"
   },
   {
    "duration": 41,
    "start_time": "2022-09-01T13:52:06.328Z"
   },
   {
    "duration": 23,
    "start_time": "2022-09-01T13:58:39.110Z"
   },
   {
    "duration": 118,
    "start_time": "2022-09-01T13:59:00.615Z"
   },
   {
    "duration": 4,
    "start_time": "2022-09-01T13:59:18.589Z"
   },
   {
    "duration": 9,
    "start_time": "2022-09-01T13:59:24.910Z"
   },
   {
    "duration": 9,
    "start_time": "2022-09-01T13:59:33.599Z"
   },
   {
    "duration": 4,
    "start_time": "2022-09-01T13:59:41.010Z"
   },
   {
    "duration": 158,
    "start_time": "2022-09-01T14:00:36.060Z"
   },
   {
    "duration": 132,
    "start_time": "2022-09-01T14:00:46.634Z"
   },
   {
    "duration": 35,
    "start_time": "2022-09-01T14:01:06.414Z"
   },
   {
    "duration": 132,
    "start_time": "2022-09-01T14:01:12.799Z"
   },
   {
    "duration": 125,
    "start_time": "2022-09-01T14:01:23.912Z"
   },
   {
    "duration": 123,
    "start_time": "2022-09-01T14:01:34.040Z"
   },
   {
    "duration": 6,
    "start_time": "2022-09-01T14:01:46.286Z"
   },
   {
    "duration": 3,
    "start_time": "2022-09-01T14:02:41.091Z"
   },
   {
    "duration": 127,
    "start_time": "2022-09-01T14:02:48.832Z"
   },
   {
    "duration": 120,
    "start_time": "2022-09-01T14:02:54.639Z"
   },
   {
    "duration": 130,
    "start_time": "2022-09-01T14:03:01.119Z"
   },
   {
    "duration": 23,
    "start_time": "2022-09-01T14:03:07.534Z"
   },
   {
    "duration": 129,
    "start_time": "2022-09-01T14:03:13.361Z"
   },
   {
    "duration": 4,
    "start_time": "2022-09-01T14:03:35.051Z"
   },
   {
    "duration": 4,
    "start_time": "2022-09-01T14:03:58.409Z"
   },
   {
    "duration": 5,
    "start_time": "2022-09-01T14:04:02.182Z"
   },
   {
    "duration": 212,
    "start_time": "2022-09-01T14:05:23.125Z"
   },
   {
    "duration": 166,
    "start_time": "2022-09-01T14:05:26.233Z"
   },
   {
    "duration": 4,
    "start_time": "2022-09-01T14:06:18.138Z"
   },
   {
    "duration": 4,
    "start_time": "2022-09-01T14:06:30.082Z"
   },
   {
    "duration": 3,
    "start_time": "2022-09-01T14:06:35.731Z"
   },
   {
    "duration": 4,
    "start_time": "2022-09-01T14:07:02.262Z"
   },
   {
    "duration": 146,
    "start_time": "2022-09-01T14:07:15.287Z"
   },
   {
    "duration": 148,
    "start_time": "2022-09-01T14:07:19.863Z"
   },
   {
    "duration": 145,
    "start_time": "2022-09-01T14:08:15.829Z"
   },
   {
    "duration": 137,
    "start_time": "2022-09-01T14:08:23.793Z"
   },
   {
    "duration": 1555,
    "start_time": "2022-09-29T15:00:03.524Z"
   },
   {
    "duration": 210,
    "start_time": "2022-09-29T15:00:05.082Z"
   },
   {
    "duration": 21,
    "start_time": "2022-09-29T15:00:05.296Z"
   },
   {
    "duration": 17,
    "start_time": "2022-09-29T15:00:05.320Z"
   },
   {
    "duration": 12,
    "start_time": "2022-09-29T15:00:05.339Z"
   },
   {
    "duration": 16,
    "start_time": "2022-09-29T15:00:05.353Z"
   },
   {
    "duration": 37,
    "start_time": "2022-09-29T15:00:05.370Z"
   },
   {
    "duration": 20,
    "start_time": "2022-09-29T15:00:05.410Z"
   },
   {
    "duration": 18,
    "start_time": "2022-09-29T15:00:05.432Z"
   },
   {
    "duration": 10,
    "start_time": "2022-09-29T15:00:05.451Z"
   },
   {
    "duration": 10,
    "start_time": "2022-09-29T15:00:05.463Z"
   },
   {
    "duration": 65,
    "start_time": "2022-09-29T15:00:05.474Z"
   },
   {
    "duration": 32,
    "start_time": "2022-09-29T15:00:05.541Z"
   },
   {
    "duration": 145,
    "start_time": "2022-09-29T15:00:05.576Z"
   },
   {
    "duration": 17,
    "start_time": "2022-09-29T15:00:05.725Z"
   },
   {
    "duration": 222,
    "start_time": "2022-09-29T15:00:05.744Z"
   },
   {
    "duration": 49,
    "start_time": "2022-09-29T15:00:05.968Z"
   },
   {
    "duration": 189,
    "start_time": "2022-09-29T15:00:06.019Z"
   },
   {
    "duration": 187,
    "start_time": "2022-09-29T15:00:06.209Z"
   },
   {
    "duration": 49,
    "start_time": "2022-09-29T15:00:06.397Z"
   },
   {
    "duration": 166,
    "start_time": "2022-09-29T15:00:06.448Z"
   },
   {
    "duration": 340,
    "start_time": "2022-09-29T15:00:06.621Z"
   },
   {
    "duration": 177,
    "start_time": "2022-09-29T15:00:06.964Z"
   },
   {
    "duration": 212,
    "start_time": "2022-09-29T15:00:07.145Z"
   },
   {
    "duration": 17,
    "start_time": "2022-09-29T15:00:07.359Z"
   },
   {
    "duration": 43,
    "start_time": "2022-09-29T15:00:07.378Z"
   },
   {
    "duration": 31,
    "start_time": "2022-09-29T15:00:07.423Z"
   },
   {
    "duration": 155,
    "start_time": "2022-09-29T15:00:07.456Z"
   },
   {
    "duration": 21,
    "start_time": "2022-09-29T15:00:07.612Z"
   },
   {
    "duration": 4532,
    "start_time": "2022-09-29T15:00:07.635Z"
   },
   {
    "duration": 3,
    "start_time": "2022-09-29T15:00:12.169Z"
   },
   {
    "duration": 1357,
    "start_time": "2022-10-06T14:42:57.374Z"
   },
   {
    "duration": 89,
    "start_time": "2022-10-06T14:42:58.733Z"
   },
   {
    "duration": 14,
    "start_time": "2022-10-06T14:42:58.823Z"
   },
   {
    "duration": 13,
    "start_time": "2022-10-06T14:42:58.838Z"
   },
   {
    "duration": 6,
    "start_time": "2022-10-06T14:42:58.854Z"
   },
   {
    "duration": 13,
    "start_time": "2022-10-06T14:42:58.861Z"
   },
   {
    "duration": 29,
    "start_time": "2022-10-06T14:42:58.876Z"
   },
   {
    "duration": 5,
    "start_time": "2022-10-06T14:42:58.906Z"
   },
   {
    "duration": 14,
    "start_time": "2022-10-06T14:42:58.913Z"
   },
   {
    "duration": 12,
    "start_time": "2022-10-06T14:42:58.929Z"
   },
   {
    "duration": 7,
    "start_time": "2022-10-06T14:42:58.942Z"
   },
   {
    "duration": 7,
    "start_time": "2022-10-06T14:42:58.951Z"
   },
   {
    "duration": 57,
    "start_time": "2022-10-06T14:42:58.960Z"
   },
   {
    "duration": 123,
    "start_time": "2022-10-06T14:42:59.020Z"
   },
   {
    "duration": 15,
    "start_time": "2022-10-06T14:42:59.144Z"
   },
   {
    "duration": 182,
    "start_time": "2022-10-06T14:42:59.160Z"
   },
   {
    "duration": 30,
    "start_time": "2022-10-06T14:42:59.343Z"
   },
   {
    "duration": 116,
    "start_time": "2022-10-06T14:42:59.374Z"
   },
   {
    "duration": 163,
    "start_time": "2022-10-06T14:42:59.491Z"
   },
   {
    "duration": 30,
    "start_time": "2022-10-06T14:42:59.655Z"
   },
   {
    "duration": 125,
    "start_time": "2022-10-06T14:42:59.686Z"
   },
   {
    "duration": 248,
    "start_time": "2022-10-06T14:42:59.813Z"
   },
   {
    "duration": 110,
    "start_time": "2022-10-06T14:43:00.063Z"
   },
   {
    "duration": 172,
    "start_time": "2022-10-06T14:43:00.175Z"
   },
   {
    "duration": 20,
    "start_time": "2022-10-06T14:43:00.349Z"
   },
   {
    "duration": 40,
    "start_time": "2022-10-06T14:43:00.371Z"
   },
   {
    "duration": 27,
    "start_time": "2022-10-06T14:43:00.414Z"
   },
   {
    "duration": 134,
    "start_time": "2022-10-06T14:43:00.443Z"
   },
   {
    "duration": 25,
    "start_time": "2022-10-06T14:43:00.579Z"
   },
   {
    "duration": 3855,
    "start_time": "2022-10-06T14:43:00.606Z"
   },
   {
    "duration": 3,
    "start_time": "2022-10-06T14:43:04.463Z"
   },
   {
    "duration": 121746,
    "start_time": "2022-10-06T14:43:04.468Z"
   },
   {
    "duration": 3,
    "start_time": "2022-10-06T14:45:06.216Z"
   },
   {
    "duration": 2794,
    "start_time": "2022-10-06T14:45:06.221Z"
   },
   {
    "duration": 4,
    "start_time": "2022-10-06T14:45:09.101Z"
   },
   {
    "duration": 146,
    "start_time": "2022-10-06T14:45:09.107Z"
   },
   {
    "duration": 173,
    "start_time": "2022-10-06T14:45:09.254Z"
   },
   {
    "duration": 159,
    "start_time": "2022-10-06T14:45:09.429Z"
   },
   {
    "duration": 4059,
    "start_time": "2022-10-06T14:45:09.590Z"
   },
   {
    "duration": 2,
    "start_time": "2022-10-06T14:45:13.651Z"
   },
   {
    "duration": 66452,
    "start_time": "2022-10-06T14:45:13.657Z"
   },
   {
    "duration": 3,
    "start_time": "2022-10-06T14:46:20.110Z"
   },
   {
    "duration": 2488,
    "start_time": "2022-10-06T14:46:20.114Z"
   },
   {
    "duration": 2,
    "start_time": "2022-10-06T14:46:22.604Z"
   },
   {
    "duration": 144,
    "start_time": "2022-10-06T14:46:22.608Z"
   },
   {
    "duration": 14,
    "start_time": "2022-10-06T14:46:22.754Z"
   },
   {
    "duration": 14,
    "start_time": "2022-10-06T14:46:22.769Z"
   },
   {
    "duration": 9,
    "start_time": "2022-10-06T14:46:22.785Z"
   },
   {
    "duration": 4982,
    "start_time": "2022-10-06T14:46:22.796Z"
   },
   {
    "duration": 2,
    "start_time": "2022-10-06T14:46:27.780Z"
   },
   {
    "duration": 94187,
    "start_time": "2022-10-06T14:46:27.784Z"
   },
   {
    "duration": 7,
    "start_time": "2022-10-06T14:48:01.972Z"
   },
   {
    "duration": 2533,
    "start_time": "2022-10-06T14:48:01.981Z"
   },
   {
    "duration": 5,
    "start_time": "2022-10-06T14:48:04.600Z"
   },
   {
    "duration": 155,
    "start_time": "2022-10-06T14:48:04.607Z"
   },
   {
    "duration": 3,
    "start_time": "2022-10-06T14:48:04.764Z"
   },
   {
    "duration": 17,
    "start_time": "2022-10-06T14:48:04.769Z"
   },
   {
    "duration": 3,
    "start_time": "2022-10-06T14:48:04.787Z"
   },
   {
    "duration": 1924,
    "start_time": "2022-10-06T14:48:04.800Z"
   },
   {
    "duration": 3,
    "start_time": "2022-10-06T14:48:06.726Z"
   },
   {
    "duration": 33251,
    "start_time": "2022-10-06T14:48:06.731Z"
   },
   {
    "duration": 3,
    "start_time": "2022-10-06T14:48:39.984Z"
   },
   {
    "duration": 2725,
    "start_time": "2022-10-06T14:48:39.988Z"
   },
   {
    "duration": 5,
    "start_time": "2022-10-06T14:48:42.799Z"
   },
   {
    "duration": 129,
    "start_time": "2022-10-06T14:48:42.806Z"
   },
   {
    "duration": 173,
    "start_time": "2022-10-06T14:48:42.936Z"
   },
   {
    "duration": 131,
    "start_time": "2022-10-06T14:48:43.111Z"
   },
   {
    "duration": 164,
    "start_time": "2022-10-06T14:48:43.243Z"
   },
   {
    "duration": 6,
    "start_time": "2022-10-06T14:48:43.409Z"
   },
   {
    "duration": 249,
    "start_time": "2022-10-06T14:48:43.417Z"
   },
   {
    "duration": 3,
    "start_time": "2022-10-06T14:48:43.667Z"
   },
   {
    "duration": 1436,
    "start_time": "2022-10-09T10:41:55.036Z"
   },
   {
    "duration": 90,
    "start_time": "2022-10-09T10:41:56.473Z"
   },
   {
    "duration": 14,
    "start_time": "2022-10-09T10:41:56.565Z"
   },
   {
    "duration": 14,
    "start_time": "2022-10-09T10:41:56.581Z"
   },
   {
    "duration": 7,
    "start_time": "2022-10-09T10:41:56.597Z"
   },
   {
    "duration": 26,
    "start_time": "2022-10-09T10:41:56.606Z"
   },
   {
    "duration": 10,
    "start_time": "2022-10-09T10:41:56.634Z"
   },
   {
    "duration": 5,
    "start_time": "2022-10-09T10:41:56.645Z"
   },
   {
    "duration": 12,
    "start_time": "2022-10-09T10:41:56.652Z"
   },
   {
    "duration": 12,
    "start_time": "2022-10-09T10:41:56.667Z"
   },
   {
    "duration": 6,
    "start_time": "2022-10-09T10:41:56.681Z"
   },
   {
    "duration": 7,
    "start_time": "2022-10-09T10:41:56.721Z"
   },
   {
    "duration": 33,
    "start_time": "2022-10-09T10:41:56.730Z"
   },
   {
    "duration": 129,
    "start_time": "2022-10-09T10:41:56.764Z"
   },
   {
    "duration": 31,
    "start_time": "2022-10-09T10:41:56.896Z"
   },
   {
    "duration": 199,
    "start_time": "2022-10-09T10:41:56.929Z"
   },
   {
    "duration": 36,
    "start_time": "2022-10-09T10:41:57.130Z"
   },
   {
    "duration": 142,
    "start_time": "2022-10-09T10:41:57.168Z"
   },
   {
    "duration": 189,
    "start_time": "2022-10-09T10:41:57.313Z"
   },
   {
    "duration": 44,
    "start_time": "2022-10-09T10:41:57.504Z"
   },
   {
    "duration": 122,
    "start_time": "2022-10-09T10:41:57.550Z"
   },
   {
    "duration": 247,
    "start_time": "2022-10-09T10:41:57.673Z"
   },
   {
    "duration": 122,
    "start_time": "2022-10-09T10:41:57.922Z"
   },
   {
    "duration": 186,
    "start_time": "2022-10-09T10:41:58.045Z"
   },
   {
    "duration": 17,
    "start_time": "2022-10-09T10:41:58.232Z"
   },
   {
    "duration": 51,
    "start_time": "2022-10-09T10:41:58.250Z"
   },
   {
    "duration": 43,
    "start_time": "2022-10-09T10:41:58.303Z"
   },
   {
    "duration": 124,
    "start_time": "2022-10-09T10:41:58.350Z"
   },
   {
    "duration": 16,
    "start_time": "2022-10-09T10:41:58.476Z"
   },
   {
    "duration": 4290,
    "start_time": "2022-10-09T10:41:58.494Z"
   },
   {
    "duration": 2,
    "start_time": "2022-10-09T10:42:02.786Z"
   },
   {
    "duration": 138562,
    "start_time": "2022-10-09T10:42:02.790Z"
   },
   {
    "duration": 2,
    "start_time": "2022-10-09T10:44:21.354Z"
   },
   {
    "duration": 3065,
    "start_time": "2022-10-09T10:44:21.358Z"
   },
   {
    "duration": 3,
    "start_time": "2022-10-09T10:44:24.425Z"
   },
   {
    "duration": 153,
    "start_time": "2022-10-09T10:44:24.430Z"
   },
   {
    "duration": 153,
    "start_time": "2022-10-09T10:44:24.585Z"
   },
   {
    "duration": 154,
    "start_time": "2022-10-09T10:44:24.740Z"
   },
   {
    "duration": 4224,
    "start_time": "2022-10-09T10:44:24.896Z"
   },
   {
    "duration": 3,
    "start_time": "2022-10-09T10:44:29.123Z"
   },
   {
    "duration": 72077,
    "start_time": "2022-10-09T10:44:29.128Z"
   },
   {
    "duration": 3,
    "start_time": "2022-10-09T10:45:41.207Z"
   },
   {
    "duration": 2506,
    "start_time": "2022-10-09T10:45:41.220Z"
   },
   {
    "duration": 90,
    "start_time": "2022-10-09T10:45:43.731Z"
   },
   {
    "duration": 79,
    "start_time": "2022-10-09T10:45:43.823Z"
   },
   {
    "duration": 3,
    "start_time": "2022-10-09T10:45:43.904Z"
   },
   {
    "duration": 18,
    "start_time": "2022-10-09T10:45:43.909Z"
   },
   {
    "duration": 10,
    "start_time": "2022-10-09T10:45:43.929Z"
   },
   {
    "duration": 5522,
    "start_time": "2022-10-09T10:45:43.940Z"
   },
   {
    "duration": 2,
    "start_time": "2022-10-09T10:45:49.465Z"
   },
   {
    "duration": 88004,
    "start_time": "2022-10-09T10:45:49.469Z"
   },
   {
    "duration": 0,
    "start_time": "2022-10-09T10:47:17.474Z"
   },
   {
    "duration": 0,
    "start_time": "2022-10-09T10:47:17.476Z"
   },
   {
    "duration": 0,
    "start_time": "2022-10-09T10:47:17.477Z"
   },
   {
    "duration": 0,
    "start_time": "2022-10-09T10:47:17.478Z"
   },
   {
    "duration": 0,
    "start_time": "2022-10-09T10:47:17.480Z"
   },
   {
    "duration": 0,
    "start_time": "2022-10-09T10:47:17.480Z"
   },
   {
    "duration": 0,
    "start_time": "2022-10-09T10:47:17.481Z"
   },
   {
    "duration": 0,
    "start_time": "2022-10-09T10:47:17.482Z"
   },
   {
    "duration": 0,
    "start_time": "2022-10-09T10:47:17.482Z"
   },
   {
    "duration": 0,
    "start_time": "2022-10-09T10:47:17.483Z"
   },
   {
    "duration": 0,
    "start_time": "2022-10-09T10:47:17.484Z"
   },
   {
    "duration": 0,
    "start_time": "2022-10-09T10:47:17.484Z"
   },
   {
    "duration": 0,
    "start_time": "2022-10-09T10:47:17.522Z"
   },
   {
    "duration": 0,
    "start_time": "2022-10-09T10:47:17.523Z"
   },
   {
    "duration": 0,
    "start_time": "2022-10-09T10:47:17.524Z"
   },
   {
    "duration": 0,
    "start_time": "2022-10-09T10:47:17.526Z"
   },
   {
    "duration": 0,
    "start_time": "2022-10-09T10:47:17.527Z"
   },
   {
    "duration": 0,
    "start_time": "2022-10-09T10:47:17.528Z"
   },
   {
    "duration": 0,
    "start_time": "2022-10-09T10:47:17.530Z"
   },
   {
    "duration": 0,
    "start_time": "2022-10-09T10:47:17.530Z"
   }
  ],
  "kernelspec": {
   "display_name": "Python 3 (ipykernel)",
   "language": "python",
   "name": "python3"
  },
  "language_info": {
   "codemirror_mode": {
    "name": "ipython",
    "version": 3
   },
   "file_extension": ".py",
   "mimetype": "text/x-python",
   "name": "python",
   "nbconvert_exporter": "python",
   "pygments_lexer": "ipython3",
   "version": "3.9.7"
  },
  "toc": {
   "base_numbering": 1,
   "nav_menu": {},
   "number_sections": true,
   "sideBar": true,
   "skip_h1_title": true,
   "title_cell": "Содержание",
   "title_sidebar": "Contents",
   "toc_cell": true,
   "toc_position": {
    "height": "calc(100% - 180px)",
    "left": "10px",
    "top": "150px",
    "width": "318.188px"
   },
   "toc_section_display": true,
   "toc_window_display": true
  }
 },
 "nbformat": 4,
 "nbformat_minor": 2
}
